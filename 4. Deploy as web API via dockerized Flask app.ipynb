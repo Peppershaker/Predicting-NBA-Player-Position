{
 "cells": [
  {
   "cell_type": "code",
   "execution_count": 1,
   "metadata": {},
   "outputs": [],
   "source": [
    "__author__ = \"Victor Xu\"\n",
    "__email__ = \"victor.c.xu@gmail.com\"\n",
    "__website__ = \"victorxu.me\"\n",
    "\n",
    "__copyright__ = \"Copyright 2019, Victor Xu\""
   ]
  },
  {
   "cell_type": "markdown",
   "metadata": {},
   "source": [
    "## Deployment\n",
    "\n",
    "Please run the startup script to build and run the docker container. The API is exposed on port 80 and is reachable via **POST** requests.\n",
    "\n",
    "#### Building & running the Docker container\n",
    "\n",
    "In Terminal, type `source build_and_run.sh`"
   ]
  },
  {
   "cell_type": "markdown",
   "metadata": {},
   "source": [
    "## Calling the API"
   ]
  },
  {
   "cell_type": "code",
   "execution_count": 2,
   "metadata": {},
   "outputs": [],
   "source": [
    "import requests\n",
    "import pandas as pd\n",
    "\n",
    "from src.player_stat import get_player_stat"
   ]
  },
  {
   "cell_type": "markdown",
   "metadata": {},
   "source": [
    "#### Players we're testing\n",
    "\n",
    "| Name | NBA ID   | Position |Note|\n",
    "|------|------|------|------|\n",
    "|Lebron James|2544|Small Forward|Play style not bound by position label|\n",
    "|Pascal Siakam|1627783|Power Forward|Standard power foward|\n",
    "|DeMarcus Cousins|202326|Center|Standard center|\n",
    "|Damian Lillard|203081|Point Guard|Standard point guard|\n",
    "|Anfernee Simons|1629014|Shooting Guard|Rookie with little data|\n",
    "\n",
    "#### Grabbing the data from NBA api and pipe through ETL"
   ]
  },
  {
   "cell_type": "code",
   "execution_count": 3,
   "metadata": {},
   "outputs": [],
   "source": [
    "def test_api():\n",
    "    \"\"\"This function is a variation of the flask unit test.\n",
    "    \n",
    "    It calls the API and compares the predicted and ground truth label\n",
    "    \"\"\"\n",
    "    \n",
    "    \n",
    "    player_ids_to_test = ['2544','1627783','202326','203081','1629014']\n",
    "    \n",
    "    player_names = ['Lebron James', \n",
    "                    'Pascal Siakam', \n",
    "                    'DeMarcus Cousins', \n",
    "                    'Damian Lillard', \n",
    "                    'Anfernee Simons']\n",
    "    \n",
    "    label_encoder_dict = dict([\n",
    "        (\"C\",0),\n",
    "        (\"PG\",1),\n",
    "        (\"SG\",2),\n",
    "        (\"SF\",3),\n",
    "        (\"PF\",4)])\n",
    "    \n",
    "    player_labels = ['SF', 'PF', 'C', 'PG', 'SG']\n",
    "    player_labels_int = [label_encoder_dict[label] for label in player_labels]\n",
    "\n",
    "    \n",
    "    # Making the API call\n",
    "    header = {'Content-Type': 'application/json', \n",
    "              'Accept': 'application/json'}\n",
    "\n",
    "    # IP of the docker container running the predict service\n",
    "    request_url = \"http://127.0.0.1:80/predict\"\n",
    "    \n",
    "    results = []\n",
    "\n",
    "    for name, pid, label in zip(player_names, player_ids_to_test, player_labels_int):\n",
    "        \n",
    "        player_test_data = get_player_stat(pid).to_json(orient='records')\n",
    "        \n",
    "        # Make the request to our dockerized model\n",
    "        r = requests.post(request_url, data=player_test_data, headers=header)\n",
    "        \n",
    "        print(\"Response in JSON:\", r.content)\n",
    "        \n",
    "        predicted_label = pd.read_json(r.content).values[0][0]\n",
    "        \n",
    "        results.append([name, label, predicted_label])\n",
    "        \n",
    "    # Construct the result dataframe\n",
    "    result_df = pd.DataFrame(results, columns=['Name','Ground Truth', 'Predicted'])  \n",
    "    \n",
    "    label_encoder_dict_rev = dict([\n",
    "        (0, \"C\"),\n",
    "        (1, \"PG\"),\n",
    "        (2, \"SG\"),\n",
    "        (3, \"SF\"),\n",
    "        (4, \"PF\")])\n",
    "    \n",
    "    for col in ['Ground Truth', 'Predicted']:\n",
    "        result_df[col] = result_df[col].map(label_encoder_dict_rev)\n",
    "        \n",
    "    return result_df "
   ]
  },
  {
   "cell_type": "code",
   "execution_count": 4,
   "metadata": {},
   "outputs": [
    {
     "name": "stdout",
     "output_type": "stream",
     "text": [
      "Response in JSON: b'[{\"y_pred\":1}]'\n",
      "Response in JSON: b'[{\"y_pred\":4}]'\n",
      "Response in JSON: b'[{\"y_pred\":0}]'\n",
      "Response in JSON: b'[{\"y_pred\":1}]'\n",
      "Response in JSON: b'[{\"y_pred\":2}]'\n"
     ]
    },
    {
     "data": {
      "text/html": [
       "<div>\n",
       "<style scoped>\n",
       "    .dataframe tbody tr th:only-of-type {\n",
       "        vertical-align: middle;\n",
       "    }\n",
       "\n",
       "    .dataframe tbody tr th {\n",
       "        vertical-align: top;\n",
       "    }\n",
       "\n",
       "    .dataframe thead th {\n",
       "        text-align: right;\n",
       "    }\n",
       "</style>\n",
       "<table border=\"1\" class=\"dataframe\">\n",
       "  <thead>\n",
       "    <tr style=\"text-align: right;\">\n",
       "      <th></th>\n",
       "      <th>Name</th>\n",
       "      <th>Ground Truth</th>\n",
       "      <th>Predicted</th>\n",
       "    </tr>\n",
       "  </thead>\n",
       "  <tbody>\n",
       "    <tr>\n",
       "      <th>0</th>\n",
       "      <td>Lebron James</td>\n",
       "      <td>SF</td>\n",
       "      <td>PG</td>\n",
       "    </tr>\n",
       "    <tr>\n",
       "      <th>1</th>\n",
       "      <td>Pascal Siakam</td>\n",
       "      <td>PF</td>\n",
       "      <td>PF</td>\n",
       "    </tr>\n",
       "    <tr>\n",
       "      <th>2</th>\n",
       "      <td>DeMarcus Cousins</td>\n",
       "      <td>C</td>\n",
       "      <td>C</td>\n",
       "    </tr>\n",
       "    <tr>\n",
       "      <th>3</th>\n",
       "      <td>Damian Lillard</td>\n",
       "      <td>PG</td>\n",
       "      <td>PG</td>\n",
       "    </tr>\n",
       "    <tr>\n",
       "      <th>4</th>\n",
       "      <td>Anfernee Simons</td>\n",
       "      <td>SG</td>\n",
       "      <td>SG</td>\n",
       "    </tr>\n",
       "  </tbody>\n",
       "</table>\n",
       "</div>"
      ],
      "text/plain": [
       "               Name Ground Truth Predicted\n",
       "0      Lebron James           SF        PG\n",
       "1     Pascal Siakam           PF        PF\n",
       "2  DeMarcus Cousins            C         C\n",
       "3    Damian Lillard           PG        PG\n",
       "4   Anfernee Simons           SG        SG"
      ]
     },
     "execution_count": 4,
     "metadata": {},
     "output_type": "execute_result"
    }
   ],
   "source": [
    "test_api()"
   ]
  }
 ],
 "metadata": {
  "kernelspec": {
   "display_name": "python3.7",
   "language": "python",
   "name": "python3.7"
  },
  "language_info": {
   "codemirror_mode": {
    "name": "ipython",
    "version": 3
   },
   "file_extension": ".py",
   "mimetype": "text/x-python",
   "name": "python",
   "nbconvert_exporter": "python",
   "pygments_lexer": "ipython3",
   "version": "3.7.3"
  }
 },
 "nbformat": 4,
 "nbformat_minor": 2
}
