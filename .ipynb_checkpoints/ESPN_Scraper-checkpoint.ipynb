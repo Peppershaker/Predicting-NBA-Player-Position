{
 "cells": [
  {
   "cell_type": "code",
   "execution_count": 15,
   "metadata": {},
   "outputs": [],
   "source": [
    "from src.espn_scraper import espn_player_scraper\n",
    "from sqlalchemy import create_engine, Integer"
   ]
  },
  {
   "cell_type": "markdown",
   "metadata": {},
   "source": [
    "### Scrape and Load to DB"
   ]
  },
  {
   "cell_type": "code",
   "execution_count": 3,
   "metadata": {},
   "outputs": [
    {
     "name": "stderr",
     "output_type": "stream",
     "text": [
      "100%|██████████| 30/30 [00:23<00:00,  1.33it/s]\n"
     ]
    }
   ],
   "source": [
    "# Initialize the db. Relatively small dataset, so we'll use SQLite\n",
    "engine = create_engine(\"sqlite:///db/nba.db\", echo=False)\n",
    "\n",
    "teams_overview_url = \"http://www.espn.com/nba/players\"\n",
    "scraper = espn_player_scraper()\n",
    "player_df = scraper.scrape_all_players(teams_overview_url)"
   ]
  },
  {
   "cell_type": "code",
   "execution_count": 4,
   "metadata": {
    "scrolled": true
   },
   "outputs": [
    {
     "data": {
      "text/html": [
       "<div>\n",
       "<style scoped>\n",
       "    .dataframe tbody tr th:only-of-type {\n",
       "        vertical-align: middle;\n",
       "    }\n",
       "\n",
       "    .dataframe tbody tr th {\n",
       "        vertical-align: top;\n",
       "    }\n",
       "\n",
       "    .dataframe thead th {\n",
       "        text-align: right;\n",
       "    }\n",
       "</style>\n",
       "<table border=\"1\" class=\"dataframe\">\n",
       "  <thead>\n",
       "    <tr style=\"text-align: right;\">\n",
       "      <th></th>\n",
       "      <th>name</th>\n",
       "      <th>position</th>\n",
       "      <th>espn_player_id</th>\n",
       "      <th>url</th>\n",
       "    </tr>\n",
       "  </thead>\n",
       "  <tbody>\n",
       "    <tr>\n",
       "      <th>0</th>\n",
       "      <td>Aron Baynes</td>\n",
       "      <td>C</td>\n",
       "      <td>2968439</td>\n",
       "      <td>http://www.espn.com/nba/player/_/id/2968439/ar...</td>\n",
       "    </tr>\n",
       "    <tr>\n",
       "      <th>1</th>\n",
       "      <td>Jaylen Brown</td>\n",
       "      <td>SG</td>\n",
       "      <td>3917376</td>\n",
       "      <td>http://www.espn.com/nba/player/_/id/3917376/ja...</td>\n",
       "    </tr>\n",
       "    <tr>\n",
       "      <th>2</th>\n",
       "      <td>PJ Dozier</td>\n",
       "      <td>PG</td>\n",
       "      <td>3923250</td>\n",
       "      <td>http://www.espn.com/nba/player/_/id/3923250/pj...</td>\n",
       "    </tr>\n",
       "    <tr>\n",
       "      <th>3</th>\n",
       "      <td>Jonathan Gibson</td>\n",
       "      <td>PG</td>\n",
       "      <td>2234666</td>\n",
       "      <td>http://www.espn.com/nba/player/_/id/2234666/jo...</td>\n",
       "    </tr>\n",
       "    <tr>\n",
       "      <th>4</th>\n",
       "      <td>Gordon Hayward</td>\n",
       "      <td>SF</td>\n",
       "      <td>4249</td>\n",
       "      <td>http://www.espn.com/nba/player/_/id/4249/gordo...</td>\n",
       "    </tr>\n",
       "  </tbody>\n",
       "</table>\n",
       "</div>"
      ],
      "text/plain": [
       "              name position espn_player_id  \\\n",
       "0      Aron Baynes        C        2968439   \n",
       "1     Jaylen Brown       SG        3917376   \n",
       "2        PJ Dozier       PG        3923250   \n",
       "3  Jonathan Gibson       PG        2234666   \n",
       "4   Gordon Hayward       SF           4249   \n",
       "\n",
       "                                                 url  \n",
       "0  http://www.espn.com/nba/player/_/id/2968439/ar...  \n",
       "1  http://www.espn.com/nba/player/_/id/3917376/ja...  \n",
       "2  http://www.espn.com/nba/player/_/id/3923250/pj...  \n",
       "3  http://www.espn.com/nba/player/_/id/2234666/jo...  \n",
       "4  http://www.espn.com/nba/player/_/id/4249/gordo...  "
      ]
     },
     "execution_count": 4,
     "metadata": {},
     "output_type": "execute_result"
    }
   ],
   "source": [
    "player_df.head()"
   ]
  },
  {
   "cell_type": "code",
   "execution_count": 12,
   "metadata": {},
   "outputs": [],
   "source": [
    "# Load to DB\n",
    "with engine.connect() as conn:\n",
    "    player_df.to_sql('players', conn, dtype={\"espn_player_id\":Integer}, if_exists=\"replace\")"
   ]
  },
  {
   "cell_type": "code",
   "execution_count": null,
   "metadata": {},
   "outputs": [],
   "source": []
  }
 ],
 "metadata": {
  "kernelspec": {
   "display_name": "Python 3",
   "language": "python",
   "name": "python3"
  },
  "language_info": {
   "codemirror_mode": {
    "name": "ipython",
    "version": 3
   },
   "file_extension": ".py",
   "mimetype": "text/x-python",
   "name": "python",
   "nbconvert_exporter": "python",
   "pygments_lexer": "ipython3",
   "version": "3.6.8"
  }
 },
 "nbformat": 4,
 "nbformat_minor": 2
}
