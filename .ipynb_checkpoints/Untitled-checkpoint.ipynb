{
 "cells": [
  {
   "cell_type": "code",
   "execution_count": 2,
   "metadata": {
    "ExecuteTime": {
     "end_time": "2019-05-31T17:30:27.729635Z",
     "start_time": "2019-05-31T17:30:27.370109Z"
    }
   },
   "outputs": [],
   "source": [
    "import sys\n",
    "sys.path.append('/Users/victor/Documents/code/nba_api')\n",
    "\n",
    "from nba_py import player\n",
    "import pandas as pd"
   ]
  },
  {
   "cell_type": "markdown",
   "metadata": {},
   "source": [
    "## Getting Shots and Block Data"
   ]
  },
  {
   "cell_type": "code",
   "execution_count": 3,
   "metadata": {
    "ExecuteTime": {
     "end_time": "2019-05-31T17:30:29.786409Z",
     "start_time": "2019-05-31T17:30:29.543223Z"
    }
   },
   "outputs": [],
   "source": [
    "player_id = 1629116\n",
    "\n",
    "# The PlayerShootingSplits NBA end point is the one we will be using\n",
    "# It returns shooting and blocking stats grouped by location on court\n",
    "player.PlayerShootingSplits(player_id).shot_areas()\n",
    "\n",
    "# Sometimes a new player will not have stats. \n",
    "class NoDataError(Exception):\n",
    "    pass"
   ]
  },
  {
   "cell_type": "code",
   "execution_count": 4,
   "metadata": {
    "ExecuteTime": {
     "end_time": "2019-05-31T17:30:30.762773Z",
     "start_time": "2019-05-31T17:30:30.551489Z"
    }
   },
   "outputs": [],
   "source": [
    "# Extracting shooting and blocking columns\n",
    "player_shot_block_raw = player.PlayerShootingSplits(player_id).shot_areas()\n",
    "if player_shot_block_raw.shape[0] == 0:\n",
    "    raise NoDataError(\"No data for {}\".format(player_id))\n",
    "\n",
    "player_shot_and_block_by_area = player_shot_block_raw.T\n",
    "player_shot_and_block_by_area.columns = player_shot_and_block_by_area.loc['GROUP_VALUE']\n",
    "player_shot_and_block_by_area = player_shot_and_block_by_area.loc[['FGA','BLKA'], \"Restricted Area\":\"Above the Break 3\"]"
   ]
  },
  {
   "cell_type": "code",
   "execution_count": 5,
   "metadata": {
    "ExecuteTime": {
     "end_time": "2019-05-31T17:30:31.463155Z",
     "start_time": "2019-05-31T17:30:31.447595Z"
    }
   },
   "outputs": [
    {
     "data": {
      "text/html": [
       "<div>\n",
       "<style scoped>\n",
       "    .dataframe tbody tr th:only-of-type {\n",
       "        vertical-align: middle;\n",
       "    }\n",
       "\n",
       "    .dataframe tbody tr th {\n",
       "        vertical-align: top;\n",
       "    }\n",
       "\n",
       "    .dataframe thead th {\n",
       "        text-align: right;\n",
       "    }\n",
       "</style>\n",
       "<table border=\"1\" class=\"dataframe\">\n",
       "  <thead>\n",
       "    <tr style=\"text-align: right;\">\n",
       "      <th>GROUP_VALUE</th>\n",
       "      <th>Restricted Area</th>\n",
       "      <th>In The Paint (Non-RA)</th>\n",
       "      <th>Mid-Range</th>\n",
       "      <th>Left Corner 3</th>\n",
       "      <th>Above the Break 3</th>\n",
       "    </tr>\n",
       "  </thead>\n",
       "  <tbody>\n",
       "    <tr>\n",
       "      <th>FGA</th>\n",
       "      <td>4</td>\n",
       "      <td>1</td>\n",
       "      <td>0</td>\n",
       "      <td>0</td>\n",
       "      <td>0</td>\n",
       "    </tr>\n",
       "    <tr>\n",
       "      <th>BLKA</th>\n",
       "      <td>1</td>\n",
       "      <td>1</td>\n",
       "      <td>0</td>\n",
       "      <td>0</td>\n",
       "      <td>0</td>\n",
       "    </tr>\n",
       "  </tbody>\n",
       "</table>\n",
       "</div>"
      ],
      "text/plain": [
       "GROUP_VALUE Restricted Area In The Paint (Non-RA) Mid-Range Left Corner 3  \\\n",
       "FGA                       4                     1         0             0   \n",
       "BLKA                      1                     1         0             0   \n",
       "\n",
       "GROUP_VALUE Above the Break 3  \n",
       "FGA                         0  \n",
       "BLKA                        0  "
      ]
     },
     "execution_count": 5,
     "metadata": {},
     "output_type": "execute_result"
    }
   ],
   "source": [
    "player_shot_and_block_by_area"
   ]
  },
  {
   "cell_type": "code",
   "execution_count": 6,
   "metadata": {
    "ExecuteTime": {
     "end_time": "2019-05-31T17:30:34.043847Z",
     "start_time": "2019-05-31T17:30:34.039112Z"
    }
   },
   "outputs": [],
   "source": [
    "player_shot_by_area = player_shot_and_block_by_area.loc[[\"FGA\"],:]\n",
    "player_block_by_area = player_shot_and_block_by_area.loc[[\"BLKA\"],:]"
   ]
  },
  {
   "cell_type": "code",
   "execution_count": 9,
   "metadata": {
    "ExecuteTime": {
     "end_time": "2019-05-31T17:34:38.175518Z",
     "start_time": "2019-05-31T17:34:38.170145Z"
    },
    "scrolled": true
   },
   "outputs": [
    {
     "ename": "SyntaxError",
     "evalue": "invalid syntax (<ipython-input-9-e3a27a9ed3c6>, line 7)",
     "output_type": "error",
     "traceback": [
      "\u001b[0;36m  File \u001b[0;32m\"<ipython-input-9-e3a27a9ed3c6>\"\u001b[0;36m, line \u001b[0;32m7\u001b[0m\n\u001b[0;31m    \"Mid-Range\":}\u001b[0m\n\u001b[0m                ^\u001b[0m\n\u001b[0;31mSyntaxError\u001b[0m\u001b[0;31m:\u001b[0m invalid syntax\n"
     ]
    }
   ],
   "source": [
    "# Use a dict to map old col name to new col name, using dict is required\n",
    "# because the API sometimes returns inconsistent column order and number of cols\n",
    "shot_col_map = {\"Restricted Area\":'shot_res',\n",
    "               \"In The Paint (Non-RA)\":'shot_in_paint',\n",
    "               \"Mid-Range\":'shot_mid_range',\n",
    "               'Left Corner 3':'shot_lcorner_3',\n",
    "               'Right Corner 3':'shot_rcorner_3',\n",
    "               'Above the Break 3':'shot_above_3'}\n",
    "\n",
    "block_col_map = {\"Restricted Area\":'block_res',\n",
    "               \"In The Paint (Non-RA)\":'block_in_paint',\n",
    "               \"Mid-Range\":'block_mid_range',\n",
    "               'Left Corner 3':'block_lcorner_3',\n",
    "               'Right Corner 3':'block_rcorner_3',\n",
    "               'Above the Break 3':'block_above_3'}\n",
    "\n",
    "# Applying the column name map\n",
    "player_shot_by_area = player_shot_by_area.rename(columns=shot_col_map)\n",
    "player_block_by_area = player_block_by_area.rename(columns=block_col_map)\n",
    "\n",
    "# Total attempted shots and blocks\n",
    "total_shots = player_shot_by_area.loc['FGA',:].sum()\n",
    "total_blocks = player_block_by_area.loc['BLKA',:].sum()\n",
    "\n",
    "# Normalize all stats by total shots to get relative frequencies for each player\n",
    "player_shot_by_area /= total_shots + 1e-5\n",
    "player_block_by_area /= total_blocks + 1e-5"
   ]
  },
  {
   "cell_type": "code",
   "execution_count": 11,
   "metadata": {
    "ExecuteTime": {
     "end_time": "2019-05-31T16:47:32.818659Z",
     "start_time": "2019-05-31T16:47:32.814756Z"
    }
   },
   "outputs": [],
   "source": [
    "# Record total attempted shots and blocks\n",
    "player_shot_by_area['fga'] = total_shots\n",
    "player_block_by_area['blka'] = total_blocks"
   ]
  },
  {
   "cell_type": "code",
   "execution_count": 12,
   "metadata": {
    "ExecuteTime": {
     "end_time": "2019-05-31T16:47:33.330755Z",
     "start_time": "2019-05-31T16:47:33.319086Z"
    }
   },
   "outputs": [
    {
     "data": {
      "text/html": [
       "<div>\n",
       "<style scoped>\n",
       "    .dataframe tbody tr th:only-of-type {\n",
       "        vertical-align: middle;\n",
       "    }\n",
       "\n",
       "    .dataframe tbody tr th {\n",
       "        vertical-align: top;\n",
       "    }\n",
       "\n",
       "    .dataframe thead th {\n",
       "        text-align: right;\n",
       "    }\n",
       "</style>\n",
       "<table border=\"1\" class=\"dataframe\">\n",
       "  <thead>\n",
       "    <tr style=\"text-align: right;\">\n",
       "      <th></th>\n",
       "      <th>res_shot</th>\n",
       "      <th>in_paint_shot</th>\n",
       "      <th>mid_range_shot</th>\n",
       "      <th>l_corner3_shot</th>\n",
       "      <th>r_corner3_shot</th>\n",
       "      <th>above_break3_shot</th>\n",
       "      <th>fga</th>\n",
       "    </tr>\n",
       "  </thead>\n",
       "  <tbody>\n",
       "    <tr>\n",
       "      <th>FGA</th>\n",
       "      <td>0.33333</td>\n",
       "      <td>0.190474</td>\n",
       "      <td>0.0952371</td>\n",
       "      <td>0</td>\n",
       "      <td>0.0952371</td>\n",
       "      <td>0.285711</td>\n",
       "      <td>1.0</td>\n",
       "    </tr>\n",
       "  </tbody>\n",
       "</table>\n",
       "</div>"
      ],
      "text/plain": [
       "    res_shot in_paint_shot mid_range_shot l_corner3_shot r_corner3_shot  \\\n",
       "FGA  0.33333      0.190474      0.0952371              0      0.0952371   \n",
       "\n",
       "    above_break3_shot  fga  \n",
       "FGA          0.285711  1.0  "
      ]
     },
     "execution_count": 12,
     "metadata": {},
     "output_type": "execute_result"
    }
   ],
   "source": [
    "player_shot_by_area"
   ]
  },
  {
   "cell_type": "code",
   "execution_count": 13,
   "metadata": {
    "ExecuteTime": {
     "end_time": "2019-05-31T16:47:40.386301Z",
     "start_time": "2019-05-31T16:47:40.375974Z"
    },
    "scrolled": true
   },
   "outputs": [
    {
     "data": {
      "text/html": [
       "<div>\n",
       "<style scoped>\n",
       "    .dataframe tbody tr th:only-of-type {\n",
       "        vertical-align: middle;\n",
       "    }\n",
       "\n",
       "    .dataframe tbody tr th {\n",
       "        vertical-align: top;\n",
       "    }\n",
       "\n",
       "    .dataframe thead th {\n",
       "        text-align: right;\n",
       "    }\n",
       "</style>\n",
       "<table border=\"1\" class=\"dataframe\">\n",
       "  <thead>\n",
       "    <tr style=\"text-align: right;\">\n",
       "      <th></th>\n",
       "      <th>res_block</th>\n",
       "      <th>in_paint_block</th>\n",
       "      <th>mid_range_block</th>\n",
       "      <th>l_corner3_block</th>\n",
       "      <th>r_corner3_block</th>\n",
       "      <th>above_break3_block</th>\n",
       "      <th>blka</th>\n",
       "    </tr>\n",
       "  </thead>\n",
       "  <tbody>\n",
       "    <tr>\n",
       "      <th>BLKA</th>\n",
       "      <td>0</td>\n",
       "      <td>0</td>\n",
       "      <td>0</td>\n",
       "      <td>0</td>\n",
       "      <td>0</td>\n",
       "      <td>0</td>\n",
       "      <td>0</td>\n",
       "    </tr>\n",
       "  </tbody>\n",
       "</table>\n",
       "</div>"
      ],
      "text/plain": [
       "     res_block in_paint_block mid_range_block l_corner3_block r_corner3_block  \\\n",
       "BLKA         0              0               0               0               0   \n",
       "\n",
       "     above_break3_block  blka  \n",
       "BLKA                  0     0  "
      ]
     },
     "execution_count": 13,
     "metadata": {},
     "output_type": "execute_result"
    }
   ],
   "source": [
    "player_block_by_area"
   ]
  },
  {
   "cell_type": "markdown",
   "metadata": {},
   "source": [
    "## Getting Rebound, Assist and Steal Data\n",
    "This one is a bit more tricky to normalize, because the stats has 2 components.\n",
    "\n",
    "1) Player specific component: where a better player is going to get a higher stat regardless of the position they play\n",
    "\n",
    "2) Position specific compoment: where the position a player plays has systemic influence on his rebound and assist stats. For example, a center will always have more rebounds than anyone else on the team. Similarily, a point guard who's job is to manage the offense, will often have the most assist in a match.\n",
    "\n",
    "We will record the stats as-is, and preprocess them in a pipeline during training time."
   ]
  },
  {
   "cell_type": "code",
   "execution_count": 23,
   "metadata": {
    "ExecuteTime": {
     "end_time": "2019-05-31T16:14:07.381901Z",
     "start_time": "2019-05-31T16:14:06.162899Z"
    }
   },
   "outputs": [
    {
     "data": {
      "text/html": [
       "<div>\n",
       "<style scoped>\n",
       "    .dataframe tbody tr th:only-of-type {\n",
       "        vertical-align: middle;\n",
       "    }\n",
       "\n",
       "    .dataframe tbody tr th {\n",
       "        vertical-align: top;\n",
       "    }\n",
       "\n",
       "    .dataframe thead th {\n",
       "        text-align: right;\n",
       "    }\n",
       "</style>\n",
       "<table border=\"1\" class=\"dataframe\">\n",
       "  <thead>\n",
       "    <tr style=\"text-align: right;\">\n",
       "      <th></th>\n",
       "      <th>GROUP_SET</th>\n",
       "      <th>GROUP_VALUE</th>\n",
       "      <th>TEAM_ID</th>\n",
       "      <th>TEAM_ABBREVIATION</th>\n",
       "      <th>MAX_GAME_DATE</th>\n",
       "      <th>GP</th>\n",
       "      <th>W</th>\n",
       "      <th>L</th>\n",
       "      <th>W_PCT</th>\n",
       "      <th>MIN</th>\n",
       "      <th>...</th>\n",
       "      <th>BLKA_RANK</th>\n",
       "      <th>PF_RANK</th>\n",
       "      <th>PFD_RANK</th>\n",
       "      <th>PTS_RANK</th>\n",
       "      <th>PLUS_MINUS_RANK</th>\n",
       "      <th>NBA_FANTASY_PTS_RANK</th>\n",
       "      <th>DD2_RANK</th>\n",
       "      <th>TD3_RANK</th>\n",
       "      <th>CFID</th>\n",
       "      <th>CFPARAMS</th>\n",
       "    </tr>\n",
       "  </thead>\n",
       "  <tbody>\n",
       "    <tr>\n",
       "      <th>0</th>\n",
       "      <td>By Year</td>\n",
       "      <td>2018-19</td>\n",
       "      <td>1610612743</td>\n",
       "      <td>DEN</td>\n",
       "      <td>2019-04-10T00:00:00</td>\n",
       "      <td>81</td>\n",
       "      <td>53</td>\n",
       "      <td>28</td>\n",
       "      <td>0.654</td>\n",
       "      <td>1878.723333</td>\n",
       "      <td>...</td>\n",
       "      <td>3</td>\n",
       "      <td>2</td>\n",
       "      <td>3</td>\n",
       "      <td>2</td>\n",
       "      <td>2</td>\n",
       "      <td>2</td>\n",
       "      <td>1</td>\n",
       "      <td>1</td>\n",
       "      <td>264</td>\n",
       "      <td>2018-19</td>\n",
       "    </tr>\n",
       "    <tr>\n",
       "      <th>1</th>\n",
       "      <td>By Year</td>\n",
       "      <td>2017-18</td>\n",
       "      <td>1610612743</td>\n",
       "      <td>DEN</td>\n",
       "      <td>2018-04-07T00:00:00</td>\n",
       "      <td>62</td>\n",
       "      <td>34</td>\n",
       "      <td>28</td>\n",
       "      <td>0.548</td>\n",
       "      <td>582.731667</td>\n",
       "      <td>...</td>\n",
       "      <td>2</td>\n",
       "      <td>1</td>\n",
       "      <td>1</td>\n",
       "      <td>3</td>\n",
       "      <td>3</td>\n",
       "      <td>3</td>\n",
       "      <td>1</td>\n",
       "      <td>1</td>\n",
       "      <td>264</td>\n",
       "      <td>2017-18</td>\n",
       "    </tr>\n",
       "    <tr>\n",
       "      <th>2</th>\n",
       "      <td>By Year</td>\n",
       "      <td>2016-17</td>\n",
       "      <td>1610612743</td>\n",
       "      <td>DEN</td>\n",
       "      <td>2017-04-12T00:00:00</td>\n",
       "      <td>22</td>\n",
       "      <td>12</td>\n",
       "      <td>10</td>\n",
       "      <td>0.545</td>\n",
       "      <td>164.895000</td>\n",
       "      <td>...</td>\n",
       "      <td>1</td>\n",
       "      <td>3</td>\n",
       "      <td>2</td>\n",
       "      <td>1</td>\n",
       "      <td>1</td>\n",
       "      <td>1</td>\n",
       "      <td>1</td>\n",
       "      <td>1</td>\n",
       "      <td>264</td>\n",
       "      <td>2016-17</td>\n",
       "    </tr>\n",
       "  </tbody>\n",
       "</table>\n",
       "<p>3 rows × 65 columns</p>\n",
       "</div>"
      ],
      "text/plain": [
       "  GROUP_SET GROUP_VALUE     TEAM_ID TEAM_ABBREVIATION        MAX_GAME_DATE  \\\n",
       "0   By Year     2018-19  1610612743               DEN  2019-04-10T00:00:00   \n",
       "1   By Year     2017-18  1610612743               DEN  2018-04-07T00:00:00   \n",
       "2   By Year     2016-17  1610612743               DEN  2017-04-12T00:00:00   \n",
       "\n",
       "   GP   W   L  W_PCT          MIN    ...     BLKA_RANK  PF_RANK  PFD_RANK  \\\n",
       "0  81  53  28  0.654  1878.723333    ...             3        2         3   \n",
       "1  62  34  28  0.548   582.731667    ...             2        1         1   \n",
       "2  22  12  10  0.545   164.895000    ...             1        3         2   \n",
       "\n",
       "   PTS_RANK  PLUS_MINUS_RANK  NBA_FANTASY_PTS_RANK  DD2_RANK  TD3_RANK  CFID  \\\n",
       "0         2                2                     2         1         1   264   \n",
       "1         3                3                     3         1         1   264   \n",
       "2         1                1                     1         1         1   264   \n",
       "\n",
       "   CFPARAMS  \n",
       "0   2018-19  \n",
       "1   2017-18  \n",
       "2   2016-17  \n",
       "\n",
       "[3 rows x 65 columns]"
      ]
     },
     "execution_count": 23,
     "metadata": {},
     "output_type": "execute_result"
    }
   ],
   "source": [
    "# The point for other player stats, aside from shooting and blocking\n",
    "player.PlayerYearOverYearSplits(player_id, per_mode=\"Per48\").by_year()"
   ]
  },
  {
   "cell_type": "code",
   "execution_count": 10,
   "metadata": {
    "ExecuteTime": {
     "end_time": "2019-05-31T15:42:38.924298Z",
     "start_time": "2019-05-31T15:42:38.752588Z"
    },
    "scrolled": true
   },
   "outputs": [],
   "source": [
    "cols_of_interest = ['OREB', 'DREB', 'AST', 'STL', \"MIN\"]\n",
    "\n",
    "# Take the most recent 2 years\n",
    "rebound_assist = player.PlayerYearOverYearSplits(player_id, per_mode=\"Per48\").by_year().iloc[:2,:]\n",
    "rebound_assist = rebound_assist[cols_of_interest]\n",
    "rebound_assist.columns = [c.lower() for c in rebound_assist.columns]"
   ]
  },
  {
   "cell_type": "code",
   "execution_count": 11,
   "metadata": {
    "ExecuteTime": {
     "end_time": "2019-05-31T15:42:38.935788Z",
     "start_time": "2019-05-31T15:42:38.926229Z"
    }
   },
   "outputs": [
    {
     "data": {
      "text/html": [
       "<div>\n",
       "<style scoped>\n",
       "    .dataframe tbody tr th:only-of-type {\n",
       "        vertical-align: middle;\n",
       "    }\n",
       "\n",
       "    .dataframe tbody tr th {\n",
       "        vertical-align: top;\n",
       "    }\n",
       "\n",
       "    .dataframe thead th {\n",
       "        text-align: right;\n",
       "    }\n",
       "</style>\n",
       "<table border=\"1\" class=\"dataframe\">\n",
       "  <thead>\n",
       "    <tr style=\"text-align: right;\">\n",
       "      <th></th>\n",
       "      <th>oreb</th>\n",
       "      <th>dreb</th>\n",
       "      <th>ast</th>\n",
       "      <th>stl</th>\n",
       "      <th>min</th>\n",
       "    </tr>\n",
       "  </thead>\n",
       "  <tbody>\n",
       "    <tr>\n",
       "      <th>0</th>\n",
       "      <td>0.9</td>\n",
       "      <td>4.2</td>\n",
       "      <td>2.5</td>\n",
       "      <td>1.4</td>\n",
       "      <td>1878.723333</td>\n",
       "    </tr>\n",
       "    <tr>\n",
       "      <th>1</th>\n",
       "      <td>1.2</td>\n",
       "      <td>4.7</td>\n",
       "      <td>2.6</td>\n",
       "      <td>1.2</td>\n",
       "      <td>582.731667</td>\n",
       "    </tr>\n",
       "  </tbody>\n",
       "</table>\n",
       "</div>"
      ],
      "text/plain": [
       "   oreb  dreb  ast  stl          min\n",
       "0   0.9   4.2  2.5  1.4  1878.723333\n",
       "1   1.2   4.7  2.6  1.2   582.731667"
      ]
     },
     "execution_count": 11,
     "metadata": {},
     "output_type": "execute_result"
    }
   ],
   "source": [
    "rebound_assist"
   ]
  },
  {
   "cell_type": "code",
   "execution_count": 12,
   "metadata": {
    "ExecuteTime": {
     "end_time": "2019-05-31T15:42:38.947582Z",
     "start_time": "2019-05-31T15:42:38.937793Z"
    }
   },
   "outputs": [
    {
     "data": {
      "text/html": [
       "<div>\n",
       "<style scoped>\n",
       "    .dataframe tbody tr th:only-of-type {\n",
       "        vertical-align: middle;\n",
       "    }\n",
       "\n",
       "    .dataframe tbody tr th {\n",
       "        vertical-align: top;\n",
       "    }\n",
       "\n",
       "    .dataframe thead th {\n",
       "        text-align: right;\n",
       "    }\n",
       "</style>\n",
       "<table border=\"1\" class=\"dataframe\">\n",
       "  <thead>\n",
       "    <tr style=\"text-align: right;\">\n",
       "      <th></th>\n",
       "      <th>oreb</th>\n",
       "      <th>dreb</th>\n",
       "      <th>ast</th>\n",
       "      <th>stl</th>\n",
       "      <th>min</th>\n",
       "    </tr>\n",
       "  </thead>\n",
       "  <tbody>\n",
       "    <tr>\n",
       "      <th>0</th>\n",
       "      <td>2.1</td>\n",
       "      <td>8.9</td>\n",
       "      <td>5.1</td>\n",
       "      <td>2.6</td>\n",
       "      <td>2461.455</td>\n",
       "    </tr>\n",
       "  </tbody>\n",
       "</table>\n",
       "</div>"
      ],
      "text/plain": [
       "   oreb  dreb  ast  stl       min\n",
       "0   2.1   8.9  5.1  2.6  2461.455"
      ]
     },
     "execution_count": 12,
     "metadata": {},
     "output_type": "execute_result"
    }
   ],
   "source": [
    "rebound_assist_summed = pd.DataFrame(rebound_assist.sum()).T\n",
    "rebound_assist_summed"
   ]
  },
  {
   "cell_type": "code",
   "execution_count": 18,
   "metadata": {
    "ExecuteTime": {
     "end_time": "2019-05-31T15:48:19.496618Z",
     "start_time": "2019-05-31T15:48:19.489450Z"
    }
   },
   "outputs": [],
   "source": [
    "player_stat = pd.concat([player_shot_by_area.reset_index(drop=True), \n",
    "                            player_block_by_area.reset_index(drop=True), \n",
    "                            rebound_assist_summed.reset_index(drop=True)],\n",
    "                            axis=1)\n",
    "player_stat = player_stat.rename({0:player_id})"
   ]
  },
  {
   "cell_type": "code",
   "execution_count": 19,
   "metadata": {
    "ExecuteTime": {
     "end_time": "2019-05-31T15:48:20.474032Z",
     "start_time": "2019-05-31T15:48:20.455399Z"
    }
   },
   "outputs": [
    {
     "data": {
      "text/html": [
       "<div>\n",
       "<style scoped>\n",
       "    .dataframe tbody tr th:only-of-type {\n",
       "        vertical-align: middle;\n",
       "    }\n",
       "\n",
       "    .dataframe tbody tr th {\n",
       "        vertical-align: top;\n",
       "    }\n",
       "\n",
       "    .dataframe thead th {\n",
       "        text-align: right;\n",
       "    }\n",
       "</style>\n",
       "<table border=\"1\" class=\"dataframe\">\n",
       "  <thead>\n",
       "    <tr style=\"text-align: right;\">\n",
       "      <th></th>\n",
       "      <th>res_shot</th>\n",
       "      <th>in_paint_shot</th>\n",
       "      <th>mid_range_shot</th>\n",
       "      <th>l_corner3_shot</th>\n",
       "      <th>r_corner3_shot</th>\n",
       "      <th>above_break3_shot</th>\n",
       "      <th>fga</th>\n",
       "      <th>res_block</th>\n",
       "      <th>in_paint_block</th>\n",
       "      <th>mid_range_block</th>\n",
       "      <th>l_corner3_block</th>\n",
       "      <th>r_corner3_block</th>\n",
       "      <th>above_break3_block</th>\n",
       "      <th>blka</th>\n",
       "      <th>oreb</th>\n",
       "      <th>dreb</th>\n",
       "      <th>ast</th>\n",
       "      <th>stl</th>\n",
       "      <th>min</th>\n",
       "    </tr>\n",
       "  </thead>\n",
       "  <tbody>\n",
       "    <tr>\n",
       "      <th>1627736</th>\n",
       "      <td>0.237772</td>\n",
       "      <td>0.101902</td>\n",
       "      <td>0.118207</td>\n",
       "      <td>0.0747283</td>\n",
       "      <td>0.0380435</td>\n",
       "      <td>0.429348</td>\n",
       "      <td>736</td>\n",
       "      <td>0.588235</td>\n",
       "      <td>0.294118</td>\n",
       "      <td>0.0588235</td>\n",
       "      <td>0</td>\n",
       "      <td>0</td>\n",
       "      <td>0.0588235</td>\n",
       "      <td>34</td>\n",
       "      <td>2.1</td>\n",
       "      <td>8.9</td>\n",
       "      <td>5.1</td>\n",
       "      <td>2.6</td>\n",
       "      <td>2461.455</td>\n",
       "    </tr>\n",
       "  </tbody>\n",
       "</table>\n",
       "</div>"
      ],
      "text/plain": [
       "         res_shot in_paint_shot mid_range_shot l_corner3_shot r_corner3_shot  \\\n",
       "1627736  0.237772      0.101902       0.118207      0.0747283      0.0380435   \n",
       "\n",
       "        above_break3_shot  fga res_block in_paint_block mid_range_block  \\\n",
       "1627736          0.429348  736  0.588235       0.294118       0.0588235   \n",
       "\n",
       "        l_corner3_block r_corner3_block above_break3_block  blka  oreb  dreb  \\\n",
       "1627736               0               0          0.0588235    34   2.1   8.9   \n",
       "\n",
       "         ast  stl       min  \n",
       "1627736  5.1  2.6  2461.455  "
      ]
     },
     "metadata": {},
     "output_type": "display_data"
    },
    {
     "name": "stdout",
     "output_type": "stream",
     "text": [
      "(1, 19)\n"
     ]
    }
   ],
   "source": [
    "display(player_stat)\n",
    "print(player_stat.shape)"
   ]
  },
  {
   "cell_type": "code",
   "execution_count": null,
   "metadata": {},
   "outputs": [],
   "source": []
  }
 ],
 "metadata": {
  "kernelspec": {
   "display_name": "Python 3",
   "language": "python",
   "name": "python3"
  },
  "language_info": {
   "codemirror_mode": {
    "name": "ipython",
    "version": 3
   },
   "file_extension": ".py",
   "mimetype": "text/x-python",
   "name": "python",
   "nbconvert_exporter": "python",
   "pygments_lexer": "ipython3",
   "version": "3.6.8"
  },
  "varInspector": {
   "cols": {
    "lenName": 16,
    "lenType": 16,
    "lenVar": 40
   },
   "kernels_config": {
    "python": {
     "delete_cmd_postfix": "",
     "delete_cmd_prefix": "del ",
     "library": "var_list.py",
     "varRefreshCmd": "print(var_dic_list())"
    },
    "r": {
     "delete_cmd_postfix": ") ",
     "delete_cmd_prefix": "rm(",
     "library": "var_list.r",
     "varRefreshCmd": "cat(var_dic_list()) "
    }
   },
   "types_to_exclude": [
    "module",
    "function",
    "builtin_function_or_method",
    "instance",
    "_Feature"
   ],
   "window_display": false
  }
 },
 "nbformat": 4,
 "nbformat_minor": 2
}
