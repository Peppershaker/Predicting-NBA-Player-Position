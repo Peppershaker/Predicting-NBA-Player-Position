{
 "cells": [
  {
   "cell_type": "code",
   "execution_count": 1,
   "metadata": {},
   "outputs": [],
   "source": [
    "__author__ = \"Victor Xu\"\n",
    "__email__ = \"victor.c.xu@gmail.com\"\n",
    "__website__ = \"victorxu.me\"\n",
    "\n",
    "__copyright__ = \"Copyright 2019, Victor Xu\""
   ]
  },
  {
   "cell_type": "markdown",
   "metadata": {},
   "source": [
    "# Problem Definition\n",
    "\n",
    "The goal of this analysis is to predict NBA player positions given performance data such the player shot count, shot location, and player defense etc... Each player in the league is assigned a position label such as point guard, shooting guard, and center.\n",
    "\n",
    "### Why is predicting player position important?\n",
    "If you are basketball fan, you probably realized that the player positions are inconsistent across data sources. For instance ESPN and the League even uses different position categories altogether.\n",
    "\n",
    "\n",
    "| ESPN | NBA   |\n",
    "|------|------|\n",
    "|Center|Center|\n",
    "|Point Guard|Guard|\n",
    "|Shooting Guard|Guard|\n",
    "|Small Forward|Forward|\n",
    "|Power Forward|Forward|\n",
    "|No Direct Translation|Guard-Forward|\n",
    "|No Direct Translation|Center-Forward|\n",
    "\n",
    "Though we will not be examining the difference between NBA and ESPN player labeling methodologies, never the less by looking at how ML algos approach classifying player into ESPN categories, we could gain insights into the structure of player labels. Specifically, allowing us to examine if player labels are well separated or not."
   ]
  },
  {
   "cell_type": "code",
   "execution_count": 2,
   "metadata": {
    "ExecuteTime": {
     "end_time": "2019-05-31T20:44:06.991477Z",
     "start_time": "2019-05-31T20:44:06.987976Z"
    },
    "init_cell": true,
    "scrolled": true
   },
   "outputs": [],
   "source": [
    "import re\n",
    "import pandas as pd\n",
    "import numpy as np\n",
    "\n",
    "from src.espn_scraper import espn_player_scraper\n",
    "from src.player_stat import get_player_stat, NoDataError\n",
    "\n",
    "from sqlalchemy import create_engine, Integer\n",
    "from tqdm import tqdm_notebook\n",
    "from nba_py import player\n",
    "from time import sleep"
   ]
  },
  {
   "cell_type": "markdown",
   "metadata": {},
   "source": [
    "## Data Acqusition\n",
    "#### Scrape ESPN for player name and position label /w our scraper"
   ]
  },
  {
   "cell_type": "code",
   "execution_count": null,
   "metadata": {
    "ExecuteTime": {
     "end_time": "2019-05-31T16:24:56.348598Z",
     "start_time": "2019-05-31T16:24:42.664468Z"
    }
   },
   "outputs": [
    {
     "name": "stderr",
     "output_type": "stream",
     "text": [
      " 87%|████████▋ | 26/30 [01:42<00:15,  3.87s/it]"
     ]
    }
   ],
   "source": [
    "# Scrape ESPN pages\n",
    "teams_overview_url = \"http://www.espn.com/nba/players\"\n",
    "scraper = espn_player_scraper()\n",
    "espn_player_list = scraper.scrape_all_players(teams_overview_url)"
   ]
  },
  {
   "cell_type": "code",
   "execution_count": null,
   "metadata": {},
   "outputs": [],
   "source": [
    "espn_player_list.head()"
   ]
  },
  {
   "cell_type": "code",
   "execution_count": null,
   "metadata": {},
   "outputs": [],
   "source": [
    "espn_player_list.head()"
   ]
  },
  {
   "cell_type": "markdown",
   "metadata": {},
   "source": [
    "### Getting player name and NBA ID data from the Official NBA API\n",
    "Here we will use nba_py by seemethere, a Python wrapper for the offical but unpublished NBA API.\n",
    "\n",
    "We will be using the player performance data from the NBA API and using it to predict player's ESPN position label.\n",
    "\n",
    "The official NBA API uses a different set of Player IDs, so we will have to join ESPN and NBA data by cross referencing player names. Also, the NBA API returns some players in the NBA Delevelopment league, which we are not interested in. We will thus use a left join on the ESPN table."
   ]
  },
  {
   "cell_type": "code",
   "execution_count": null,
   "metadata": {
    "ExecuteTime": {
     "end_time": "2019-05-31T16:25:04.548370Z",
     "start_time": "2019-05-31T16:25:04.329028Z"
    },
    "scrolled": true
   },
   "outputs": [],
   "source": [
    "# Getting players who were active in the last 3 seasons for the NBA database\n",
    "nba_player_list_17 = player.PlayerList(season='2017-18').info()\n",
    "nba_player_list_18 = player.PlayerList(season='2018-19').info()\n",
    "nba_player_list_19 = player.PlayerList(season='2019-20').info()\n",
    "\n",
    "# Concat the 3 dfs together\n",
    "nba_player_list = pd.concat([nba_player_list_17,nba_player_list_18,nba_player_list_19])\n",
    "nba_player_list = nba_player_list.drop_duplicates()\n",
    "\n",
    "# Convert upper case letter to upper case letter\n",
    "nba_player_list.columns = [col.lower() for col in nba_player_list.columns]\n",
    "\n",
    "# Check if number of players are the same\n",
    "print(\"NBA roster has {} players over past 3 seasons\".format(nba_player_list.shape[0]))\n",
    "print(\"ESPN roster has {} players in the current season.\".format(espn_player_list.shape[0]))"
   ]
  },
  {
   "cell_type": "markdown",
   "metadata": {},
   "source": [
    "#### Examine the data"
   ]
  },
  {
   "cell_type": "code",
   "execution_count": null,
   "metadata": {
    "ExecuteTime": {
     "end_time": "2019-05-31T16:25:09.942406Z",
     "start_time": "2019-05-31T16:25:09.933214Z"
    }
   },
   "outputs": [],
   "source": [
    "# Selecting columns of interest\n",
    "nba_player_list = nba_player_list[['person_id','display_first_last']]\n",
    "nba_player_list.display_first_last = nba_player_list.display_first_last.str.lower()\n",
    "nba_player_list.head()"
   ]
  },
  {
   "cell_type": "code",
   "execution_count": null,
   "metadata": {},
   "outputs": [],
   "source": [
    "nba_player_list.info()"
   ]
  },
  {
   "cell_type": "code",
   "execution_count": null,
   "metadata": {
    "ExecuteTime": {
     "end_time": "2019-05-31T16:25:10.067966Z",
     "start_time": "2019-05-31T16:25:10.056232Z"
    },
    "scrolled": false
   },
   "outputs": [],
   "source": [
    "espn_player_list.head()"
   ]
  },
  {
   "cell_type": "code",
   "execution_count": null,
   "metadata": {},
   "outputs": [],
   "source": [
    "espn_player_list.info()"
   ]
  },
  {
   "cell_type": "markdown",
   "metadata": {},
   "source": [
    "#### Check duplicates"
   ]
  },
  {
   "cell_type": "code",
   "execution_count": null,
   "metadata": {},
   "outputs": [],
   "source": [
    "nba_player_list.duplicated().sum()"
   ]
  },
  {
   "cell_type": "code",
   "execution_count": null,
   "metadata": {},
   "outputs": [],
   "source": [
    "espn_player_list.duplicated().sum()"
   ]
  },
  {
   "cell_type": "code",
   "execution_count": null,
   "metadata": {},
   "outputs": [],
   "source": [
    "espn_player_list[espn_player_list.duplicated(keep=False)]"
   ]
  },
  {
   "cell_type": "code",
   "execution_count": null,
   "metadata": {},
   "outputs": [],
   "source": [
    "espn_player_list = espn_player_list.drop_duplicates()"
   ]
  },
  {
   "cell_type": "code",
   "execution_count": null,
   "metadata": {},
   "outputs": [],
   "source": [
    "espn_player_list.duplicated().sum()"
   ]
  },
  {
   "cell_type": "markdown",
   "metadata": {},
   "source": [
    "#### Check N/A\n",
    "\n",
    "A small number of newly drafted rookies will not have a position assigned to them yet. Their positions will be N/As"
   ]
  },
  {
   "cell_type": "code",
   "execution_count": null,
   "metadata": {},
   "outputs": [],
   "source": [
    "nba_player_list.isna().sum()"
   ]
  },
  {
   "cell_type": "code",
   "execution_count": null,
   "metadata": {
    "scrolled": true
   },
   "outputs": [],
   "source": [
    "espn_player_list.isna().sum()"
   ]
  },
  {
   "cell_type": "code",
   "execution_count": null,
   "metadata": {},
   "outputs": [],
   "source": [
    "espn_player_list = espn_player_list.dropna()"
   ]
  },
  {
   "cell_type": "markdown",
   "metadata": {},
   "source": [
    "#### Load to db"
   ]
  },
  {
   "cell_type": "code",
   "execution_count": null,
   "metadata": {
    "ExecuteTime": {
     "end_time": "2019-05-31T16:24:56.478074Z",
     "start_time": "2019-05-31T16:24:56.438348Z"
    }
   },
   "outputs": [],
   "source": [
    "def load_data_to_db(espn_player_list, nba_player_list):\n",
    "    \"\"\"Loads eplayer name and position data to db\"\"\"\n",
    "    \n",
    "    \n",
    "    engine = create_engine(\"sqlite:///db/nba.db\", echo=False)\n",
    "    \n",
    "    with engine.connect() as conn:\n",
    "        espn_player_list.to_sql('espn_players', \n",
    "                                conn, \n",
    "                                dtype={\"espn_player_id\":Integer}, \n",
    "                                if_exists=\"replace\", index=False)\n",
    "        \n",
    "        nba_player_list.to_sql('nba_players', \n",
    "                                conn, \n",
    "                                dtype={\"nba_player_id\":Integer}, \n",
    "                                if_exists=\"replace\", index=False)\n",
    "        \n",
    "        print(\"Successfully loaded into table espn_players & nba_player_id\")\n",
    "        \n",
    "        \n",
    "def read_data_from_db():\n",
    "    \"\"\"Retrieves player name and position data from db\n",
    "    \n",
    "    Returns:\n",
    "        espn_player_list: pd.DataFrame\n",
    "            df containing espn player info including \n",
    "                -  player name, \n",
    "                -  player position, \n",
    "                -  espn player id,\n",
    "                -  url to player profile\n",
    "            \n",
    "        nba_player_list: pd.DataFrame\n",
    "            df containing nba player info including\n",
    "                -  player name\n",
    "                -  nba player id\n",
    "    \"\"\"\n",
    "    \n",
    "    engine = create_engine(\"sqlite:///db/nba.db\", echo=False)\n",
    "    with engine.connect() as conn:\n",
    "        espn_player_list = pd.read_sql('espn_players', conn)\n",
    "        nba_player_list = pd.read_sql('nba_players', conn)\n",
    "        \n",
    "        print(\"Successfully read in players data into dataframes\")\n",
    "        \n",
    "        return espn_player_list, nba_player_list"
   ]
  },
  {
   "cell_type": "code",
   "execution_count": null,
   "metadata": {
    "scrolled": true
   },
   "outputs": [],
   "source": [
    "load_data_to_db(espn_player_list, nba_player_list)"
   ]
  },
  {
   "cell_type": "markdown",
   "metadata": {},
   "source": [
    "### Joining 2 datasets together\n",
    "\n",
    "We need the ESPN player position label which lives in the ESPN table, and the NBA player ID, which lives in the NBA table.\n",
    "\n",
    "We will later use NBA player ID to call the official NBA API to retrieve player performence data, which is used to train our models.\n",
    "\n",
    "| name | position | \n",
    "|------|------|\n",
    "|Center|Center|\n",
    "|Point Guard|Guard|"
   ]
  },
  {
   "cell_type": "markdown",
   "metadata": {},
   "source": [
    "#### Cleaning before joining 2 data scources\n",
    "\n",
    "We will be joining on player names, which are different across ESPN and NBA records. As such, cleaning is required\n",
    "\n"
   ]
  },
  {
   "cell_type": "code",
   "execution_count": null,
   "metadata": {
    "ExecuteTime": {
     "end_time": "2019-05-31T16:25:10.683248Z",
     "start_time": "2019-05-31T16:25:10.678950Z"
    }
   },
   "outputs": [],
   "source": [
    "def sanitize_name(name_str):\n",
    "    \"\"\"Remove all special characters and player name suffix\"\"\"\n",
    "    sanitized = name_str.lower()\n",
    "    sanitized = sanitized.replace('-', ' ')\n",
    "    \n",
    "    to_remove = [\".\", \"'\", \"jr\", 'sr', 'iii']\n",
    "    \n",
    "    for pattern in to_remove:\n",
    "        sanitized = sanitized.replace(pattern, '')\n",
    "        \n",
    "    # Remove special characters and trailing spaces\n",
    "    sanitized = re.sub(re.compile(\"\\s*$\"), '', sanitized)\n",
    "        \n",
    "    return sanitized"
   ]
  },
  {
   "cell_type": "code",
   "execution_count": null,
   "metadata": {
    "ExecuteTime": {
     "end_time": "2019-05-31T16:25:10.859584Z",
     "start_time": "2019-05-31T16:25:10.849229Z"
    }
   },
   "outputs": [],
   "source": [
    "# Getting a list of ESPN player names not in NBA player name list\n",
    "espn_player_list[~espn_player_list.name.isin(nba_player_list.display_first_last)].head()"
   ]
  },
  {
   "cell_type": "code",
   "execution_count": null,
   "metadata": {
    "ExecuteTime": {
     "end_time": "2019-05-31T16:25:11.073142Z",
     "start_time": "2019-05-31T16:25:11.006869Z"
    }
   },
   "outputs": [],
   "source": [
    "# Sanitize player name for both dfs so they can later be used to join the tables\n",
    "nba_player_list.display_first_last = nba_player_list.display_first_last.astype('str')\n",
    "espn_player_list.name = espn_player_list.name.astype('str')\n",
    "\n",
    "espn_player_list.name = espn_player_list.name.apply(sanitize_name)\n",
    "nba_player_list.display_first_last = nba_player_list.display_first_last.apply(sanitize_name)"
   ]
  },
  {
   "cell_type": "code",
   "execution_count": null,
   "metadata": {
    "ExecuteTime": {
     "end_time": "2019-05-31T16:25:11.162786Z",
     "start_time": "2019-05-31T16:25:11.142826Z"
    }
   },
   "outputs": [],
   "source": [
    "# Handle a few special cases where names are different across two data sources\n",
    "espn_player_list.loc[espn_player_list.espn_player_id == '1713', 'name'] = 'nene'\n",
    "espn_player_list.loc[espn_player_list.espn_player_id == '4017839', 'name'] = 'juancho hernangomez'\n",
    "espn_player_list.loc[espn_player_list.espn_player_id == '3056247', 'name'] = 'kendrick nunn'\n",
    "espn_player_list.loc[espn_player_list.espn_player_id == '2528586', 'name'] = 'walter lemon'\n",
    "espn_player_list.loc[espn_player_list.espn_player_id == '3133602', 'name'] = 'svi mykhailiuk'\n",
    "espn_player_list.loc[espn_player_list.espn_player_id == '4066508', 'name'] = 'charles brown'\n",
    "espn_player_list.loc[espn_player_list.espn_player_id == '4395627', 'name'] = 'cameron reddish'\n",
    "espn_player_list.loc[espn_player_list.espn_player_id == '4395627', 'name'] = 'cameron reddish'"
   ]
  },
  {
   "cell_type": "code",
   "execution_count": null,
   "metadata": {
    "ExecuteTime": {
     "end_time": "2019-05-31T16:25:11.295740Z",
     "start_time": "2019-05-31T16:25:11.288549Z"
    }
   },
   "outputs": [],
   "source": [
    "merged_df = espn_player_list.join(nba_player_list.set_index(\"display_first_last\", drop=True),\n",
    "                                    on='name')"
   ]
  },
  {
   "cell_type": "code",
   "execution_count": null,
   "metadata": {
    "ExecuteTime": {
     "end_time": "2019-05-31T16:25:11.444723Z",
     "start_time": "2019-05-31T16:25:11.431942Z"
    },
    "scrolled": true
   },
   "outputs": [],
   "source": [
    "# Check for rows that didn't join correctly\n",
    "merged_df[merged_df.isnull().any(axis=1)]"
   ]
  },
  {
   "cell_type": "code",
   "execution_count": null,
   "metadata": {
    "ExecuteTime": {
     "end_time": "2019-05-31T16:25:11.594092Z",
     "start_time": "2019-05-31T16:25:11.583925Z"
    }
   },
   "outputs": [],
   "source": [
    "merged_df[merged_df.position.isnull()]"
   ]
  },
  {
   "cell_type": "code",
   "execution_count": null,
   "metadata": {
    "ExecuteTime": {
     "end_time": "2019-05-31T16:25:11.729650Z",
     "start_time": "2019-05-31T16:25:11.721169Z"
    }
   },
   "outputs": [],
   "source": [
    "# Tyler Cook and Cody Demps just got traded and \n",
    "# has not played any games in his career, so we're dropping them\n",
    "merged_df = merged_df.dropna()\n",
    "merged_df = merged_df.rename(columns={\"person_id\":\"nba_id\", 'position':'espn_position'})\n",
    "merged_df = merged_df[['name','espn_position','nba_id']]"
   ]
  },
  {
   "cell_type": "code",
   "execution_count": null,
   "metadata": {
    "ExecuteTime": {
     "end_time": "2019-05-31T16:25:12.010850Z",
     "start_time": "2019-05-31T16:25:12.000116Z"
    },
    "scrolled": true
   },
   "outputs": [],
   "source": [
    "merged_df.head()"
   ]
  },
  {
   "cell_type": "markdown",
   "metadata": {},
   "source": [
    "#### Loading joined df to db"
   ]
  },
  {
   "cell_type": "code",
   "execution_count": null,
   "metadata": {
    "ExecuteTime": {
     "end_time": "2019-05-31T20:44:10.919235Z",
     "start_time": "2019-05-31T20:44:10.897733Z"
    }
   },
   "outputs": [],
   "source": [
    "def load_joined_data_to_db(merged_df):\n",
    "    \"\"\"Loads final player identify and position data to db\"\"\"\n",
    "    \n",
    "    \n",
    "    engine = create_engine(\"sqlite:///db/nba.db\", echo=False)\n",
    "    \n",
    "    with engine.connect() as conn:\n",
    "        espn_player_list.to_sql('players', \n",
    "                                conn, \n",
    "                                dtype={\"player_id\":Integer}, \n",
    "                                if_exists=\"replace\", index=False)\n",
    "        \n",
    "        print(\"Successfully loaded into table players\")\n",
    "        engine.dispose()\n",
    "        \n",
    "load_joined_data_to_db(merged_df)"
   ]
  },
  {
   "cell_type": "code",
   "execution_count": null,
   "metadata": {},
   "outputs": [],
   "source": [
    "# Getting unique set of player_ids\n",
    "nba_ids = merged_df.nba_id.unique()\n",
    "\n",
    "print(\"Total of {} unique IDs\".format(nba_ids.shape[0]))"
   ]
  },
  {
   "cell_type": "code",
   "execution_count": null,
   "metadata": {
    "ExecuteTime": {
     "end_time": "2019-05-31T21:15:37.082423Z",
     "start_time": "2019-05-31T20:44:55.410704Z"
    },
    "scrolled": false
   },
   "outputs": [],
   "source": [
    "dfs_to_concat = []\n",
    "for idx in tqdm_notebook(nba_ids):\n",
    "    sleep(2) # Prevents from being banned\n",
    "    try: \n",
    "        dfs_to_concat.append(get_player_stat(idx))\n",
    "    except NoDataError:\n",
    "        # This is when the player has no data and returns an empty df\n",
    "        continue"
   ]
  },
  {
   "cell_type": "code",
   "execution_count": null,
   "metadata": {
    "ExecuteTime": {
     "end_time": "2019-05-31T21:43:04.814959Z",
     "start_time": "2019-05-31T21:43:04.138711Z"
    }
   },
   "outputs": [],
   "source": [
    "final_df = pd.concat(dfs_to_concat, sort=False)"
   ]
  },
  {
   "cell_type": "code",
   "execution_count": null,
   "metadata": {
    "ExecuteTime": {
     "end_time": "2019-05-31T20:30:19.757868Z",
     "start_time": "2019-05-31T20:30:19.730922Z"
    }
   },
   "outputs": [],
   "source": [
    "final_df.to_csv(\"Finaldf.csv\")"
   ]
  },
  {
   "cell_type": "code",
   "execution_count": null,
   "metadata": {
    "ExecuteTime": {
     "end_time": "2019-05-31T21:52:12.311364Z",
     "start_time": "2019-05-31T21:52:12.308837Z"
    }
   },
   "outputs": [],
   "source": [
    "final_df.index.name = \"nba_id\""
   ]
  },
  {
   "cell_type": "code",
   "execution_count": null,
   "metadata": {
    "ExecuteTime": {
     "end_time": "2019-05-31T21:57:00.010664Z",
     "start_time": "2019-05-31T21:56:59.986222Z"
    }
   },
   "outputs": [],
   "source": [
    "final_df.head()"
   ]
  },
  {
   "cell_type": "code",
   "execution_count": null,
   "metadata": {
    "ExecuteTime": {
     "end_time": "2019-05-31T21:55:35.850434Z",
     "start_time": "2019-05-31T21:55:35.715415Z"
    }
   },
   "outputs": [],
   "source": [
    "with engine.connect() as conn:\n",
    "    final_df.to_sql(\"stat\", conn)"
   ]
  }
 ],
 "metadata": {
  "kernelspec": {
   "display_name": "Python 3",
   "language": "python",
   "name": "python3"
  },
  "language_info": {
   "codemirror_mode": {
    "name": "ipython",
    "version": 3
   },
   "file_extension": ".py",
   "mimetype": "text/x-python",
   "name": "python",
   "nbconvert_exporter": "python",
   "pygments_lexer": "ipython3",
   "version": "3.7.3"
  },
  "varInspector": {
   "cols": {
    "lenName": 16,
    "lenType": 16,
    "lenVar": 40
   },
   "kernels_config": {
    "python": {
     "delete_cmd_postfix": "",
     "delete_cmd_prefix": "del ",
     "library": "var_list.py",
     "varRefreshCmd": "print(var_dic_list())"
    },
    "r": {
     "delete_cmd_postfix": ") ",
     "delete_cmd_prefix": "rm(",
     "library": "var_list.r",
     "varRefreshCmd": "cat(var_dic_list()) "
    }
   },
   "types_to_exclude": [
    "module",
    "function",
    "builtin_function_or_method",
    "instance",
    "_Feature"
   ],
   "window_display": false
  }
 },
 "nbformat": 4,
 "nbformat_minor": 2
}
