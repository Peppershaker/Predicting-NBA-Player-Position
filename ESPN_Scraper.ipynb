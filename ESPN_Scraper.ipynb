{
 "cells": [
  {
   "cell_type": "code",
   "execution_count": 1,
   "metadata": {},
   "outputs": [],
   "source": [
    "import sys\n",
    "sys.path.append('/Users/victor/Documents/code/nba_api')\n",
    "\n",
    "import re\n",
    "import pandas as pd\n",
    "import numpy as np\n",
    "\n",
    "from src.espn_scraper import espn_player_scraper\n",
    "from sqlalchemy import create_engine, Integer\n",
    "from nba_py import player"
   ]
  },
  {
   "cell_type": "markdown",
   "metadata": {},
   "source": [
    "## Scrape and Load to DB"
   ]
  },
  {
   "cell_type": "code",
   "execution_count": 2,
   "metadata": {},
   "outputs": [
    {
     "name": "stderr",
     "output_type": "stream",
     "text": [
      "100%|██████████| 30/30 [00:22<00:00,  1.30it/s]\n"
     ]
    }
   ],
   "source": [
    "# Initialize the db. Relatively small dataset, so we'll use SQLite\n",
    "engine = create_engine(\"sqlite:///db/nba.db\", echo=False)\n",
    "\n",
    "teams_overview_url = \"http://www.espn.com/nba/players\"\n",
    "scraper = espn_player_scraper()\n",
    "espn_player_list = scraper.scrape_all_players(teams_overview_url)"
   ]
  },
  {
   "cell_type": "code",
   "execution_count": 3,
   "metadata": {},
   "outputs": [],
   "source": [
    "# Load to DB\n",
    "with engine.connect() as conn:\n",
    "    espn_player_list.to_sql('espn_players', conn, dtype={\"espn_player_id\":Integer}, if_exists=\"replace\")"
   ]
  },
  {
   "cell_type": "markdown",
   "metadata": {},
   "source": [
    "## Getting player performance data from NBA API\n",
    "Here we will use nba_py by seemethere, a Python wrapper for the unpublished offical NBA API.\n",
    "\n",
    "The official NBA API uses a different set of Player IDs, so we will have to join ESPN and NBA data by cross referencing player names. Also, the NBA API returns some players in the NBA Delevelopment league, which we are not interested in. We will thus use a left join on the ESPN table."
   ]
  },
  {
   "cell_type": "code",
   "execution_count": 4,
   "metadata": {},
   "outputs": [
    {
     "name": "stdout",
     "output_type": "stream",
     "text": [
      "NBA roster has 544 players\n",
      "ESPN roster has 498 players\n"
     ]
    }
   ],
   "source": [
    "# Loading back the data\n",
    "with engine.connect() as conn:\n",
    "    espn_player_list = pd.read_sql('espn_players', conn)\n",
    "\n",
    "# Getting players for the current season\n",
    "nba_player_list = player.PlayerList().info()\n",
    "\n",
    "# Convert upper case letter to upper case letter\n",
    "nba_player_list.columns = [col.lower() for col in nba_player_list.columns]\n",
    "\n",
    "# Check if number of players are the same\n",
    "print(\"NBA roster has {} players\".format(nba_player_list.shape[0]))\n",
    "print(\"ESPN roster has {} players\".format(espn_player_list.shape[0]))"
   ]
  },
  {
   "cell_type": "code",
   "execution_count": 5,
   "metadata": {},
   "outputs": [],
   "source": [
    "with engine.connect() as conn:\n",
    "    nba_player_list.to_sql(\"nba_players\", conn, dtype={'person_id':Integer}, if_exists=\"replace\", index=False)"
   ]
  },
  {
   "cell_type": "code",
   "execution_count": 6,
   "metadata": {
    "scrolled": true
   },
   "outputs": [
    {
     "data": {
      "text/html": [
       "<div>\n",
       "<style scoped>\n",
       "    .dataframe tbody tr th:only-of-type {\n",
       "        vertical-align: middle;\n",
       "    }\n",
       "\n",
       "    .dataframe tbody tr th {\n",
       "        vertical-align: top;\n",
       "    }\n",
       "\n",
       "    .dataframe thead th {\n",
       "        text-align: right;\n",
       "    }\n",
       "</style>\n",
       "<table border=\"1\" class=\"dataframe\">\n",
       "  <thead>\n",
       "    <tr style=\"text-align: right;\">\n",
       "      <th></th>\n",
       "      <th>person_id</th>\n",
       "      <th>display_last_comma_first</th>\n",
       "      <th>display_first_last</th>\n",
       "      <th>rosterstatus</th>\n",
       "      <th>from_year</th>\n",
       "      <th>to_year</th>\n",
       "      <th>playercode</th>\n",
       "      <th>team_id</th>\n",
       "      <th>team_city</th>\n",
       "      <th>team_name</th>\n",
       "      <th>team_abbreviation</th>\n",
       "      <th>team_code</th>\n",
       "      <th>games_played_flag</th>\n",
       "      <th>otherleague_experience_ch</th>\n",
       "    </tr>\n",
       "  </thead>\n",
       "  <tbody>\n",
       "    <tr>\n",
       "      <th>0</th>\n",
       "      <td>203518</td>\n",
       "      <td>Abrines, Alex</td>\n",
       "      <td>Alex Abrines</td>\n",
       "      <td>0</td>\n",
       "      <td>2016</td>\n",
       "      <td>2018</td>\n",
       "      <td>alex_abrines</td>\n",
       "      <td>0</td>\n",
       "      <td></td>\n",
       "      <td></td>\n",
       "      <td></td>\n",
       "      <td></td>\n",
       "      <td>Y</td>\n",
       "      <td>00</td>\n",
       "    </tr>\n",
       "    <tr>\n",
       "      <th>1</th>\n",
       "      <td>203112</td>\n",
       "      <td>Acy, Quincy</td>\n",
       "      <td>Quincy Acy</td>\n",
       "      <td>0</td>\n",
       "      <td>2012</td>\n",
       "      <td>2018</td>\n",
       "      <td>quincy_acy</td>\n",
       "      <td>0</td>\n",
       "      <td></td>\n",
       "      <td></td>\n",
       "      <td></td>\n",
       "      <td></td>\n",
       "      <td>Y</td>\n",
       "      <td>11</td>\n",
       "    </tr>\n",
       "    <tr>\n",
       "      <th>2</th>\n",
       "      <td>1629121</td>\n",
       "      <td>Adams, Jaylen</td>\n",
       "      <td>Jaylen Adams</td>\n",
       "      <td>1</td>\n",
       "      <td>2018</td>\n",
       "      <td>2018</td>\n",
       "      <td>jaylen_adams</td>\n",
       "      <td>1610612737</td>\n",
       "      <td>Atlanta</td>\n",
       "      <td>Hawks</td>\n",
       "      <td>ATL</td>\n",
       "      <td>hawks</td>\n",
       "      <td>Y</td>\n",
       "      <td>11</td>\n",
       "    </tr>\n",
       "    <tr>\n",
       "      <th>3</th>\n",
       "      <td>203500</td>\n",
       "      <td>Adams, Steven</td>\n",
       "      <td>Steven Adams</td>\n",
       "      <td>1</td>\n",
       "      <td>2013</td>\n",
       "      <td>2018</td>\n",
       "      <td>steven_adams</td>\n",
       "      <td>1610612760</td>\n",
       "      <td>Oklahoma City</td>\n",
       "      <td>Thunder</td>\n",
       "      <td>OKC</td>\n",
       "      <td>thunder</td>\n",
       "      <td>Y</td>\n",
       "      <td>00</td>\n",
       "    </tr>\n",
       "    <tr>\n",
       "      <th>4</th>\n",
       "      <td>1628389</td>\n",
       "      <td>Adebayo, Bam</td>\n",
       "      <td>Bam Adebayo</td>\n",
       "      <td>1</td>\n",
       "      <td>2017</td>\n",
       "      <td>2018</td>\n",
       "      <td>bam_adebayo</td>\n",
       "      <td>1610612748</td>\n",
       "      <td>Miami</td>\n",
       "      <td>Heat</td>\n",
       "      <td>MIA</td>\n",
       "      <td>heat</td>\n",
       "      <td>Y</td>\n",
       "      <td>00</td>\n",
       "    </tr>\n",
       "  </tbody>\n",
       "</table>\n",
       "</div>"
      ],
      "text/plain": [
       "   person_id display_last_comma_first display_first_last  rosterstatus  \\\n",
       "0     203518            Abrines, Alex       Alex Abrines             0   \n",
       "1     203112              Acy, Quincy         Quincy Acy             0   \n",
       "2    1629121            Adams, Jaylen       Jaylen Adams             1   \n",
       "3     203500            Adams, Steven       Steven Adams             1   \n",
       "4    1628389             Adebayo, Bam        Bam Adebayo             1   \n",
       "\n",
       "  from_year to_year    playercode     team_id      team_city team_name  \\\n",
       "0      2016    2018  alex_abrines           0                            \n",
       "1      2012    2018    quincy_acy           0                            \n",
       "2      2018    2018  jaylen_adams  1610612737        Atlanta     Hawks   \n",
       "3      2013    2018  steven_adams  1610612760  Oklahoma City   Thunder   \n",
       "4      2017    2018   bam_adebayo  1610612748          Miami      Heat   \n",
       "\n",
       "  team_abbreviation team_code games_played_flag otherleague_experience_ch  \n",
       "0                                             Y                        00  \n",
       "1                                             Y                        11  \n",
       "2               ATL     hawks                 Y                        11  \n",
       "3               OKC   thunder                 Y                        00  \n",
       "4               MIA      heat                 Y                        00  "
      ]
     },
     "execution_count": 6,
     "metadata": {},
     "output_type": "execute_result"
    }
   ],
   "source": [
    "nba_player_list.head()"
   ]
  },
  {
   "cell_type": "code",
   "execution_count": 7,
   "metadata": {},
   "outputs": [
    {
     "data": {
      "text/html": [
       "<div>\n",
       "<style scoped>\n",
       "    .dataframe tbody tr th:only-of-type {\n",
       "        vertical-align: middle;\n",
       "    }\n",
       "\n",
       "    .dataframe tbody tr th {\n",
       "        vertical-align: top;\n",
       "    }\n",
       "\n",
       "    .dataframe thead th {\n",
       "        text-align: right;\n",
       "    }\n",
       "</style>\n",
       "<table border=\"1\" class=\"dataframe\">\n",
       "  <thead>\n",
       "    <tr style=\"text-align: right;\">\n",
       "      <th></th>\n",
       "      <th>person_id</th>\n",
       "      <th>display_first_last</th>\n",
       "    </tr>\n",
       "  </thead>\n",
       "  <tbody>\n",
       "    <tr>\n",
       "      <th>0</th>\n",
       "      <td>203518</td>\n",
       "      <td>Alex Abrines</td>\n",
       "    </tr>\n",
       "    <tr>\n",
       "      <th>1</th>\n",
       "      <td>203112</td>\n",
       "      <td>Quincy Acy</td>\n",
       "    </tr>\n",
       "    <tr>\n",
       "      <th>2</th>\n",
       "      <td>1629121</td>\n",
       "      <td>Jaylen Adams</td>\n",
       "    </tr>\n",
       "    <tr>\n",
       "      <th>3</th>\n",
       "      <td>203500</td>\n",
       "      <td>Steven Adams</td>\n",
       "    </tr>\n",
       "    <tr>\n",
       "      <th>4</th>\n",
       "      <td>1628389</td>\n",
       "      <td>Bam Adebayo</td>\n",
       "    </tr>\n",
       "  </tbody>\n",
       "</table>\n",
       "</div>"
      ],
      "text/plain": [
       "   person_id display_first_last\n",
       "0     203518       Alex Abrines\n",
       "1     203112         Quincy Acy\n",
       "2    1629121       Jaylen Adams\n",
       "3     203500       Steven Adams\n",
       "4    1628389        Bam Adebayo"
      ]
     },
     "execution_count": 7,
     "metadata": {},
     "output_type": "execute_result"
    }
   ],
   "source": [
    "# Selecting columns of interest\n",
    "nba_player_list = nba_player_list[['person_id','display_first_last']]\n",
    "nba_player_list.head()"
   ]
  },
  {
   "cell_type": "code",
   "execution_count": 8,
   "metadata": {
    "scrolled": true
   },
   "outputs": [
    {
     "data": {
      "text/html": [
       "<div>\n",
       "<style scoped>\n",
       "    .dataframe tbody tr th:only-of-type {\n",
       "        vertical-align: middle;\n",
       "    }\n",
       "\n",
       "    .dataframe tbody tr th {\n",
       "        vertical-align: top;\n",
       "    }\n",
       "\n",
       "    .dataframe thead th {\n",
       "        text-align: right;\n",
       "    }\n",
       "</style>\n",
       "<table border=\"1\" class=\"dataframe\">\n",
       "  <thead>\n",
       "    <tr style=\"text-align: right;\">\n",
       "      <th></th>\n",
       "      <th>index</th>\n",
       "      <th>name</th>\n",
       "      <th>position</th>\n",
       "      <th>espn_player_id</th>\n",
       "      <th>url</th>\n",
       "    </tr>\n",
       "  </thead>\n",
       "  <tbody>\n",
       "    <tr>\n",
       "      <th>0</th>\n",
       "      <td>0</td>\n",
       "      <td>Aron Baynes</td>\n",
       "      <td>C</td>\n",
       "      <td>2968439</td>\n",
       "      <td>http://www.espn.com/nba/player/_/id/2968439/ar...</td>\n",
       "    </tr>\n",
       "    <tr>\n",
       "      <th>1</th>\n",
       "      <td>1</td>\n",
       "      <td>Jaylen Brown</td>\n",
       "      <td>SG</td>\n",
       "      <td>3917376</td>\n",
       "      <td>http://www.espn.com/nba/player/_/id/3917376/ja...</td>\n",
       "    </tr>\n",
       "    <tr>\n",
       "      <th>2</th>\n",
       "      <td>2</td>\n",
       "      <td>PJ Dozier</td>\n",
       "      <td>PG</td>\n",
       "      <td>3923250</td>\n",
       "      <td>http://www.espn.com/nba/player/_/id/3923250/pj...</td>\n",
       "    </tr>\n",
       "    <tr>\n",
       "      <th>3</th>\n",
       "      <td>3</td>\n",
       "      <td>Jonathan Gibson</td>\n",
       "      <td>PG</td>\n",
       "      <td>2234666</td>\n",
       "      <td>http://www.espn.com/nba/player/_/id/2234666/jo...</td>\n",
       "    </tr>\n",
       "    <tr>\n",
       "      <th>4</th>\n",
       "      <td>4</td>\n",
       "      <td>Gordon Hayward</td>\n",
       "      <td>SF</td>\n",
       "      <td>4249</td>\n",
       "      <td>http://www.espn.com/nba/player/_/id/4249/gordo...</td>\n",
       "    </tr>\n",
       "  </tbody>\n",
       "</table>\n",
       "</div>"
      ],
      "text/plain": [
       "   index             name position  espn_player_id  \\\n",
       "0      0      Aron Baynes        C         2968439   \n",
       "1      1     Jaylen Brown       SG         3917376   \n",
       "2      2        PJ Dozier       PG         3923250   \n",
       "3      3  Jonathan Gibson       PG         2234666   \n",
       "4      4   Gordon Hayward       SF            4249   \n",
       "\n",
       "                                                 url  \n",
       "0  http://www.espn.com/nba/player/_/id/2968439/ar...  \n",
       "1  http://www.espn.com/nba/player/_/id/3917376/ja...  \n",
       "2  http://www.espn.com/nba/player/_/id/3923250/pj...  \n",
       "3  http://www.espn.com/nba/player/_/id/2234666/jo...  \n",
       "4  http://www.espn.com/nba/player/_/id/4249/gordo...  "
      ]
     },
     "execution_count": 8,
     "metadata": {},
     "output_type": "execute_result"
    }
   ],
   "source": [
    "espn_player_list.head()"
   ]
  },
  {
   "cell_type": "markdown",
   "metadata": {},
   "source": [
    "### Cleaning before join"
   ]
  },
  {
   "cell_type": "code",
   "execution_count": 9,
   "metadata": {},
   "outputs": [],
   "source": [
    "# Cleaning the data a bit for joins\n",
    "# Remove all special characters, convert to lower case\n",
    "def sanitize_name(name_str):\n",
    "    sanitized = name_str.lower()\n",
    "    sanitized = sanitized.replace('-', ' ')\n",
    "    \n",
    "    to_remove = [\".\", \"'\", \"jr\", 'sr', 'iii']\n",
    "    for pattern in to_remove:\n",
    "        sanitized = sanitized.replace(pattern, '')\n",
    "        \n",
    "    # Remove trailing space\n",
    "    sanitized = re.sub(re.compile(\"\\s*$\"), '', sanitized)\n",
    "        \n",
    "    return sanitized"
   ]
  },
  {
   "cell_type": "code",
   "execution_count": 10,
   "metadata": {},
   "outputs": [
    {
     "data": {
      "text/html": [
       "<div>\n",
       "<style scoped>\n",
       "    .dataframe tbody tr th:only-of-type {\n",
       "        vertical-align: middle;\n",
       "    }\n",
       "\n",
       "    .dataframe tbody tr th {\n",
       "        vertical-align: top;\n",
       "    }\n",
       "\n",
       "    .dataframe thead th {\n",
       "        text-align: right;\n",
       "    }\n",
       "</style>\n",
       "<table border=\"1\" class=\"dataframe\">\n",
       "  <thead>\n",
       "    <tr style=\"text-align: right;\">\n",
       "      <th></th>\n",
       "      <th>index</th>\n",
       "      <th>name</th>\n",
       "      <th>position</th>\n",
       "      <th>espn_player_id</th>\n",
       "      <th>url</th>\n",
       "    </tr>\n",
       "  </thead>\n",
       "  <tbody>\n",
       "    <tr>\n",
       "      <th>37</th>\n",
       "      <td>37</td>\n",
       "      <td>Billy Garrett Jr.</td>\n",
       "      <td>G</td>\n",
       "      <td>3059356</td>\n",
       "      <td>http://www.espn.com/nba/player/_/id/3059356/bi...</td>\n",
       "    </tr>\n",
       "    <tr>\n",
       "      <th>158</th>\n",
       "      <td>158</td>\n",
       "      <td>Cody Demps</td>\n",
       "      <td>None</td>\n",
       "      <td>4028211</td>\n",
       "      <td>http://www.espn.com/nba/player/_/id/4028211/co...</td>\n",
       "    </tr>\n",
       "    <tr>\n",
       "      <th>166</th>\n",
       "      <td>166</td>\n",
       "      <td>Frank Mason III</td>\n",
       "      <td>PG</td>\n",
       "      <td>3059315</td>\n",
       "      <td>http://www.espn.com/nba/player/_/id/3059315/fr...</td>\n",
       "    </tr>\n",
       "    <tr>\n",
       "      <th>178</th>\n",
       "      <td>178</td>\n",
       "      <td>Walt Lemon Jr.</td>\n",
       "      <td>PG</td>\n",
       "      <td>2528586</td>\n",
       "      <td>http://www.espn.com/nba/player/_/id/2528586/wa...</td>\n",
       "    </tr>\n",
       "    <tr>\n",
       "      <th>213</th>\n",
       "      <td>213</td>\n",
       "      <td>Sviatoslav Mykhailiuk</td>\n",
       "      <td>SG</td>\n",
       "      <td>3133602</td>\n",
       "      <td>http://www.espn.com/nba/player/_/id/3133602/sv...</td>\n",
       "    </tr>\n",
       "  </tbody>\n",
       "</table>\n",
       "</div>"
      ],
      "text/plain": [
       "     index                   name position  espn_player_id  \\\n",
       "37      37      Billy Garrett Jr.        G         3059356   \n",
       "158    158             Cody Demps     None         4028211   \n",
       "166    166        Frank Mason III       PG         3059315   \n",
       "178    178         Walt Lemon Jr.       PG         2528586   \n",
       "213    213  Sviatoslav Mykhailiuk       SG         3133602   \n",
       "\n",
       "                                                   url  \n",
       "37   http://www.espn.com/nba/player/_/id/3059356/bi...  \n",
       "158  http://www.espn.com/nba/player/_/id/4028211/co...  \n",
       "166  http://www.espn.com/nba/player/_/id/3059315/fr...  \n",
       "178  http://www.espn.com/nba/player/_/id/2528586/wa...  \n",
       "213  http://www.espn.com/nba/player/_/id/3133602/sv...  "
      ]
     },
     "execution_count": 10,
     "metadata": {},
     "output_type": "execute_result"
    }
   ],
   "source": [
    "# Getting a list of ESPN player names not in NBA player name list\n",
    "espn_player_list[~espn_player_list.name.isin(nba_player_list.display_first_last)].head()"
   ]
  },
  {
   "cell_type": "code",
   "execution_count": 11,
   "metadata": {},
   "outputs": [],
   "source": [
    "# Sanitize both dfs\n",
    "nba_player_list.display_first_last = nba_player_list.display_first_last.astype('str')\n",
    "espn_player_list.name = espn_player_list.name.astype('str')\n",
    "\n",
    "espn_player_list.name = espn_player_list.name.apply(sanitize_name)\n",
    "nba_player_list.display_first_last = nba_player_list.display_first_last.apply(sanitize_name)"
   ]
  },
  {
   "cell_type": "code",
   "execution_count": 12,
   "metadata": {},
   "outputs": [],
   "source": [
    "# Handle a few special cases where names are different across two \n",
    "espn_player_list.loc[espn_player_list.espn_player_id == 1713, 'name'] = 'nene'\n",
    "espn_player_list.loc[espn_player_list.espn_player_id == 4017839, 'name'] = 'juancho hernangomez'\n",
    "espn_player_list.loc[espn_player_list.espn_player_id == 3056247, 'name'] = 'kendrick nunn'\n",
    "espn_player_list.loc[espn_player_list.espn_player_id == 2528586, 'name'] = 'walter lemon'\n",
    "espn_player_list.loc[espn_player_list.espn_player_id == 3133602, 'name'] = 'svi mykhailiuk'"
   ]
  },
  {
   "cell_type": "code",
   "execution_count": 13,
   "metadata": {},
   "outputs": [],
   "source": [
    "merged_df = espn_player_list.join(nba_player_list.set_index(\"display_first_last\", drop=True),\n",
    "                                    on='name')"
   ]
  },
  {
   "cell_type": "code",
   "execution_count": 14,
   "metadata": {
    "scrolled": true
   },
   "outputs": [
    {
     "data": {
      "text/html": [
       "<div>\n",
       "<style scoped>\n",
       "    .dataframe tbody tr th:only-of-type {\n",
       "        vertical-align: middle;\n",
       "    }\n",
       "\n",
       "    .dataframe tbody tr th {\n",
       "        vertical-align: top;\n",
       "    }\n",
       "\n",
       "    .dataframe thead th {\n",
       "        text-align: right;\n",
       "    }\n",
       "</style>\n",
       "<table border=\"1\" class=\"dataframe\">\n",
       "  <thead>\n",
       "    <tr style=\"text-align: right;\">\n",
       "      <th></th>\n",
       "      <th>index</th>\n",
       "      <th>name</th>\n",
       "      <th>position</th>\n",
       "      <th>espn_player_id</th>\n",
       "      <th>url</th>\n",
       "      <th>person_id</th>\n",
       "    </tr>\n",
       "  </thead>\n",
       "  <tbody>\n",
       "    <tr>\n",
       "      <th>158</th>\n",
       "      <td>158</td>\n",
       "      <td>cody demps</td>\n",
       "      <td>None</td>\n",
       "      <td>4028211</td>\n",
       "      <td>http://www.espn.com/nba/player/_/id/4028211/co...</td>\n",
       "      <td>NaN</td>\n",
       "    </tr>\n",
       "    <tr>\n",
       "      <th>376</th>\n",
       "      <td>376</td>\n",
       "      <td>kendrick nunn</td>\n",
       "      <td>None</td>\n",
       "      <td>3056247</td>\n",
       "      <td>http://www.espn.com/nba/player/_/id/3056247/ke...</td>\n",
       "      <td>1629134.0</td>\n",
       "    </tr>\n",
       "  </tbody>\n",
       "</table>\n",
       "</div>"
      ],
      "text/plain": [
       "     index           name position  espn_player_id  \\\n",
       "158    158     cody demps     None         4028211   \n",
       "376    376  kendrick nunn     None         3056247   \n",
       "\n",
       "                                                   url  person_id  \n",
       "158  http://www.espn.com/nba/player/_/id/4028211/co...        NaN  \n",
       "376  http://www.espn.com/nba/player/_/id/3056247/ke...  1629134.0  "
      ]
     },
     "execution_count": 14,
     "metadata": {},
     "output_type": "execute_result"
    }
   ],
   "source": [
    "# Check for rows that didn't join correctly\n",
    "merged_df[merged_df.isnull().any(axis=1)]"
   ]
  },
  {
   "cell_type": "code",
   "execution_count": 19,
   "metadata": {},
   "outputs": [
    {
     "data": {
      "text/html": [
       "<div>\n",
       "<style scoped>\n",
       "    .dataframe tbody tr th:only-of-type {\n",
       "        vertical-align: middle;\n",
       "    }\n",
       "\n",
       "    .dataframe tbody tr th {\n",
       "        vertical-align: top;\n",
       "    }\n",
       "\n",
       "    .dataframe thead th {\n",
       "        text-align: right;\n",
       "    }\n",
       "</style>\n",
       "<table border=\"1\" class=\"dataframe\">\n",
       "  <thead>\n",
       "    <tr style=\"text-align: right;\">\n",
       "      <th></th>\n",
       "      <th>index</th>\n",
       "      <th>name</th>\n",
       "      <th>position</th>\n",
       "      <th>espn_player_id</th>\n",
       "      <th>url</th>\n",
       "      <th>person_id</th>\n",
       "    </tr>\n",
       "  </thead>\n",
       "  <tbody>\n",
       "    <tr>\n",
       "      <th>158</th>\n",
       "      <td>158</td>\n",
       "      <td>cody demps</td>\n",
       "      <td>None</td>\n",
       "      <td>4028211</td>\n",
       "      <td>http://www.espn.com/nba/player/_/id/4028211/co...</td>\n",
       "      <td>NaN</td>\n",
       "    </tr>\n",
       "    <tr>\n",
       "      <th>376</th>\n",
       "      <td>376</td>\n",
       "      <td>kendrick nunn</td>\n",
       "      <td>None</td>\n",
       "      <td>3056247</td>\n",
       "      <td>http://www.espn.com/nba/player/_/id/3056247/ke...</td>\n",
       "      <td>1629134.0</td>\n",
       "    </tr>\n",
       "  </tbody>\n",
       "</table>\n",
       "</div>"
      ],
      "text/plain": [
       "     index           name position  espn_player_id  \\\n",
       "158    158     cody demps     None         4028211   \n",
       "376    376  kendrick nunn     None         3056247   \n",
       "\n",
       "                                                   url  person_id  \n",
       "158  http://www.espn.com/nba/player/_/id/4028211/co...        NaN  \n",
       "376  http://www.espn.com/nba/player/_/id/3056247/ke...  1629134.0  "
      ]
     },
     "execution_count": 19,
     "metadata": {},
     "output_type": "execute_result"
    }
   ],
   "source": [
    "merged_df[merged_df.position.isnull()]"
   ]
  },
  {
   "cell_type": "code",
   "execution_count": 27,
   "metadata": {},
   "outputs": [
    {
     "data": {
      "text/plain": [
       "(496, 6)"
      ]
     },
     "execution_count": 27,
     "metadata": {},
     "output_type": "execute_result"
    }
   ],
   "source": [
    "# Kendrick Nunn and Cody Demps just got traded and \n",
    "# has not played any games in his career, so we're dropping them\n",
    "\n",
    "merged_df = merged_df.dropna()\n",
    "merged_df = merged_df.rename(columns={\"person_id\":\"nba_id\"})\n",
    "merged_df.shape"
   ]
  },
  {
   "cell_type": "code",
   "execution_count": 29,
   "metadata": {},
   "outputs": [],
   "source": [
    "# Load to DB\n",
    "with engine.connect() as conn:\n",
    "    merged_df.to_sql(\"players\", conn, dtype={'nba_id':Integer, 'espn_player_id':Integer}, index=False, if_exists='replace')"
   ]
  },
  {
   "cell_type": "code",
   "execution_count": 30,
   "metadata": {
    "scrolled": true
   },
   "outputs": [
    {
     "data": {
      "text/html": [
       "<div>\n",
       "<style scoped>\n",
       "    .dataframe tbody tr th:only-of-type {\n",
       "        vertical-align: middle;\n",
       "    }\n",
       "\n",
       "    .dataframe tbody tr th {\n",
       "        vertical-align: top;\n",
       "    }\n",
       "\n",
       "    .dataframe thead th {\n",
       "        text-align: right;\n",
       "    }\n",
       "</style>\n",
       "<table border=\"1\" class=\"dataframe\">\n",
       "  <thead>\n",
       "    <tr style=\"text-align: right;\">\n",
       "      <th></th>\n",
       "      <th>index</th>\n",
       "      <th>name</th>\n",
       "      <th>position</th>\n",
       "      <th>espn_player_id</th>\n",
       "      <th>url</th>\n",
       "      <th>nba_id</th>\n",
       "    </tr>\n",
       "  </thead>\n",
       "  <tbody>\n",
       "    <tr>\n",
       "      <th>0</th>\n",
       "      <td>0</td>\n",
       "      <td>aron baynes</td>\n",
       "      <td>C</td>\n",
       "      <td>2968439</td>\n",
       "      <td>http://www.espn.com/nba/player/_/id/2968439/ar...</td>\n",
       "      <td>203382.0</td>\n",
       "    </tr>\n",
       "    <tr>\n",
       "      <th>1</th>\n",
       "      <td>1</td>\n",
       "      <td>jaylen brown</td>\n",
       "      <td>SG</td>\n",
       "      <td>3917376</td>\n",
       "      <td>http://www.espn.com/nba/player/_/id/3917376/ja...</td>\n",
       "      <td>1627759.0</td>\n",
       "    </tr>\n",
       "    <tr>\n",
       "      <th>2</th>\n",
       "      <td>2</td>\n",
       "      <td>pj dozier</td>\n",
       "      <td>PG</td>\n",
       "      <td>3923250</td>\n",
       "      <td>http://www.espn.com/nba/player/_/id/3923250/pj...</td>\n",
       "      <td>1628408.0</td>\n",
       "    </tr>\n",
       "    <tr>\n",
       "      <th>3</th>\n",
       "      <td>3</td>\n",
       "      <td>jonathan gibson</td>\n",
       "      <td>PG</td>\n",
       "      <td>2234666</td>\n",
       "      <td>http://www.espn.com/nba/player/_/id/2234666/jo...</td>\n",
       "      <td>1626780.0</td>\n",
       "    </tr>\n",
       "    <tr>\n",
       "      <th>4</th>\n",
       "      <td>4</td>\n",
       "      <td>gordon hayward</td>\n",
       "      <td>SF</td>\n",
       "      <td>4249</td>\n",
       "      <td>http://www.espn.com/nba/player/_/id/4249/gordo...</td>\n",
       "      <td>202330.0</td>\n",
       "    </tr>\n",
       "  </tbody>\n",
       "</table>\n",
       "</div>"
      ],
      "text/plain": [
       "   index             name position  espn_player_id  \\\n",
       "0      0      aron baynes        C         2968439   \n",
       "1      1     jaylen brown       SG         3917376   \n",
       "2      2        pj dozier       PG         3923250   \n",
       "3      3  jonathan gibson       PG         2234666   \n",
       "4      4   gordon hayward       SF            4249   \n",
       "\n",
       "                                                 url     nba_id  \n",
       "0  http://www.espn.com/nba/player/_/id/2968439/ar...   203382.0  \n",
       "1  http://www.espn.com/nba/player/_/id/3917376/ja...  1627759.0  \n",
       "2  http://www.espn.com/nba/player/_/id/3923250/pj...  1628408.0  \n",
       "3  http://www.espn.com/nba/player/_/id/2234666/jo...  1626780.0  \n",
       "4  http://www.espn.com/nba/player/_/id/4249/gordo...   202330.0  "
      ]
     },
     "execution_count": 30,
     "metadata": {},
     "output_type": "execute_result"
    }
   ],
   "source": [
    "merged_df.head()"
   ]
  },
  {
   "cell_type": "markdown",
   "metadata": {},
   "source": [
    "## Loading NBA Player Stat into DB"
   ]
  },
  {
   "cell_type": "code",
   "execution_count": null,
   "metadata": {},
   "outputs": [],
   "source": []
  }
 ],
 "metadata": {
  "kernelspec": {
   "display_name": "Python 3",
   "language": "python",
   "name": "python3"
  },
  "language_info": {
   "codemirror_mode": {
    "name": "ipython",
    "version": 3
   },
   "file_extension": ".py",
   "mimetype": "text/x-python",
   "name": "python",
   "nbconvert_exporter": "python",
   "pygments_lexer": "ipython3",
   "version": "3.6.8"
  }
 },
 "nbformat": 4,
 "nbformat_minor": 2
}
