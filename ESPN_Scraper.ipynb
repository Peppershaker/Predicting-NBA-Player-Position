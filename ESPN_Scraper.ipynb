{
 "cells": [
  {
   "cell_type": "code",
   "execution_count": 5,
   "metadata": {
    "ExecuteTime": {
     "end_time": "2019-05-31T20:44:06.991477Z",
     "start_time": "2019-05-31T20:44:06.987976Z"
    },
    "init_cell": true
   },
   "outputs": [],
   "source": [
    "import sys\n",
    "sys.path.append('/Users/victor/Documents/code/nba_api')\n",
    "\n",
    "import re\n",
    "import pandas as pd\n",
    "import numpy as np\n",
    "\n",
    "from src.espn_scraper import espn_player_scraper\n",
    "from src.player_stat import get_player_stat, NoDataError\n",
    "\n",
    "from sqlalchemy import create_engine, Integer\n",
    "from tqdm import tqdm_notebook\n",
    "from nba_py import player\n",
    "from time import sleep"
   ]
  },
  {
   "cell_type": "markdown",
   "metadata": {},
   "source": [
    "## Scrape ESPN for Player Position and Load to DB"
   ]
  },
  {
   "cell_type": "code",
   "execution_count": 6,
   "metadata": {
    "ExecuteTime": {
     "end_time": "2019-05-31T20:44:07.004905Z",
     "start_time": "2019-05-31T20:44:06.993657Z"
    },
    "init_cell": true
   },
   "outputs": [],
   "source": [
    "# Initialize the db. Relatively small dataset, so we'll use SQLite\n",
    "engine = create_engine(\"sqlite:///db/nba.db\", echo=False)"
   ]
  },
  {
   "cell_type": "code",
   "execution_count": null,
   "metadata": {
    "ExecuteTime": {
     "end_time": "2019-05-31T16:24:56.348598Z",
     "start_time": "2019-05-31T16:24:42.664468Z"
    }
   },
   "outputs": [],
   "source": [
    "# Scrape ESPN pages\n",
    "teams_overview_url = \"http://www.espn.com/nba/players\"\n",
    "scraper = espn_player_scraper()\n",
    "espn_player_list = scraper.scrape_all_players(teams_overview_url)"
   ]
  },
  {
   "cell_type": "code",
   "execution_count": null,
   "metadata": {
    "ExecuteTime": {
     "end_time": "2019-05-31T16:24:56.478074Z",
     "start_time": "2019-05-31T16:24:56.438348Z"
    }
   },
   "outputs": [],
   "source": [
    "# Load to DB\n",
    "with engine.connect() as conn:\n",
    "    espn_player_list.to_sql('espn_players', conn, dtype={\"espn_player_id\":Integer}, if_exists=\"replace\", index=False)"
   ]
  },
  {
   "cell_type": "markdown",
   "metadata": {},
   "source": [
    "## Getting player performance data from NBA API\n",
    "Here we will use nba_py by seemethere, a Python wrapper for the unpublished offical NBA API.\n",
    "\n",
    "The official NBA API uses a different set of Player IDs, so we will have to join ESPN and NBA data by cross referencing player names. Also, the NBA API returns some players in the NBA Delevelopment league, which we are not interested in. We will thus use a left join on the ESPN table."
   ]
  },
  {
   "cell_type": "code",
   "execution_count": null,
   "metadata": {
    "ExecuteTime": {
     "end_time": "2019-05-31T16:25:04.548370Z",
     "start_time": "2019-05-31T16:25:04.329028Z"
    }
   },
   "outputs": [],
   "source": [
    "# Loading back the data\n",
    "with engine.connect() as conn:\n",
    "    espn_player_list = pd.read_sql('espn_players', conn)\n",
    "\n",
    "# Getting players for the current season\n",
    "nba_player_list = player.PlayerList().info()\n",
    "\n",
    "# Convert upper case letter to upper case letter\n",
    "nba_player_list.columns = [col.lower() for col in nba_player_list.columns]\n",
    "\n",
    "# Check if number of players are the same\n",
    "print(\"NBA roster has {} players\".format(nba_player_list.shape[0]))\n",
    "print(\"ESPN roster has {} players\".format(espn_player_list.shape[0]))"
   ]
  },
  {
   "cell_type": "code",
   "execution_count": null,
   "metadata": {
    "ExecuteTime": {
     "end_time": "2019-05-31T16:25:09.707165Z",
     "start_time": "2019-05-31T16:25:09.598794Z"
    }
   },
   "outputs": [],
   "source": [
    "with engine.connect() as conn:\n",
    "    nba_player_list.to_sql(\"nba_players\", conn, dtype={'person_id':Integer}, if_exists=\"replace\", index=False)"
   ]
  },
  {
   "cell_type": "code",
   "execution_count": null,
   "metadata": {
    "ExecuteTime": {
     "end_time": "2019-05-31T16:25:09.815808Z",
     "start_time": "2019-05-31T16:25:09.797899Z"
    },
    "scrolled": true
   },
   "outputs": [],
   "source": [
    "nba_player_list.head()"
   ]
  },
  {
   "cell_type": "code",
   "execution_count": null,
   "metadata": {
    "ExecuteTime": {
     "end_time": "2019-05-31T16:25:09.942406Z",
     "start_time": "2019-05-31T16:25:09.933214Z"
    }
   },
   "outputs": [],
   "source": [
    "# Selecting columns of interest\n",
    "nba_player_list = nba_player_list[['person_id','display_first_last']]\n",
    "nba_player_list.head()"
   ]
  },
  {
   "cell_type": "code",
   "execution_count": null,
   "metadata": {
    "ExecuteTime": {
     "end_time": "2019-05-31T16:25:10.067966Z",
     "start_time": "2019-05-31T16:25:10.056232Z"
    },
    "scrolled": true
   },
   "outputs": [],
   "source": [
    "espn_player_list.head()"
   ]
  },
  {
   "cell_type": "markdown",
   "metadata": {},
   "source": [
    "### Cleaning before join"
   ]
  },
  {
   "cell_type": "code",
   "execution_count": null,
   "metadata": {
    "ExecuteTime": {
     "end_time": "2019-05-31T16:25:10.683248Z",
     "start_time": "2019-05-31T16:25:10.678950Z"
    }
   },
   "outputs": [],
   "source": [
    "# Cleaning the data a bit for joins\n",
    "# Remove all special characters, convert to lower case\n",
    "def sanitize_name(name_str):\n",
    "    sanitized = name_str.lower()\n",
    "    sanitized = sanitized.replace('-', ' ')\n",
    "    \n",
    "    to_remove = [\".\", \"'\", \"jr\", 'sr', 'iii']\n",
    "    for pattern in to_remove:\n",
    "        sanitized = sanitized.replace(pattern, '')\n",
    "        \n",
    "    # Remove trailing space\n",
    "    sanitized = re.sub(re.compile(\"\\s*$\"), '', sanitized)\n",
    "        \n",
    "    return sanitized"
   ]
  },
  {
   "cell_type": "code",
   "execution_count": null,
   "metadata": {
    "ExecuteTime": {
     "end_time": "2019-05-31T16:25:10.859584Z",
     "start_time": "2019-05-31T16:25:10.849229Z"
    }
   },
   "outputs": [],
   "source": [
    "# Getting a list of ESPN player names not in NBA player name list\n",
    "espn_player_list[~espn_player_list.name.isin(nba_player_list.display_first_last)].head()"
   ]
  },
  {
   "cell_type": "code",
   "execution_count": null,
   "metadata": {
    "ExecuteTime": {
     "end_time": "2019-05-31T16:25:11.073142Z",
     "start_time": "2019-05-31T16:25:11.006869Z"
    }
   },
   "outputs": [],
   "source": [
    "# Sanitize both dfs\n",
    "nba_player_list.display_first_last = nba_player_list.display_first_last.astype('str')\n",
    "espn_player_list.name = espn_player_list.name.astype('str')\n",
    "\n",
    "espn_player_list.name = espn_player_list.name.apply(sanitize_name)\n",
    "nba_player_list.display_first_last = nba_player_list.display_first_last.apply(sanitize_name)"
   ]
  },
  {
   "cell_type": "code",
   "execution_count": null,
   "metadata": {
    "ExecuteTime": {
     "end_time": "2019-05-31T16:25:11.162786Z",
     "start_time": "2019-05-31T16:25:11.142826Z"
    }
   },
   "outputs": [],
   "source": [
    "# Handle a few special cases where names are different across two \n",
    "espn_player_list.loc[espn_player_list.espn_player_id == 1713, 'name'] = 'nene'\n",
    "espn_player_list.loc[espn_player_list.espn_player_id == 4017839, 'name'] = 'juancho hernangomez'\n",
    "espn_player_list.loc[espn_player_list.espn_player_id == 3056247, 'name'] = 'kendrick nunn'\n",
    "espn_player_list.loc[espn_player_list.espn_player_id == 2528586, 'name'] = 'walter lemon'\n",
    "espn_player_list.loc[espn_player_list.espn_player_id == 3133602, 'name'] = 'svi mykhailiuk'"
   ]
  },
  {
   "cell_type": "code",
   "execution_count": null,
   "metadata": {
    "ExecuteTime": {
     "end_time": "2019-05-31T16:25:11.295740Z",
     "start_time": "2019-05-31T16:25:11.288549Z"
    }
   },
   "outputs": [],
   "source": [
    "merged_df = espn_player_list.join(nba_player_list.set_index(\"display_first_last\", drop=True),\n",
    "                                    on='name')"
   ]
  },
  {
   "cell_type": "code",
   "execution_count": null,
   "metadata": {
    "ExecuteTime": {
     "end_time": "2019-05-31T16:25:11.444723Z",
     "start_time": "2019-05-31T16:25:11.431942Z"
    },
    "scrolled": true
   },
   "outputs": [],
   "source": [
    "# Check for rows that didn't join correctly\n",
    "merged_df[merged_df.isnull().any(axis=1)]"
   ]
  },
  {
   "cell_type": "code",
   "execution_count": null,
   "metadata": {
    "ExecuteTime": {
     "end_time": "2019-05-31T16:25:11.594092Z",
     "start_time": "2019-05-31T16:25:11.583925Z"
    }
   },
   "outputs": [],
   "source": [
    "merged_df[merged_df.position.isnull()]"
   ]
  },
  {
   "cell_type": "code",
   "execution_count": null,
   "metadata": {
    "ExecuteTime": {
     "end_time": "2019-05-31T16:25:11.729650Z",
     "start_time": "2019-05-31T16:25:11.721169Z"
    }
   },
   "outputs": [],
   "source": [
    "# Kendrick Nunn and Cody Demps just got traded and \n",
    "# has not played any games in his career, so we're dropping them\n",
    "\n",
    "merged_df = merged_df.dropna()\n",
    "merged_df = merged_df.rename(columns={\"person_id\":\"nba_id\"})\n",
    "merged_df.shape"
   ]
  },
  {
   "cell_type": "code",
   "execution_count": null,
   "metadata": {
    "ExecuteTime": {
     "end_time": "2019-05-31T16:25:11.907773Z",
     "start_time": "2019-05-31T16:25:11.857214Z"
    }
   },
   "outputs": [],
   "source": [
    "# Load to DB\n",
    "with engine.connect() as conn:\n",
    "    merged_df.to_sql(\"players\", conn, dtype={'nba_id':Integer, 'espn_player_id':Integer}, index=False, if_exists='replace')"
   ]
  },
  {
   "cell_type": "code",
   "execution_count": null,
   "metadata": {
    "ExecuteTime": {
     "end_time": "2019-05-31T16:25:12.010850Z",
     "start_time": "2019-05-31T16:25:12.000116Z"
    },
    "scrolled": true
   },
   "outputs": [],
   "source": [
    "merged_df.head()"
   ]
  },
  {
   "cell_type": "markdown",
   "metadata": {},
   "source": [
    "## Loading NBA Player Stat into DB"
   ]
  },
  {
   "cell_type": "code",
   "execution_count": 7,
   "metadata": {
    "ExecuteTime": {
     "end_time": "2019-05-31T20:44:10.919235Z",
     "start_time": "2019-05-31T20:44:10.897733Z"
    }
   },
   "outputs": [
    {
     "name": "stdout",
     "output_type": "stream",
     "text": [
      "Total of 489 unique IDs\n"
     ]
    }
   ],
   "source": [
    "# Read back the db\n",
    "with engine.connect() as conn:\n",
    "    players = pd.read_sql(\"players\", conn)\n",
    "    \n",
    "# Getting unique set of player_ids\n",
    "nba_ids = players.nba_id.unique()\n",
    "\n",
    "print(\"Total of {} unique IDs\".format(nba_ids.shape[0]))"
   ]
  },
  {
   "cell_type": "code",
   "execution_count": 11,
   "metadata": {
    "ExecuteTime": {
     "end_time": "2019-05-31T21:15:37.082423Z",
     "start_time": "2019-05-31T20:44:55.410704Z"
    },
    "scrolled": false
   },
   "outputs": [
    {
     "data": {
      "application/vnd.jupyter.widget-view+json": {
       "model_id": "9f365f5012724007b2516ded6926d4c8",
       "version_major": 2,
       "version_minor": 0
      },
      "text/plain": [
       "HBox(children=(IntProgress(value=0, max=489), HTML(value='')))"
      ]
     },
     "metadata": {},
     "output_type": "display_data"
    },
    {
     "name": "stdout",
     "output_type": "stream",
     "text": [
      "\n"
     ]
    }
   ],
   "source": [
    "dfs_to_concat = []\n",
    "for idx in tqdm_notebook(nba_ids):\n",
    "    sleep(1) # Prevent from being banned\n",
    "    try: \n",
    "        dfs_to_concat.append(get_player_stat(idx))\n",
    "    except NoDataError:\n",
    "        # This is when the player has no data and returns an empty df\n",
    "        continue"
   ]
  },
  {
   "cell_type": "code",
   "execution_count": 12,
   "metadata": {
    "ExecuteTime": {
     "end_time": "2019-05-31T21:43:04.814959Z",
     "start_time": "2019-05-31T21:43:04.138711Z"
    }
   },
   "outputs": [],
   "source": [
    "final_df = pd.concat(dfs_to_concat, sort=False)"
   ]
  },
  {
   "cell_type": "code",
   "execution_count": 13,
   "metadata": {
    "ExecuteTime": {
     "end_time": "2019-05-31T20:30:19.757868Z",
     "start_time": "2019-05-31T20:30:19.730922Z"
    }
   },
   "outputs": [],
   "source": [
    "final_df.to_csv(\"Finaldf.csv\")"
   ]
  },
  {
   "cell_type": "code",
   "execution_count": 17,
   "metadata": {
    "ExecuteTime": {
     "end_time": "2019-05-31T21:52:12.311364Z",
     "start_time": "2019-05-31T21:52:12.308837Z"
    }
   },
   "outputs": [],
   "source": [
    "final_df.index.name = \"nba_id\""
   ]
  },
  {
   "cell_type": "code",
   "execution_count": 19,
   "metadata": {
    "ExecuteTime": {
     "end_time": "2019-05-31T21:57:00.010664Z",
     "start_time": "2019-05-31T21:56:59.986222Z"
    }
   },
   "outputs": [
    {
     "data": {
      "text/html": [
       "<div>\n",
       "<style scoped>\n",
       "    .dataframe tbody tr th:only-of-type {\n",
       "        vertical-align: middle;\n",
       "    }\n",
       "\n",
       "    .dataframe tbody tr th {\n",
       "        vertical-align: top;\n",
       "    }\n",
       "\n",
       "    .dataframe thead th {\n",
       "        text-align: right;\n",
       "    }\n",
       "</style>\n",
       "<table border=\"1\" class=\"dataframe\">\n",
       "  <thead>\n",
       "    <tr style=\"text-align: right;\">\n",
       "      <th></th>\n",
       "      <th>shot_res</th>\n",
       "      <th>shot_in_paint</th>\n",
       "      <th>shot_mid_range</th>\n",
       "      <th>shot_lcorner_3</th>\n",
       "      <th>shot_rcorner_3</th>\n",
       "      <th>shot_above_3</th>\n",
       "      <th>fga</th>\n",
       "      <th>block_res</th>\n",
       "      <th>block_in_paint</th>\n",
       "      <th>block_mid_range</th>\n",
       "      <th>block_lcorner_3</th>\n",
       "      <th>block_rcorner_3</th>\n",
       "      <th>block_above_3</th>\n",
       "      <th>blka</th>\n",
       "      <th>oreb</th>\n",
       "      <th>dreb</th>\n",
       "      <th>ast</th>\n",
       "      <th>stl</th>\n",
       "      <th>min</th>\n",
       "    </tr>\n",
       "    <tr>\n",
       "      <th>nba_id</th>\n",
       "      <th></th>\n",
       "      <th></th>\n",
       "      <th></th>\n",
       "      <th></th>\n",
       "      <th></th>\n",
       "      <th></th>\n",
       "      <th></th>\n",
       "      <th></th>\n",
       "      <th></th>\n",
       "      <th></th>\n",
       "      <th></th>\n",
       "      <th></th>\n",
       "      <th></th>\n",
       "      <th></th>\n",
       "      <th></th>\n",
       "      <th></th>\n",
       "      <th></th>\n",
       "      <th></th>\n",
       "      <th></th>\n",
       "    </tr>\n",
       "  </thead>\n",
       "  <tbody>\n",
       "    <tr>\n",
       "      <th>203382</th>\n",
       "      <td>0.515695</td>\n",
       "      <td>0.125561</td>\n",
       "      <td>0.0852018</td>\n",
       "      <td>0.0224215</td>\n",
       "      <td>0.0269058</td>\n",
       "      <td>0.224215</td>\n",
       "      <td>223</td>\n",
       "      <td>0.749999</td>\n",
       "      <td>0.25</td>\n",
       "      <td>0</td>\n",
       "      <td>0</td>\n",
       "      <td>0</td>\n",
       "      <td>0</td>\n",
       "      <td>12</td>\n",
       "      <td>9.3</td>\n",
       "      <td>18.7</td>\n",
       "      <td>6.3</td>\n",
       "      <td>1.4</td>\n",
       "      <td>2305.288333</td>\n",
       "    </tr>\n",
       "    <tr>\n",
       "      <th>1627759</th>\n",
       "      <td>0.367424</td>\n",
       "      <td>0.156566</td>\n",
       "      <td>0.127525</td>\n",
       "      <td>0.0328283</td>\n",
       "      <td>0.0643939</td>\n",
       "      <td>0.251263</td>\n",
       "      <td>792</td>\n",
       "      <td>0.674418</td>\n",
       "      <td>0.27907</td>\n",
       "      <td>0</td>\n",
       "      <td>0</td>\n",
       "      <td>0.0232558</td>\n",
       "      <td>0.0232558</td>\n",
       "      <td>43</td>\n",
       "      <td>3.1</td>\n",
       "      <td>12.4</td>\n",
       "      <td>5.0</td>\n",
       "      <td>3.3</td>\n",
       "      <td>4065.096667</td>\n",
       "    </tr>\n",
       "    <tr>\n",
       "      <th>1628408</th>\n",
       "      <td>0.333333</td>\n",
       "      <td>0.190476</td>\n",
       "      <td>0.095238</td>\n",
       "      <td>0</td>\n",
       "      <td>0.095238</td>\n",
       "      <td>0.285714</td>\n",
       "      <td>21</td>\n",
       "      <td>0</td>\n",
       "      <td>0</td>\n",
       "      <td>0</td>\n",
       "      <td>0</td>\n",
       "      <td>0</td>\n",
       "      <td>0</td>\n",
       "      <td>0</td>\n",
       "      <td>5.7</td>\n",
       "      <td>25.5</td>\n",
       "      <td>4.7</td>\n",
       "      <td>1.9</td>\n",
       "      <td>54.031667</td>\n",
       "    </tr>\n",
       "    <tr>\n",
       "      <th>202330</th>\n",
       "      <td>0.261417</td>\n",
       "      <td>0.15748</td>\n",
       "      <td>0.218898</td>\n",
       "      <td>0.0503937</td>\n",
       "      <td>0.0598425</td>\n",
       "      <td>0.251968</td>\n",
       "      <td>635</td>\n",
       "      <td>0.629629</td>\n",
       "      <td>0.259259</td>\n",
       "      <td>0.037037</td>\n",
       "      <td>0.037037</td>\n",
       "      <td>0</td>\n",
       "      <td>0.037037</td>\n",
       "      <td>27</td>\n",
       "      <td>1.3</td>\n",
       "      <td>16.1</td>\n",
       "      <td>6.3</td>\n",
       "      <td>1.6</td>\n",
       "      <td>1868.588333</td>\n",
       "    </tr>\n",
       "    <tr>\n",
       "      <th>201143</th>\n",
       "      <td>0.285319</td>\n",
       "      <td>0.198061</td>\n",
       "      <td>0.235457</td>\n",
       "      <td>0.0124654</td>\n",
       "      <td>0.0166205</td>\n",
       "      <td>0.252078</td>\n",
       "      <td>722</td>\n",
       "      <td>0.586207</td>\n",
       "      <td>0.37931</td>\n",
       "      <td>0.0344827</td>\n",
       "      <td>0</td>\n",
       "      <td>0</td>\n",
       "      <td>0</td>\n",
       "      <td>29</td>\n",
       "      <td>5.1</td>\n",
       "      <td>17.2</td>\n",
       "      <td>14.0</td>\n",
       "      <td>2.3</td>\n",
       "      <td>4249.708333</td>\n",
       "    </tr>\n",
       "  </tbody>\n",
       "</table>\n",
       "</div>"
      ],
      "text/plain": [
       "         shot_res shot_in_paint shot_mid_range shot_lcorner_3 shot_rcorner_3  \\\n",
       "nba_id                                                                         \n",
       "203382   0.515695      0.125561      0.0852018      0.0224215      0.0269058   \n",
       "1627759  0.367424      0.156566       0.127525      0.0328283      0.0643939   \n",
       "1628408  0.333333      0.190476       0.095238              0       0.095238   \n",
       "202330   0.261417       0.15748       0.218898      0.0503937      0.0598425   \n",
       "201143   0.285319      0.198061       0.235457      0.0124654      0.0166205   \n",
       "\n",
       "        shot_above_3  fga block_res block_in_paint block_mid_range  \\\n",
       "nba_id                                                               \n",
       "203382      0.224215  223  0.749999           0.25               0   \n",
       "1627759     0.251263  792  0.674418        0.27907               0   \n",
       "1628408     0.285714   21         0              0               0   \n",
       "202330      0.251968  635  0.629629       0.259259        0.037037   \n",
       "201143      0.252078  722  0.586207        0.37931       0.0344827   \n",
       "\n",
       "        block_lcorner_3 block_rcorner_3 block_above_3  blka  oreb  dreb   ast  \\\n",
       "nba_id                                                                          \n",
       "203382                0               0             0    12   9.3  18.7   6.3   \n",
       "1627759               0       0.0232558     0.0232558    43   3.1  12.4   5.0   \n",
       "1628408               0               0             0     0   5.7  25.5   4.7   \n",
       "202330         0.037037               0      0.037037    27   1.3  16.1   6.3   \n",
       "201143                0               0             0    29   5.1  17.2  14.0   \n",
       "\n",
       "         stl          min  \n",
       "nba_id                     \n",
       "203382   1.4  2305.288333  \n",
       "1627759  3.3  4065.096667  \n",
       "1628408  1.9    54.031667  \n",
       "202330   1.6  1868.588333  \n",
       "201143   2.3  4249.708333  "
      ]
     },
     "execution_count": 19,
     "metadata": {},
     "output_type": "execute_result"
    }
   ],
   "source": [
    "final_df.head()"
   ]
  },
  {
   "cell_type": "code",
   "execution_count": 18,
   "metadata": {
    "ExecuteTime": {
     "end_time": "2019-05-31T21:55:35.850434Z",
     "start_time": "2019-05-31T21:55:35.715415Z"
    }
   },
   "outputs": [],
   "source": [
    "with engine.connect() as conn:\n",
    "    final_df.to_sql(\"stat\", conn)"
   ]
  }
 ],
 "metadata": {
  "kernelspec": {
   "display_name": "Python 3",
   "language": "python",
   "name": "python3"
  },
  "language_info": {
   "codemirror_mode": {
    "name": "ipython",
    "version": 3
   },
   "file_extension": ".py",
   "mimetype": "text/x-python",
   "name": "python",
   "nbconvert_exporter": "python",
   "pygments_lexer": "ipython3",
   "version": "3.6.8"
  },
  "varInspector": {
   "cols": {
    "lenName": 16,
    "lenType": 16,
    "lenVar": 40
   },
   "kernels_config": {
    "python": {
     "delete_cmd_postfix": "",
     "delete_cmd_prefix": "del ",
     "library": "var_list.py",
     "varRefreshCmd": "print(var_dic_list())"
    },
    "r": {
     "delete_cmd_postfix": ") ",
     "delete_cmd_prefix": "rm(",
     "library": "var_list.r",
     "varRefreshCmd": "cat(var_dic_list()) "
    }
   },
   "types_to_exclude": [
    "module",
    "function",
    "builtin_function_or_method",
    "instance",
    "_Feature"
   ],
   "window_display": false
  }
 },
 "nbformat": 4,
 "nbformat_minor": 2
}
