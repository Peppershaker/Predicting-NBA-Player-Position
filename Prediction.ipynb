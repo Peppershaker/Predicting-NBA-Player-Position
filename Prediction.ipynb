{
 "cells": [
  {
   "cell_type": "code",
   "execution_count": 24,
   "metadata": {
    "ExecuteTime": {
     "end_time": "2019-05-31T20:22:34.896402Z",
     "start_time": "2019-05-31T20:22:34.876047Z"
    }
   },
   "outputs": [],
   "source": [
    "import sys\n",
    "sys.path.append('/Users/victor/Documents/code/nba_api')\n",
    "\n",
    "import re\n",
    "import pandas as pd\n",
    "import numpy as np\n",
    "\n",
    "from src.espn_scraper import espn_player_scraper\n",
    "from src.player_stat import get_player_stat, NoDataError\n",
    "\n",
    "from sqlalchemy import create_engine\n",
    "from tqdm import tqdm_notebook\n",
    "from nba_py import player\n",
    "from time import sleep\n",
    "import scipy as sp\n",
    "import seaborn as sns"
   ]
  },
  {
   "cell_type": "markdown",
   "metadata": {},
   "source": [
    "## Reading in the data"
   ]
  },
  {
   "cell_type": "code",
   "execution_count": 76,
   "metadata": {
    "ExecuteTime": {
     "end_time": "2019-05-31T19:09:54.803451Z",
     "start_time": "2019-05-31T19:09:54.777295Z"
    }
   },
   "outputs": [],
   "source": [
    "engine = create_engine(\"sqlite:///db/nba.db\", echo=False)\n",
    "with engine.connect() as conn:\n",
    "    stat = pd.read_sql('stat', conn, index_col='nba_id')\n",
    "    position = pd.read_sql('players', conn, index_col='nba_id')"
   ]
  },
  {
   "cell_type": "code",
   "execution_count": 77,
   "metadata": {
    "scrolled": true
   },
   "outputs": [
    {
     "data": {
      "text/html": [
       "<div>\n",
       "<style scoped>\n",
       "    .dataframe tbody tr th:only-of-type {\n",
       "        vertical-align: middle;\n",
       "    }\n",
       "\n",
       "    .dataframe tbody tr th {\n",
       "        vertical-align: top;\n",
       "    }\n",
       "\n",
       "    .dataframe thead th {\n",
       "        text-align: right;\n",
       "    }\n",
       "</style>\n",
       "<table border=\"1\" class=\"dataframe\">\n",
       "  <thead>\n",
       "    <tr style=\"text-align: right;\">\n",
       "      <th></th>\n",
       "      <th>shot_res</th>\n",
       "      <th>shot_in_paint</th>\n",
       "      <th>shot_mid_range</th>\n",
       "      <th>shot_lcorner_3</th>\n",
       "      <th>shot_rcorner_3</th>\n",
       "      <th>shot_above_3</th>\n",
       "      <th>fga</th>\n",
       "      <th>block_res</th>\n",
       "      <th>block_in_paint</th>\n",
       "      <th>block_mid_range</th>\n",
       "      <th>block_lcorner_3</th>\n",
       "      <th>block_rcorner_3</th>\n",
       "      <th>block_above_3</th>\n",
       "      <th>blka</th>\n",
       "      <th>oreb</th>\n",
       "      <th>dreb</th>\n",
       "      <th>ast</th>\n",
       "      <th>stl</th>\n",
       "      <th>min</th>\n",
       "    </tr>\n",
       "    <tr>\n",
       "      <th>nba_id</th>\n",
       "      <th></th>\n",
       "      <th></th>\n",
       "      <th></th>\n",
       "      <th></th>\n",
       "      <th></th>\n",
       "      <th></th>\n",
       "      <th></th>\n",
       "      <th></th>\n",
       "      <th></th>\n",
       "      <th></th>\n",
       "      <th></th>\n",
       "      <th></th>\n",
       "      <th></th>\n",
       "      <th></th>\n",
       "      <th></th>\n",
       "      <th></th>\n",
       "      <th></th>\n",
       "      <th></th>\n",
       "      <th></th>\n",
       "    </tr>\n",
       "  </thead>\n",
       "  <tbody>\n",
       "    <tr>\n",
       "      <th>203382</th>\n",
       "      <td>0.515695</td>\n",
       "      <td>0.125561</td>\n",
       "      <td>0.085202</td>\n",
       "      <td>0.022422</td>\n",
       "      <td>0.026906</td>\n",
       "      <td>0.224215</td>\n",
       "      <td>223</td>\n",
       "      <td>0.749999</td>\n",
       "      <td>0.250000</td>\n",
       "      <td>0.000000</td>\n",
       "      <td>0.000000</td>\n",
       "      <td>0.000000</td>\n",
       "      <td>0.000000</td>\n",
       "      <td>12</td>\n",
       "      <td>9.3</td>\n",
       "      <td>18.7</td>\n",
       "      <td>6.3</td>\n",
       "      <td>1.4</td>\n",
       "      <td>2305.288333</td>\n",
       "    </tr>\n",
       "    <tr>\n",
       "      <th>1627759</th>\n",
       "      <td>0.367424</td>\n",
       "      <td>0.156566</td>\n",
       "      <td>0.127525</td>\n",
       "      <td>0.032828</td>\n",
       "      <td>0.064394</td>\n",
       "      <td>0.251263</td>\n",
       "      <td>792</td>\n",
       "      <td>0.674418</td>\n",
       "      <td>0.279070</td>\n",
       "      <td>0.000000</td>\n",
       "      <td>0.000000</td>\n",
       "      <td>0.023256</td>\n",
       "      <td>0.023256</td>\n",
       "      <td>43</td>\n",
       "      <td>3.1</td>\n",
       "      <td>12.4</td>\n",
       "      <td>5.0</td>\n",
       "      <td>3.3</td>\n",
       "      <td>4065.096667</td>\n",
       "    </tr>\n",
       "    <tr>\n",
       "      <th>1628408</th>\n",
       "      <td>0.333333</td>\n",
       "      <td>0.190476</td>\n",
       "      <td>0.095238</td>\n",
       "      <td>0.000000</td>\n",
       "      <td>0.095238</td>\n",
       "      <td>0.285714</td>\n",
       "      <td>21</td>\n",
       "      <td>0.000000</td>\n",
       "      <td>0.000000</td>\n",
       "      <td>0.000000</td>\n",
       "      <td>0.000000</td>\n",
       "      <td>0.000000</td>\n",
       "      <td>0.000000</td>\n",
       "      <td>0</td>\n",
       "      <td>5.7</td>\n",
       "      <td>25.5</td>\n",
       "      <td>4.7</td>\n",
       "      <td>1.9</td>\n",
       "      <td>54.031667</td>\n",
       "    </tr>\n",
       "    <tr>\n",
       "      <th>202330</th>\n",
       "      <td>0.261417</td>\n",
       "      <td>0.157480</td>\n",
       "      <td>0.218898</td>\n",
       "      <td>0.050394</td>\n",
       "      <td>0.059843</td>\n",
       "      <td>0.251968</td>\n",
       "      <td>635</td>\n",
       "      <td>0.629629</td>\n",
       "      <td>0.259259</td>\n",
       "      <td>0.037037</td>\n",
       "      <td>0.037037</td>\n",
       "      <td>0.000000</td>\n",
       "      <td>0.037037</td>\n",
       "      <td>27</td>\n",
       "      <td>1.3</td>\n",
       "      <td>16.1</td>\n",
       "      <td>6.3</td>\n",
       "      <td>1.6</td>\n",
       "      <td>1868.588333</td>\n",
       "    </tr>\n",
       "    <tr>\n",
       "      <th>201143</th>\n",
       "      <td>0.285319</td>\n",
       "      <td>0.198061</td>\n",
       "      <td>0.235457</td>\n",
       "      <td>0.012465</td>\n",
       "      <td>0.016620</td>\n",
       "      <td>0.252078</td>\n",
       "      <td>722</td>\n",
       "      <td>0.586207</td>\n",
       "      <td>0.379310</td>\n",
       "      <td>0.034483</td>\n",
       "      <td>0.000000</td>\n",
       "      <td>0.000000</td>\n",
       "      <td>0.000000</td>\n",
       "      <td>29</td>\n",
       "      <td>5.1</td>\n",
       "      <td>17.2</td>\n",
       "      <td>14.0</td>\n",
       "      <td>2.3</td>\n",
       "      <td>4249.708333</td>\n",
       "    </tr>\n",
       "  </tbody>\n",
       "</table>\n",
       "</div>"
      ],
      "text/plain": [
       "         shot_res  shot_in_paint  shot_mid_range  shot_lcorner_3  \\\n",
       "nba_id                                                             \n",
       "203382   0.515695       0.125561        0.085202        0.022422   \n",
       "1627759  0.367424       0.156566        0.127525        0.032828   \n",
       "1628408  0.333333       0.190476        0.095238        0.000000   \n",
       "202330   0.261417       0.157480        0.218898        0.050394   \n",
       "201143   0.285319       0.198061        0.235457        0.012465   \n",
       "\n",
       "         shot_rcorner_3  shot_above_3  fga  block_res  block_in_paint  \\\n",
       "nba_id                                                                  \n",
       "203382         0.026906      0.224215  223   0.749999        0.250000   \n",
       "1627759        0.064394      0.251263  792   0.674418        0.279070   \n",
       "1628408        0.095238      0.285714   21   0.000000        0.000000   \n",
       "202330         0.059843      0.251968  635   0.629629        0.259259   \n",
       "201143         0.016620      0.252078  722   0.586207        0.379310   \n",
       "\n",
       "         block_mid_range  block_lcorner_3  block_rcorner_3  block_above_3  \\\n",
       "nba_id                                                                      \n",
       "203382          0.000000         0.000000         0.000000       0.000000   \n",
       "1627759         0.000000         0.000000         0.023256       0.023256   \n",
       "1628408         0.000000         0.000000         0.000000       0.000000   \n",
       "202330          0.037037         0.037037         0.000000       0.037037   \n",
       "201143          0.034483         0.000000         0.000000       0.000000   \n",
       "\n",
       "         blka  oreb  dreb   ast  stl          min  \n",
       "nba_id                                             \n",
       "203382     12   9.3  18.7   6.3  1.4  2305.288333  \n",
       "1627759    43   3.1  12.4   5.0  3.3  4065.096667  \n",
       "1628408     0   5.7  25.5   4.7  1.9    54.031667  \n",
       "202330     27   1.3  16.1   6.3  1.6  1868.588333  \n",
       "201143     29   5.1  17.2  14.0  2.3  4249.708333  "
      ]
     },
     "execution_count": 77,
     "metadata": {},
     "output_type": "execute_result"
    }
   ],
   "source": [
    "stat.head()"
   ]
  },
  {
   "cell_type": "code",
   "execution_count": 78,
   "metadata": {
    "scrolled": true
   },
   "outputs": [
    {
     "data": {
      "text/html": [
       "<div>\n",
       "<style scoped>\n",
       "    .dataframe tbody tr th:only-of-type {\n",
       "        vertical-align: middle;\n",
       "    }\n",
       "\n",
       "    .dataframe tbody tr th {\n",
       "        vertical-align: top;\n",
       "    }\n",
       "\n",
       "    .dataframe thead th {\n",
       "        text-align: right;\n",
       "    }\n",
       "</style>\n",
       "<table border=\"1\" class=\"dataframe\">\n",
       "  <thead>\n",
       "    <tr style=\"text-align: right;\">\n",
       "      <th></th>\n",
       "      <th>name</th>\n",
       "      <th>position</th>\n",
       "      <th>espn_player_id</th>\n",
       "      <th>url</th>\n",
       "    </tr>\n",
       "    <tr>\n",
       "      <th>nba_id</th>\n",
       "      <th></th>\n",
       "      <th></th>\n",
       "      <th></th>\n",
       "      <th></th>\n",
       "    </tr>\n",
       "  </thead>\n",
       "  <tbody>\n",
       "    <tr>\n",
       "      <th>203382</th>\n",
       "      <td>aron baynes</td>\n",
       "      <td>C</td>\n",
       "      <td>2968439</td>\n",
       "      <td>http://www.espn.com/nba/player/_/id/2968439/ar...</td>\n",
       "    </tr>\n",
       "    <tr>\n",
       "      <th>1627759</th>\n",
       "      <td>jaylen brown</td>\n",
       "      <td>SG</td>\n",
       "      <td>3917376</td>\n",
       "      <td>http://www.espn.com/nba/player/_/id/3917376/ja...</td>\n",
       "    </tr>\n",
       "    <tr>\n",
       "      <th>1628408</th>\n",
       "      <td>pj dozier</td>\n",
       "      <td>PG</td>\n",
       "      <td>3923250</td>\n",
       "      <td>http://www.espn.com/nba/player/_/id/3923250/pj...</td>\n",
       "    </tr>\n",
       "    <tr>\n",
       "      <th>1626780</th>\n",
       "      <td>jonathan gibson</td>\n",
       "      <td>PG</td>\n",
       "      <td>2234666</td>\n",
       "      <td>http://www.espn.com/nba/player/_/id/2234666/jo...</td>\n",
       "    </tr>\n",
       "    <tr>\n",
       "      <th>202330</th>\n",
       "      <td>gordon hayward</td>\n",
       "      <td>SF</td>\n",
       "      <td>4249</td>\n",
       "      <td>http://www.espn.com/nba/player/_/id/4249/gordo...</td>\n",
       "    </tr>\n",
       "  </tbody>\n",
       "</table>\n",
       "</div>"
      ],
      "text/plain": [
       "                    name position  espn_player_id  \\\n",
       "nba_id                                              \n",
       "203382       aron baynes        C         2968439   \n",
       "1627759     jaylen brown       SG         3917376   \n",
       "1628408        pj dozier       PG         3923250   \n",
       "1626780  jonathan gibson       PG         2234666   \n",
       "202330    gordon hayward       SF            4249   \n",
       "\n",
       "                                                       url  \n",
       "nba_id                                                      \n",
       "203382   http://www.espn.com/nba/player/_/id/2968439/ar...  \n",
       "1627759  http://www.espn.com/nba/player/_/id/3917376/ja...  \n",
       "1628408  http://www.espn.com/nba/player/_/id/3923250/pj...  \n",
       "1626780  http://www.espn.com/nba/player/_/id/2234666/jo...  \n",
       "202330   http://www.espn.com/nba/player/_/id/4249/gordo...  "
      ]
     },
     "execution_count": 78,
     "metadata": {},
     "output_type": "execute_result"
    }
   ],
   "source": [
    "position.head()"
   ]
  },
  {
   "cell_type": "code",
   "execution_count": 80,
   "metadata": {},
   "outputs": [],
   "source": [
    "data = stat.join(position[['position']])"
   ]
  },
  {
   "cell_type": "code",
   "execution_count": 81,
   "metadata": {
    "scrolled": false
   },
   "outputs": [
    {
     "data": {
      "text/html": [
       "<div>\n",
       "<style scoped>\n",
       "    .dataframe tbody tr th:only-of-type {\n",
       "        vertical-align: middle;\n",
       "    }\n",
       "\n",
       "    .dataframe tbody tr th {\n",
       "        vertical-align: top;\n",
       "    }\n",
       "\n",
       "    .dataframe thead th {\n",
       "        text-align: right;\n",
       "    }\n",
       "</style>\n",
       "<table border=\"1\" class=\"dataframe\">\n",
       "  <thead>\n",
       "    <tr style=\"text-align: right;\">\n",
       "      <th></th>\n",
       "      <th>shot_res</th>\n",
       "      <th>shot_in_paint</th>\n",
       "      <th>shot_mid_range</th>\n",
       "      <th>shot_lcorner_3</th>\n",
       "      <th>shot_rcorner_3</th>\n",
       "      <th>shot_above_3</th>\n",
       "      <th>fga</th>\n",
       "      <th>block_res</th>\n",
       "      <th>block_in_paint</th>\n",
       "      <th>block_mid_range</th>\n",
       "      <th>block_lcorner_3</th>\n",
       "      <th>block_rcorner_3</th>\n",
       "      <th>block_above_3</th>\n",
       "      <th>blka</th>\n",
       "      <th>oreb</th>\n",
       "      <th>dreb</th>\n",
       "      <th>ast</th>\n",
       "      <th>stl</th>\n",
       "      <th>min</th>\n",
       "      <th>position</th>\n",
       "    </tr>\n",
       "    <tr>\n",
       "      <th>nba_id</th>\n",
       "      <th></th>\n",
       "      <th></th>\n",
       "      <th></th>\n",
       "      <th></th>\n",
       "      <th></th>\n",
       "      <th></th>\n",
       "      <th></th>\n",
       "      <th></th>\n",
       "      <th></th>\n",
       "      <th></th>\n",
       "      <th></th>\n",
       "      <th></th>\n",
       "      <th></th>\n",
       "      <th></th>\n",
       "      <th></th>\n",
       "      <th></th>\n",
       "      <th></th>\n",
       "      <th></th>\n",
       "      <th></th>\n",
       "      <th></th>\n",
       "    </tr>\n",
       "  </thead>\n",
       "  <tbody>\n",
       "    <tr>\n",
       "      <th>1713</th>\n",
       "      <td>0.167742</td>\n",
       "      <td>0.066667</td>\n",
       "      <td>0.094624</td>\n",
       "      <td>0.049462</td>\n",
       "      <td>0.066667</td>\n",
       "      <td>0.554839</td>\n",
       "      <td>465</td>\n",
       "      <td>0.555555</td>\n",
       "      <td>0.111111</td>\n",
       "      <td>0.222222</td>\n",
       "      <td>0.0</td>\n",
       "      <td>0.0</td>\n",
       "      <td>0.111111</td>\n",
       "      <td>9</td>\n",
       "      <td>1.9</td>\n",
       "      <td>12.0</td>\n",
       "      <td>6.3</td>\n",
       "      <td>3.6</td>\n",
       "      <td>2356.346667</td>\n",
       "      <td>SF</td>\n",
       "    </tr>\n",
       "    <tr>\n",
       "      <th>1717</th>\n",
       "      <td>0.013333</td>\n",
       "      <td>0.072000</td>\n",
       "      <td>0.370667</td>\n",
       "      <td>0.013333</td>\n",
       "      <td>0.042667</td>\n",
       "      <td>0.488000</td>\n",
       "      <td>375</td>\n",
       "      <td>0.000000</td>\n",
       "      <td>0.999995</td>\n",
       "      <td>0.000000</td>\n",
       "      <td>0.0</td>\n",
       "      <td>0.0</td>\n",
       "      <td>0.000000</td>\n",
       "      <td>2</td>\n",
       "      <td>0.9</td>\n",
       "      <td>19.7</td>\n",
       "      <td>5.1</td>\n",
       "      <td>1.6</td>\n",
       "      <td>2695.478333</td>\n",
       "      <td>PF</td>\n",
       "    </tr>\n",
       "    <tr>\n",
       "      <th>2037</th>\n",
       "      <td>0.050459</td>\n",
       "      <td>0.162844</td>\n",
       "      <td>0.327982</td>\n",
       "      <td>0.050459</td>\n",
       "      <td>0.034404</td>\n",
       "      <td>0.373853</td>\n",
       "      <td>436</td>\n",
       "      <td>0.125000</td>\n",
       "      <td>0.250000</td>\n",
       "      <td>0.624999</td>\n",
       "      <td>0.0</td>\n",
       "      <td>0.0</td>\n",
       "      <td>0.000000</td>\n",
       "      <td>8</td>\n",
       "      <td>0.9</td>\n",
       "      <td>5.4</td>\n",
       "      <td>14.5</td>\n",
       "      <td>2.5</td>\n",
       "      <td>2864.170000</td>\n",
       "      <td>SG</td>\n",
       "    </tr>\n",
       "    <tr>\n",
       "      <th>2199</th>\n",
       "      <td>0.909091</td>\n",
       "      <td>0.070707</td>\n",
       "      <td>0.010101</td>\n",
       "      <td>0.000000</td>\n",
       "      <td>0.000000</td>\n",
       "      <td>0.010101</td>\n",
       "      <td>99</td>\n",
       "      <td>0.499999</td>\n",
       "      <td>0.333333</td>\n",
       "      <td>0.166666</td>\n",
       "      <td>0.0</td>\n",
       "      <td>0.0</td>\n",
       "      <td>0.000000</td>\n",
       "      <td>6</td>\n",
       "      <td>10.2</td>\n",
       "      <td>23.0</td>\n",
       "      <td>3.9</td>\n",
       "      <td>2.4</td>\n",
       "      <td>1660.493333</td>\n",
       "      <td>C</td>\n",
       "    </tr>\n",
       "    <tr>\n",
       "      <th>2200</th>\n",
       "      <td>0.382979</td>\n",
       "      <td>0.255319</td>\n",
       "      <td>0.223404</td>\n",
       "      <td>0.021277</td>\n",
       "      <td>0.010638</td>\n",
       "      <td>0.106383</td>\n",
       "      <td>94</td>\n",
       "      <td>0.666666</td>\n",
       "      <td>0.333333</td>\n",
       "      <td>0.000000</td>\n",
       "      <td>0.0</td>\n",
       "      <td>0.0</td>\n",
       "      <td>0.000000</td>\n",
       "      <td>6</td>\n",
       "      <td>2.9</td>\n",
       "      <td>31.1</td>\n",
       "      <td>10.1</td>\n",
       "      <td>0.7</td>\n",
       "      <td>390.961667</td>\n",
       "      <td>C</td>\n",
       "    </tr>\n",
       "  </tbody>\n",
       "</table>\n",
       "</div>"
      ],
      "text/plain": [
       "        shot_res  shot_in_paint  shot_mid_range  shot_lcorner_3  \\\n",
       "nba_id                                                            \n",
       "1713    0.167742       0.066667        0.094624        0.049462   \n",
       "1717    0.013333       0.072000        0.370667        0.013333   \n",
       "2037    0.050459       0.162844        0.327982        0.050459   \n",
       "2199    0.909091       0.070707        0.010101        0.000000   \n",
       "2200    0.382979       0.255319        0.223404        0.021277   \n",
       "\n",
       "        shot_rcorner_3  shot_above_3  fga  block_res  block_in_paint  \\\n",
       "nba_id                                                                 \n",
       "1713          0.066667      0.554839  465   0.555555        0.111111   \n",
       "1717          0.042667      0.488000  375   0.000000        0.999995   \n",
       "2037          0.034404      0.373853  436   0.125000        0.250000   \n",
       "2199          0.000000      0.010101   99   0.499999        0.333333   \n",
       "2200          0.010638      0.106383   94   0.666666        0.333333   \n",
       "\n",
       "        block_mid_range  block_lcorner_3  block_rcorner_3  block_above_3  \\\n",
       "nba_id                                                                     \n",
       "1713           0.222222              0.0              0.0       0.111111   \n",
       "1717           0.000000              0.0              0.0       0.000000   \n",
       "2037           0.624999              0.0              0.0       0.000000   \n",
       "2199           0.166666              0.0              0.0       0.000000   \n",
       "2200           0.000000              0.0              0.0       0.000000   \n",
       "\n",
       "        blka  oreb  dreb   ast  stl          min position  \n",
       "nba_id                                                     \n",
       "1713       9   1.9  12.0   6.3  3.6  2356.346667       SF  \n",
       "1717       2   0.9  19.7   5.1  1.6  2695.478333       PF  \n",
       "2037       8   0.9   5.4  14.5  2.5  2864.170000       SG  \n",
       "2199       6  10.2  23.0   3.9  2.4  1660.493333        C  \n",
       "2200       6   2.9  31.1  10.1  0.7   390.961667        C  "
      ]
     },
     "execution_count": 81,
     "metadata": {},
     "output_type": "execute_result"
    }
   ],
   "source": [
    "data.head()"
   ]
  },
  {
   "cell_type": "markdown",
   "metadata": {},
   "source": [
    "## EDA"
   ]
  },
  {
   "cell_type": "code",
   "execution_count": 82,
   "metadata": {
    "scrolled": true
   },
   "outputs": [
    {
     "data": {
      "text/plain": [
       "SG    114\n",
       "PG    101\n",
       "PF     96\n",
       "SF     93\n",
       "C      71\n",
       "F       5\n",
       "G       4\n",
       "Name: position, dtype: int64"
      ]
     },
     "execution_count": 82,
     "metadata": {},
     "output_type": "execute_result"
    }
   ],
   "source": [
    "# Getting distribution of class labels\n",
    "data.position.value_counts()"
   ]
  },
  {
   "cell_type": "markdown",
   "metadata": {},
   "source": [
    "The Forward(F) and Guard(G) should really be explicitly defined. For instance, as either Point Guard (PG) or Shooting Guard (SG). \n",
    "\n",
    "Since there are not many observations, I'm just going to make a quick and easy assumption that all Fowards are Small Forwards, and Guards are Point Guards.\n",
    "\n",
    "Also note we are dealing with slightly imbalanced classes here"
   ]
  },
  {
   "cell_type": "code",
   "execution_count": 83,
   "metadata": {},
   "outputs": [],
   "source": [
    "data.loc[data.position == \"G\",'position'] = 'PG'\n",
    "data.loc[data.position == \"F\",'position'] = 'SF'"
   ]
  },
  {
   "cell_type": "code",
   "execution_count": 84,
   "metadata": {
    "scrolled": true
   },
   "outputs": [
    {
     "data": {
      "text/plain": [
       "SG    0.235537\n",
       "PG    0.216942\n",
       "SF    0.202479\n",
       "PF    0.198347\n",
       "C     0.146694\n",
       "Name: position, dtype: float64"
      ]
     },
     "execution_count": 84,
     "metadata": {},
     "output_type": "execute_result"
    }
   ],
   "source": [
    "data.position.value_counts(normalize=True)"
   ]
  },
  {
   "cell_type": "markdown",
   "metadata": {},
   "source": [
    "#### Checking distribution of Field Goal Attempts"
   ]
  },
  {
   "cell_type": "code",
   "execution_count": 85,
   "metadata": {
    "scrolled": true
   },
   "outputs": [
    {
     "data": {
      "text/plain": [
       "<matplotlib.axes._subplots.AxesSubplot at 0x1a30a3a080>"
      ]
     },
     "execution_count": 85,
     "metadata": {},
     "output_type": "execute_result"
    },
    {
     "data": {
      "image/png": "[encoded data removed]",
      "text/plain": [
       "<Figure size 432x288 with 1 Axes>"
      ]
     },
     "metadata": {},
     "output_type": "display_data"
    }
   ],
   "source": [
    "data.fga.hist()"
   ]
  },
  {
   "cell_type": "code",
   "execution_count": 86,
   "metadata": {
    "scrolled": false
   },
   "outputs": [
    {
     "data": {
      "text/plain": [
       "<matplotlib.axes._subplots.AxesSubplot at 0x1a302409b0>"
      ]
     },
     "execution_count": 86,
     "metadata": {},
     "output_type": "execute_result"
    },
    {
     "data": {
      "image/png": "[encoded data removed]",
      "text/plain": [
       "<Figure size 432x288 with 1 Axes>"
      ]
     },
     "metadata": {},
     "output_type": "display_data"
    }
   ],
   "source": [
    "# Explore the lower end\n",
    "data.loc[data.fga < 500, 'fga'].hist(bins=20)"
   ]
  },
  {
   "cell_type": "markdown",
   "metadata": {},
   "source": [
    "A lot of players have less than 25 shots. We will drop them as they haven't really played enough for their position to show through the data"
   ]
  },
  {
   "cell_type": "markdown",
   "metadata": {},
   "source": [
    "#### Checking Distribution of Block Attempts"
   ]
  },
  {
   "cell_type": "code",
   "execution_count": 87,
   "metadata": {
    "scrolled": true
   },
   "outputs": [
    {
     "data": {
      "text/plain": [
       "<matplotlib.axes._subplots.AxesSubplot at 0x1a30a0eba8>"
      ]
     },
     "execution_count": 87,
     "metadata": {},
     "output_type": "execute_result"
    },
    {
     "data": {
      "image/png": "[encoded data removed]",
      "text/plain": [
       "<Figure size 432x288 with 1 Axes>"
      ]
     },
     "metadata": {},
     "output_type": "display_data"
    }
   ],
   "source": [
    "data.blka.hist()"
   ]
  },
  {
   "cell_type": "markdown",
   "metadata": {},
   "source": [
    "### Spliting Data"
   ]
  },
  {
   "cell_type": "code",
   "execution_count": 88,
   "metadata": {},
   "outputs": [],
   "source": [
    "from sklearn.model_selection import train_test_split\n",
    "\n",
    "X = data.drop('position', axis=1)\n",
    "y = data[['position']]\n",
    "\n",
    "X_train, X_test, y_train, y_test = train_test_split(X, y)"
   ]
  },
  {
   "cell_type": "code",
   "execution_count": 89,
   "metadata": {},
   "outputs": [
    {
     "data": {
      "text/html": [
       "<div>\n",
       "<style scoped>\n",
       "    .dataframe tbody tr th:only-of-type {\n",
       "        vertical-align: middle;\n",
       "    }\n",
       "\n",
       "    .dataframe tbody tr th {\n",
       "        vertical-align: top;\n",
       "    }\n",
       "\n",
       "    .dataframe thead th {\n",
       "        text-align: right;\n",
       "    }\n",
       "</style>\n",
       "<table border=\"1\" class=\"dataframe\">\n",
       "  <thead>\n",
       "    <tr style=\"text-align: right;\">\n",
       "      <th></th>\n",
       "      <th>shot_res</th>\n",
       "      <th>shot_in_paint</th>\n",
       "      <th>shot_mid_range</th>\n",
       "      <th>shot_lcorner_3</th>\n",
       "      <th>shot_rcorner_3</th>\n",
       "      <th>shot_above_3</th>\n",
       "      <th>fga</th>\n",
       "      <th>block_res</th>\n",
       "      <th>block_in_paint</th>\n",
       "      <th>block_mid_range</th>\n",
       "      <th>block_lcorner_3</th>\n",
       "      <th>block_rcorner_3</th>\n",
       "      <th>block_above_3</th>\n",
       "      <th>blka</th>\n",
       "      <th>oreb</th>\n",
       "      <th>dreb</th>\n",
       "      <th>ast</th>\n",
       "      <th>stl</th>\n",
       "      <th>min</th>\n",
       "    </tr>\n",
       "    <tr>\n",
       "      <th>nba_id</th>\n",
       "      <th></th>\n",
       "      <th></th>\n",
       "      <th></th>\n",
       "      <th></th>\n",
       "      <th></th>\n",
       "      <th></th>\n",
       "      <th></th>\n",
       "      <th></th>\n",
       "      <th></th>\n",
       "      <th></th>\n",
       "      <th></th>\n",
       "      <th></th>\n",
       "      <th></th>\n",
       "      <th></th>\n",
       "      <th></th>\n",
       "      <th></th>\n",
       "      <th></th>\n",
       "      <th></th>\n",
       "      <th></th>\n",
       "    </tr>\n",
       "  </thead>\n",
       "  <tbody>\n",
       "    <tr>\n",
       "      <th>1626246</th>\n",
       "      <td>0.623077</td>\n",
       "      <td>0.242308</td>\n",
       "      <td>0.096154</td>\n",
       "      <td>0.000000</td>\n",
       "      <td>0.015385</td>\n",
       "      <td>0.023077</td>\n",
       "      <td>260</td>\n",
       "      <td>0.666666</td>\n",
       "      <td>0.333333</td>\n",
       "      <td>0.000000</td>\n",
       "      <td>0.0</td>\n",
       "      <td>0.0</td>\n",
       "      <td>0.000000</td>\n",
       "      <td>18</td>\n",
       "      <td>11.1</td>\n",
       "      <td>25.3</td>\n",
       "      <td>8.8</td>\n",
       "      <td>1.9</td>\n",
       "      <td>985.641667</td>\n",
       "    </tr>\n",
       "    <tr>\n",
       "      <th>203992</th>\n",
       "      <td>0.210465</td>\n",
       "      <td>0.190698</td>\n",
       "      <td>0.169767</td>\n",
       "      <td>0.023256</td>\n",
       "      <td>0.026744</td>\n",
       "      <td>0.379070</td>\n",
       "      <td>860</td>\n",
       "      <td>0.435897</td>\n",
       "      <td>0.410256</td>\n",
       "      <td>0.102564</td>\n",
       "      <td>0.0</td>\n",
       "      <td>0.0</td>\n",
       "      <td>0.051282</td>\n",
       "      <td>39</td>\n",
       "      <td>1.7</td>\n",
       "      <td>9.2</td>\n",
       "      <td>12.3</td>\n",
       "      <td>3.4</td>\n",
       "      <td>4122.325000</td>\n",
       "    </tr>\n",
       "    <tr>\n",
       "      <th>203085</th>\n",
       "      <td>0.260946</td>\n",
       "      <td>0.148862</td>\n",
       "      <td>0.019264</td>\n",
       "      <td>0.073555</td>\n",
       "      <td>0.056042</td>\n",
       "      <td>0.441331</td>\n",
       "      <td>571</td>\n",
       "      <td>0.750000</td>\n",
       "      <td>0.166667</td>\n",
       "      <td>0.041667</td>\n",
       "      <td>0.0</td>\n",
       "      <td>0.0</td>\n",
       "      <td>0.041667</td>\n",
       "      <td>24</td>\n",
       "      <td>1.1</td>\n",
       "      <td>5.9</td>\n",
       "      <td>7.9</td>\n",
       "      <td>2.1</td>\n",
       "      <td>3372.618333</td>\n",
       "    </tr>\n",
       "    <tr>\n",
       "      <th>1626220</th>\n",
       "      <td>0.375740</td>\n",
       "      <td>0.088757</td>\n",
       "      <td>0.029586</td>\n",
       "      <td>0.115385</td>\n",
       "      <td>0.121302</td>\n",
       "      <td>0.269231</td>\n",
       "      <td>338</td>\n",
       "      <td>0.578947</td>\n",
       "      <td>0.368421</td>\n",
       "      <td>0.052632</td>\n",
       "      <td>0.0</td>\n",
       "      <td>0.0</td>\n",
       "      <td>0.000000</td>\n",
       "      <td>19</td>\n",
       "      <td>1.6</td>\n",
       "      <td>16.4</td>\n",
       "      <td>7.6</td>\n",
       "      <td>3.1</td>\n",
       "      <td>2820.656667</td>\n",
       "    </tr>\n",
       "    <tr>\n",
       "      <th>1626174</th>\n",
       "      <td>0.495726</td>\n",
       "      <td>0.205128</td>\n",
       "      <td>0.076923</td>\n",
       "      <td>0.008547</td>\n",
       "      <td>0.034188</td>\n",
       "      <td>0.179487</td>\n",
       "      <td>117</td>\n",
       "      <td>0.599999</td>\n",
       "      <td>0.399999</td>\n",
       "      <td>0.000000</td>\n",
       "      <td>0.0</td>\n",
       "      <td>0.0</td>\n",
       "      <td>0.000000</td>\n",
       "      <td>5</td>\n",
       "      <td>6.6</td>\n",
       "      <td>25.4</td>\n",
       "      <td>3.0</td>\n",
       "      <td>3.1</td>\n",
       "      <td>439.078333</td>\n",
       "    </tr>\n",
       "  </tbody>\n",
       "</table>\n",
       "</div>"
      ],
      "text/plain": [
       "         shot_res  shot_in_paint  shot_mid_range  shot_lcorner_3  \\\n",
       "nba_id                                                             \n",
       "1626246  0.623077       0.242308        0.096154        0.000000   \n",
       "203992   0.210465       0.190698        0.169767        0.023256   \n",
       "203085   0.260946       0.148862        0.019264        0.073555   \n",
       "1626220  0.375740       0.088757        0.029586        0.115385   \n",
       "1626174  0.495726       0.205128        0.076923        0.008547   \n",
       "\n",
       "         shot_rcorner_3  shot_above_3  fga  block_res  block_in_paint  \\\n",
       "nba_id                                                                  \n",
       "1626246        0.015385      0.023077  260   0.666666        0.333333   \n",
       "203992         0.026744      0.379070  860   0.435897        0.410256   \n",
       "203085         0.056042      0.441331  571   0.750000        0.166667   \n",
       "1626220        0.121302      0.269231  338   0.578947        0.368421   \n",
       "1626174        0.034188      0.179487  117   0.599999        0.399999   \n",
       "\n",
       "         block_mid_range  block_lcorner_3  block_rcorner_3  block_above_3  \\\n",
       "nba_id                                                                      \n",
       "1626246         0.000000              0.0              0.0       0.000000   \n",
       "203992          0.102564              0.0              0.0       0.051282   \n",
       "203085          0.041667              0.0              0.0       0.041667   \n",
       "1626220         0.052632              0.0              0.0       0.000000   \n",
       "1626174         0.000000              0.0              0.0       0.000000   \n",
       "\n",
       "         blka  oreb  dreb   ast  stl          min  \n",
       "nba_id                                             \n",
       "1626246    18  11.1  25.3   8.8  1.9   985.641667  \n",
       "203992     39   1.7   9.2  12.3  3.4  4122.325000  \n",
       "203085     24   1.1   5.9   7.9  2.1  3372.618333  \n",
       "1626220    19   1.6  16.4   7.6  3.1  2820.656667  \n",
       "1626174     5   6.6  25.4   3.0  3.1   439.078333  "
      ]
     },
     "execution_count": 89,
     "metadata": {},
     "output_type": "execute_result"
    }
   ],
   "source": [
    "X_train.head()"
   ]
  },
  {
   "cell_type": "markdown",
   "metadata": {},
   "source": [
    "A big chunk of players do not have meaningful number of blocks. We will keep this feature for now and see if the models think they are important later"
   ]
  },
  {
   "cell_type": "markdown",
   "metadata": {},
   "source": [
    "## Multinomial Logistic Regression\n",
    "\n",
    "Why choose it\n",
    "    - Predicts probability distribution over k classes, which gives us insight on how close the player is to each position/role\n",
    "    - Performs well when data is not well separated, which is going to be the case for us. The variance in NBA stat is often quite high\n",
    "    - Can handle weak multicolinearity. We will test with VIF(Variance Inflation Factor) to make sure this is the case, and do dimensionality reduction if there is strong covariance between independent variables (VIF > 5)\n"
   ]
  },
  {
   "cell_type": "code",
   "execution_count": 142,
   "metadata": {
    "ExecuteTime": {
     "end_time": "2019-05-31T20:22:36.595239Z",
     "start_time": "2019-05-31T20:22:36.553317Z"
    }
   },
   "outputs": [
    {
     "data": {
      "text/html": [
       "<div>\n",
       "<style scoped>\n",
       "    .dataframe tbody tr th:only-of-type {\n",
       "        vertical-align: middle;\n",
       "    }\n",
       "\n",
       "    .dataframe tbody tr th {\n",
       "        vertical-align: top;\n",
       "    }\n",
       "\n",
       "    .dataframe thead th {\n",
       "        text-align: right;\n",
       "    }\n",
       "</style>\n",
       "<table border=\"1\" class=\"dataframe\">\n",
       "  <thead>\n",
       "    <tr style=\"text-align: right;\">\n",
       "      <th></th>\n",
       "      <th>Feature</th>\n",
       "      <th>VIF</th>\n",
       "    </tr>\n",
       "  </thead>\n",
       "  <tbody>\n",
       "    <tr>\n",
       "      <th>6</th>\n",
       "      <td>fga</td>\n",
       "      <td>22.034299</td>\n",
       "    </tr>\n",
       "    <tr>\n",
       "      <th>7</th>\n",
       "      <td>block_res</td>\n",
       "      <td>17.660519</td>\n",
       "    </tr>\n",
       "    <tr>\n",
       "      <th>0</th>\n",
       "      <td>shot_res</td>\n",
       "      <td>17.400939</td>\n",
       "    </tr>\n",
       "    <tr>\n",
       "      <th>18</th>\n",
       "      <td>min</td>\n",
       "      <td>13.334424</td>\n",
       "    </tr>\n",
       "    <tr>\n",
       "      <th>13</th>\n",
       "      <td>blka</td>\n",
       "      <td>12.238345</td>\n",
       "    </tr>\n",
       "    <tr>\n",
       "      <th>15</th>\n",
       "      <td>dreb</td>\n",
       "      <td>10.367670</td>\n",
       "    </tr>\n",
       "    <tr>\n",
       "      <th>14</th>\n",
       "      <td>oreb</td>\n",
       "      <td>9.729501</td>\n",
       "    </tr>\n",
       "    <tr>\n",
       "      <th>5</th>\n",
       "      <td>shot_above_3</td>\n",
       "      <td>9.153783</td>\n",
       "    </tr>\n",
       "    <tr>\n",
       "      <th>17</th>\n",
       "      <td>stl</td>\n",
       "      <td>7.923262</td>\n",
       "    </tr>\n",
       "    <tr>\n",
       "      <th>1</th>\n",
       "      <td>shot_in_paint</td>\n",
       "      <td>7.108341</td>\n",
       "    </tr>\n",
       "    <tr>\n",
       "      <th>8</th>\n",
       "      <td>block_in_paint</td>\n",
       "      <td>6.639821</td>\n",
       "    </tr>\n",
       "    <tr>\n",
       "      <th>16</th>\n",
       "      <td>ast</td>\n",
       "      <td>6.211720</td>\n",
       "    </tr>\n",
       "    <tr>\n",
       "      <th>4</th>\n",
       "      <td>shot_rcorner_3</td>\n",
       "      <td>6.209198</td>\n",
       "    </tr>\n",
       "    <tr>\n",
       "      <th>3</th>\n",
       "      <td>shot_lcorner_3</td>\n",
       "      <td>5.067297</td>\n",
       "    </tr>\n",
       "    <tr>\n",
       "      <th>2</th>\n",
       "      <td>shot_mid_range</td>\n",
       "      <td>4.267462</td>\n",
       "    </tr>\n",
       "    <tr>\n",
       "      <th>9</th>\n",
       "      <td>block_mid_range</td>\n",
       "      <td>2.063541</td>\n",
       "    </tr>\n",
       "    <tr>\n",
       "      <th>12</th>\n",
       "      <td>block_above_3</td>\n",
       "      <td>1.743438</td>\n",
       "    </tr>\n",
       "    <tr>\n",
       "      <th>11</th>\n",
       "      <td>block_rcorner_3</td>\n",
       "      <td>1.349479</td>\n",
       "    </tr>\n",
       "    <tr>\n",
       "      <th>10</th>\n",
       "      <td>block_lcorner_3</td>\n",
       "      <td>1.194831</td>\n",
       "    </tr>\n",
       "  </tbody>\n",
       "</table>\n",
       "</div>"
      ],
      "text/plain": [
       "            Feature        VIF\n",
       "6               fga  22.034299\n",
       "7         block_res  17.660519\n",
       "0          shot_res  17.400939\n",
       "18              min  13.334424\n",
       "13             blka  12.238345\n",
       "15             dreb  10.367670\n",
       "14             oreb   9.729501\n",
       "5      shot_above_3   9.153783\n",
       "17              stl   7.923262\n",
       "1     shot_in_paint   7.108341\n",
       "8    block_in_paint   6.639821\n",
       "16              ast   6.211720\n",
       "4    shot_rcorner_3   6.209198\n",
       "3    shot_lcorner_3   5.067297\n",
       "2    shot_mid_range   4.267462\n",
       "9   block_mid_range   2.063541\n",
       "12    block_above_3   1.743438\n",
       "11  block_rcorner_3   1.349479\n",
       "10  block_lcorner_3   1.194831"
      ]
     },
     "metadata": {},
     "output_type": "display_data"
    }
   ],
   "source": [
    "# Calculating VIF\n",
    "from statsmodels.stats.outliers_influence import variance_inflation_factor\n",
    "\n",
    "vif_data = []\n",
    "for idx, col in enumerate(X.columns):\n",
    "    VIF_i = variance_inflation_factor(X.dropna().values, idx)\n",
    "    vif_data.append([col, VIF_i])\n",
    "\n",
    "display(pd.DataFrame(vif_data, columns=['Feature', \"VIF\"]).sort_values(\"VIF\", ascending=False))"
   ]
  },
  {
   "cell_type": "markdown",
   "metadata": {},
   "source": [
    "Anything with VIF over 5 exhibits strong multicolinearity with other features, here we are dealing with many feature that has strong correlation with others.\n",
    "\n",
    "Many algorithms we could use, including logistic regression, SVM /w RFB Kernels & \n",
    "\n",
    "Quickest way to solve this is probably with PCA."
   ]
  },
  {
   "cell_type": "code",
   "execution_count": 11,
   "metadata": {
    "ExecuteTime": {
     "end_time": "2019-05-31T20:56:08.653833Z",
     "start_time": "2019-05-31T20:56:08.650798Z"
    }
   },
   "outputs": [],
   "source": [
    "# After verifying that VIF checks out, move on to modeling\n",
    "\n",
    "# We will standarize the features for regularization to be more meaningful. Otherwise Logistic\n",
    "# Regression does not require normalization\n",
    "from sklearn.pipeline import Pipeline\n",
    "from sklearn.preprocessing import StandardScaler\n",
    "\n"
   ]
  },
  {
   "cell_type": "code",
   "execution_count": 27,
   "metadata": {},
   "outputs": [
    {
     "data": {
      "text/plain": [
       "<matplotlib.axes._subplots.AxesSubplot at 0x1a1fd89668>"
      ]
     },
     "execution_count": 27,
     "metadata": {},
     "output_type": "execute_result"
    },
    {
     "data": {
      "image/png": "[encoded data removed]",
      "text/plain": [
       "<Figure size 432x288 with 1 Axes>"
      ]
     },
     "metadata": {},
     "output_type": "display_data"
    }
   ],
   "source": [
    "stat.fga.hist(bins=20)"
   ]
  },
  {
   "cell_type": "code",
   "execution_count": 28,
   "metadata": {},
   "outputs": [
    {
     "data": {
      "text/plain": [
       "<matplotlib.axes._subplots.AxesSubplot at 0x1a1fdfea90>"
      ]
     },
     "execution_count": 28,
     "metadata": {},
     "output_type": "execute_result"
    },
    {
     "data": {
      "image/png": "[encoded data removed]",
      "text/plain": [
       "<Figure size 432x288 with 1 Axes>"
      ]
     },
     "metadata": {},
     "output_type": "display_data"
    }
   ],
   "source": [
    "stat.blka.plot('box')"
   ]
  },
  {
   "cell_type": "code",
   "execution_count": null,
   "metadata": {},
   "outputs": [],
   "source": []
  }
 ],
 "metadata": {
  "kernelspec": {
   "display_name": "Python 3",
   "language": "python",
   "name": "python3"
  },
  "language_info": {
   "codemirror_mode": {
    "name": "ipython",
    "version": 3
   },
   "file_extension": ".py",
   "mimetype": "text/x-python",
   "name": "python",
   "nbconvert_exporter": "python",
   "pygments_lexer": "ipython3",
   "version": "3.6.8"
  },
  "varInspector": {
   "cols": {
    "lenName": 16,
    "lenType": 16,
    "lenVar": 40
   },
   "kernels_config": {
    "python": {
     "delete_cmd_postfix": "",
     "delete_cmd_prefix": "del ",
     "library": "var_list.py",
     "varRefreshCmd": "print(var_dic_list())"
    },
    "r": {
     "delete_cmd_postfix": ") ",
     "delete_cmd_prefix": "rm(",
     "library": "var_list.r",
     "varRefreshCmd": "cat(var_dic_list()) "
    }
   },
   "types_to_exclude": [
    "module",
    "function",
    "builtin_function_or_method",
    "instance",
    "_Feature"
   ],
   "window_display": false
  }
 },
 "nbformat": 4,
 "nbformat_minor": 2
}
