{
 "cells": [
  {
   "cell_type": "code",
   "execution_count": 1,
   "metadata": {
    "ExecuteTime": {
     "end_time": "2019-05-31T20:22:34.896402Z",
     "start_time": "2019-05-31T20:22:34.876047Z"
    }
   },
   "outputs": [],
   "source": [
    "__author__ = \"Victor Xu\"\n",
    "__email__ = \"victor.c.xu@gmail.com\"\n",
    "__website__ = \"victorxu.me\"\n",
    "\n",
    "__copyright__ = \"Copyright 2019, Victor Xu\""
   ]
  },
  {
   "cell_type": "code",
   "execution_count": 2,
   "metadata": {},
   "outputs": [],
   "source": [
    "#import re\n",
    "import pandas as pd\n",
    "import numpy as np\n",
    "import warnings\n",
    "\n",
    "import matplotlib.pyplot as plt\n",
    "import scipy as sp\n",
    "import seaborn as sns\n",
    "\n",
    "from sqlalchemy import create_engine\n",
    "from sklearn.metrics import confusion_matrix\n",
    "from sklearn.metrics import accuracy_score, balanced_accuracy_score, make_scorer\n",
    "from src.top_k_accuracy import top_k_accuracy_score"
   ]
  },
  {
   "cell_type": "markdown",
   "metadata": {},
   "source": [
    "# Data Modeling\n",
    "#### Spliting train test data"
   ]
  },
  {
   "cell_type": "code",
   "execution_count": 3,
   "metadata": {},
   "outputs": [
    {
     "data": {
      "text/html": [
       "<div>\n",
       "<style scoped>\n",
       "    .dataframe tbody tr th:only-of-type {\n",
       "        vertical-align: middle;\n",
       "    }\n",
       "\n",
       "    .dataframe tbody tr th {\n",
       "        vertical-align: top;\n",
       "    }\n",
       "\n",
       "    .dataframe thead th {\n",
       "        text-align: right;\n",
       "    }\n",
       "</style>\n",
       "<table border=\"1\" class=\"dataframe\">\n",
       "  <thead>\n",
       "    <tr style=\"text-align: right;\">\n",
       "      <th></th>\n",
       "      <th>shot_res</th>\n",
       "      <th>shot_in_paint</th>\n",
       "      <th>shot_mid_range</th>\n",
       "      <th>shot_lcorner_3</th>\n",
       "      <th>shot_rcorner_3</th>\n",
       "      <th>shot_above_3</th>\n",
       "      <th>fga</th>\n",
       "      <th>block_res</th>\n",
       "      <th>block_in_paint</th>\n",
       "      <th>block_mid_range</th>\n",
       "      <th>block_lcorner_3</th>\n",
       "      <th>block_rcorner_3</th>\n",
       "      <th>block_above_3</th>\n",
       "      <th>blka</th>\n",
       "      <th>oreb</th>\n",
       "      <th>dreb</th>\n",
       "      <th>ast</th>\n",
       "      <th>stl</th>\n",
       "      <th>min</th>\n",
       "      <th>espn_position</th>\n",
       "    </tr>\n",
       "    <tr>\n",
       "      <th>nba_id</th>\n",
       "      <th></th>\n",
       "      <th></th>\n",
       "      <th></th>\n",
       "      <th></th>\n",
       "      <th></th>\n",
       "      <th></th>\n",
       "      <th></th>\n",
       "      <th></th>\n",
       "      <th></th>\n",
       "      <th></th>\n",
       "      <th></th>\n",
       "      <th></th>\n",
       "      <th></th>\n",
       "      <th></th>\n",
       "      <th></th>\n",
       "      <th></th>\n",
       "      <th></th>\n",
       "      <th></th>\n",
       "      <th></th>\n",
       "      <th></th>\n",
       "    </tr>\n",
       "  </thead>\n",
       "  <tbody>\n",
       "    <tr>\n",
       "      <th>101106</th>\n",
       "      <td>0.666666</td>\n",
       "      <td>0.277778</td>\n",
       "      <td>0.055556</td>\n",
       "      <td>0.000000</td>\n",
       "      <td>0.000000</td>\n",
       "      <td>0.000000</td>\n",
       "      <td>36</td>\n",
       "      <td>0.000000</td>\n",
       "      <td>0.999990</td>\n",
       "      <td>0.000000</td>\n",
       "      <td>0.0</td>\n",
       "      <td>0.000000</td>\n",
       "      <td>0.000000</td>\n",
       "      <td>1</td>\n",
       "      <td>10.1</td>\n",
       "      <td>26.9</td>\n",
       "      <td>7.2</td>\n",
       "      <td>2.0</td>\n",
       "      <td>350.758333</td>\n",
       "      <td>C</td>\n",
       "    </tr>\n",
       "    <tr>\n",
       "      <th>101107</th>\n",
       "      <td>0.188940</td>\n",
       "      <td>0.173579</td>\n",
       "      <td>0.052227</td>\n",
       "      <td>0.132104</td>\n",
       "      <td>0.062980</td>\n",
       "      <td>0.390169</td>\n",
       "      <td>651</td>\n",
       "      <td>0.619047</td>\n",
       "      <td>0.238095</td>\n",
       "      <td>0.000000</td>\n",
       "      <td>0.0</td>\n",
       "      <td>0.047619</td>\n",
       "      <td>0.095238</td>\n",
       "      <td>21</td>\n",
       "      <td>3.5</td>\n",
       "      <td>14.5</td>\n",
       "      <td>4.4</td>\n",
       "      <td>2.9</td>\n",
       "      <td>4139.115000</td>\n",
       "      <td>PF</td>\n",
       "    </tr>\n",
       "    <tr>\n",
       "      <th>101108</th>\n",
       "      <td>0.100418</td>\n",
       "      <td>0.211994</td>\n",
       "      <td>0.199442</td>\n",
       "      <td>0.030683</td>\n",
       "      <td>0.051604</td>\n",
       "      <td>0.405858</td>\n",
       "      <td>717</td>\n",
       "      <td>0.533333</td>\n",
       "      <td>0.333333</td>\n",
       "      <td>0.066667</td>\n",
       "      <td>0.0</td>\n",
       "      <td>0.000000</td>\n",
       "      <td>0.066667</td>\n",
       "      <td>15</td>\n",
       "      <td>1.9</td>\n",
       "      <td>13.1</td>\n",
       "      <td>24.1</td>\n",
       "      <td>5.4</td>\n",
       "      <td>3703.331667</td>\n",
       "      <td>PG</td>\n",
       "    </tr>\n",
       "    <tr>\n",
       "      <th>101108</th>\n",
       "      <td>0.100418</td>\n",
       "      <td>0.211994</td>\n",
       "      <td>0.199442</td>\n",
       "      <td>0.030683</td>\n",
       "      <td>0.051604</td>\n",
       "      <td>0.405858</td>\n",
       "      <td>717</td>\n",
       "      <td>0.533333</td>\n",
       "      <td>0.333333</td>\n",
       "      <td>0.066667</td>\n",
       "      <td>0.0</td>\n",
       "      <td>0.000000</td>\n",
       "      <td>0.066667</td>\n",
       "      <td>15</td>\n",
       "      <td>1.9</td>\n",
       "      <td>13.1</td>\n",
       "      <td>24.1</td>\n",
       "      <td>5.4</td>\n",
       "      <td>3703.331667</td>\n",
       "      <td>PG</td>\n",
       "    </tr>\n",
       "    <tr>\n",
       "      <th>101109</th>\n",
       "      <td>0.134328</td>\n",
       "      <td>0.179104</td>\n",
       "      <td>0.238806</td>\n",
       "      <td>0.037313</td>\n",
       "      <td>0.044776</td>\n",
       "      <td>0.365672</td>\n",
       "      <td>134</td>\n",
       "      <td>0.333332</td>\n",
       "      <td>0.333332</td>\n",
       "      <td>0.333332</td>\n",
       "      <td>0.0</td>\n",
       "      <td>0.000000</td>\n",
       "      <td>0.000000</td>\n",
       "      <td>3</td>\n",
       "      <td>1.4</td>\n",
       "      <td>8.4</td>\n",
       "      <td>13.7</td>\n",
       "      <td>3.0</td>\n",
       "      <td>1744.088333</td>\n",
       "      <td>PG</td>\n",
       "    </tr>\n",
       "  </tbody>\n",
       "</table>\n",
       "</div>"
      ],
      "text/plain": [
       "        shot_res  shot_in_paint  shot_mid_range  shot_lcorner_3  \\\n",
       "nba_id                                                            \n",
       "101106  0.666666       0.277778        0.055556        0.000000   \n",
       "101107  0.188940       0.173579        0.052227        0.132104   \n",
       "101108  0.100418       0.211994        0.199442        0.030683   \n",
       "101108  0.100418       0.211994        0.199442        0.030683   \n",
       "101109  0.134328       0.179104        0.238806        0.037313   \n",
       "\n",
       "        shot_rcorner_3  shot_above_3  fga  block_res  block_in_paint  \\\n",
       "nba_id                                                                 \n",
       "101106        0.000000      0.000000   36   0.000000        0.999990   \n",
       "101107        0.062980      0.390169  651   0.619047        0.238095   \n",
       "101108        0.051604      0.405858  717   0.533333        0.333333   \n",
       "101108        0.051604      0.405858  717   0.533333        0.333333   \n",
       "101109        0.044776      0.365672  134   0.333332        0.333332   \n",
       "\n",
       "        block_mid_range  block_lcorner_3  block_rcorner_3  block_above_3  \\\n",
       "nba_id                                                                     \n",
       "101106         0.000000              0.0         0.000000       0.000000   \n",
       "101107         0.000000              0.0         0.047619       0.095238   \n",
       "101108         0.066667              0.0         0.000000       0.066667   \n",
       "101108         0.066667              0.0         0.000000       0.066667   \n",
       "101109         0.333332              0.0         0.000000       0.000000   \n",
       "\n",
       "        blka  oreb  dreb   ast  stl          min espn_position  \n",
       "nba_id                                                          \n",
       "101106     1  10.1  26.9   7.2  2.0   350.758333             C  \n",
       "101107    21   3.5  14.5   4.4  2.9  4139.115000            PF  \n",
       "101108    15   1.9  13.1  24.1  5.4  3703.331667            PG  \n",
       "101108    15   1.9  13.1  24.1  5.4  3703.331667            PG  \n",
       "101109     3   1.4   8.4  13.7  3.0  1744.088333            PG  "
      ]
     },
     "execution_count": 3,
     "metadata": {},
     "output_type": "execute_result"
    }
   ],
   "source": [
    "engine = create_engine(\"sqlite:///db/nba.db\", echo=False)\n",
    "with engine.connect() as conn:\n",
    "    data = pd.read_sql('player_stats', conn, index_col='nba_id')\n",
    "    \n",
    "data.head()"
   ]
  },
  {
   "cell_type": "code",
   "execution_count": 4,
   "metadata": {},
   "outputs": [
    {
     "name": "stdout",
     "output_type": "stream",
     "text": [
      "X_train: (433, 19)\n",
      "y_train: (433,)\n",
      "X_test: (145, 19)\n",
      "y_test: (145,)\n"
     ]
    }
   ],
   "source": [
    "from sklearn.model_selection import train_test_split\n",
    "\n",
    "# Dropping players with less than 50 shots attempts\n",
    "data = data[data.fga >= 50]\n",
    "\n",
    "X = data.drop('espn_position', axis=1)\n",
    "y = data[['espn_position']]\n",
    "\n",
    "X_train, X_test, y_train, y_test = train_test_split(X, y)\n",
    "\n",
    "# Manually encode the labels to make it more meaningful for the confusion matrix later\n",
    "label_encoder_dict = dict([\n",
    "    (\"C\",0),\n",
    "    (\"PG\",1),\n",
    "    (\"SG\",2),\n",
    "    (\"SF\",3),\n",
    "    (\"PF\",4)\n",
    "])\n",
    "\n",
    "y_train = y_train.espn_position.map(label_encoder_dict).values\n",
    "y_test = y_test.espn_position.map(label_encoder_dict).values\n",
    "\n",
    "print('X_train:',X_train.shape)\n",
    "print('y_train:', y_train.shape)\n",
    "print('X_test:', X_test.shape)\n",
    "print('y_test:', y_test.shape)"
   ]
  },
  {
   "cell_type": "code",
   "execution_count": 5,
   "metadata": {
    "scrolled": false
   },
   "outputs": [
    {
     "data": {
      "text/html": [
       "<div>\n",
       "<style scoped>\n",
       "    .dataframe tbody tr th:only-of-type {\n",
       "        vertical-align: middle;\n",
       "    }\n",
       "\n",
       "    .dataframe tbody tr th {\n",
       "        vertical-align: top;\n",
       "    }\n",
       "\n",
       "    .dataframe thead th {\n",
       "        text-align: right;\n",
       "    }\n",
       "</style>\n",
       "<table border=\"1\" class=\"dataframe\">\n",
       "  <thead>\n",
       "    <tr style=\"text-align: right;\">\n",
       "      <th></th>\n",
       "      <th>shot_res</th>\n",
       "      <th>shot_in_paint</th>\n",
       "      <th>shot_mid_range</th>\n",
       "      <th>shot_lcorner_3</th>\n",
       "      <th>shot_rcorner_3</th>\n",
       "      <th>shot_above_3</th>\n",
       "      <th>fga</th>\n",
       "      <th>block_res</th>\n",
       "      <th>block_in_paint</th>\n",
       "      <th>block_mid_range</th>\n",
       "      <th>block_lcorner_3</th>\n",
       "      <th>block_rcorner_3</th>\n",
       "      <th>block_above_3</th>\n",
       "      <th>blka</th>\n",
       "      <th>oreb</th>\n",
       "      <th>dreb</th>\n",
       "      <th>ast</th>\n",
       "      <th>stl</th>\n",
       "      <th>min</th>\n",
       "    </tr>\n",
       "    <tr>\n",
       "      <th>nba_id</th>\n",
       "      <th></th>\n",
       "      <th></th>\n",
       "      <th></th>\n",
       "      <th></th>\n",
       "      <th></th>\n",
       "      <th></th>\n",
       "      <th></th>\n",
       "      <th></th>\n",
       "      <th></th>\n",
       "      <th></th>\n",
       "      <th></th>\n",
       "      <th></th>\n",
       "      <th></th>\n",
       "      <th></th>\n",
       "      <th></th>\n",
       "      <th></th>\n",
       "      <th></th>\n",
       "      <th></th>\n",
       "      <th></th>\n",
       "    </tr>\n",
       "  </thead>\n",
       "  <tbody>\n",
       "    <tr>\n",
       "      <th>1627740</th>\n",
       "      <td>0.263158</td>\n",
       "      <td>0.231579</td>\n",
       "      <td>0.105263</td>\n",
       "      <td>0.063158</td>\n",
       "      <td>0.105263</td>\n",
       "      <td>0.231579</td>\n",
       "      <td>95</td>\n",
       "      <td>0.799998</td>\n",
       "      <td>0.200000</td>\n",
       "      <td>0.000000</td>\n",
       "      <td>0.000000</td>\n",
       "      <td>0.000000</td>\n",
       "      <td>0.000000</td>\n",
       "      <td>5</td>\n",
       "      <td>1.9</td>\n",
       "      <td>22.0</td>\n",
       "      <td>6.1</td>\n",
       "      <td>2.7</td>\n",
       "      <td>493.396667</td>\n",
       "    </tr>\n",
       "    <tr>\n",
       "      <th>1627733</th>\n",
       "      <td>0.401015</td>\n",
       "      <td>0.076142</td>\n",
       "      <td>0.010152</td>\n",
       "      <td>0.076142</td>\n",
       "      <td>0.060914</td>\n",
       "      <td>0.375634</td>\n",
       "      <td>197</td>\n",
       "      <td>0.749998</td>\n",
       "      <td>0.000000</td>\n",
       "      <td>0.000000</td>\n",
       "      <td>0.249999</td>\n",
       "      <td>0.000000</td>\n",
       "      <td>0.000000</td>\n",
       "      <td>4</td>\n",
       "      <td>2.9</td>\n",
       "      <td>16.1</td>\n",
       "      <td>6.3</td>\n",
       "      <td>1.5</td>\n",
       "      <td>2895.588333</td>\n",
       "    </tr>\n",
       "    <tr>\n",
       "      <th>1628401</th>\n",
       "      <td>0.307551</td>\n",
       "      <td>0.230203</td>\n",
       "      <td>0.200737</td>\n",
       "      <td>0.011050</td>\n",
       "      <td>0.033149</td>\n",
       "      <td>0.217311</td>\n",
       "      <td>543</td>\n",
       "      <td>0.515151</td>\n",
       "      <td>0.424242</td>\n",
       "      <td>0.060606</td>\n",
       "      <td>0.000000</td>\n",
       "      <td>0.000000</td>\n",
       "      <td>0.000000</td>\n",
       "      <td>33</td>\n",
       "      <td>2.7</td>\n",
       "      <td>13.2</td>\n",
       "      <td>10.4</td>\n",
       "      <td>3.3</td>\n",
       "      <td>1866.701667</td>\n",
       "    </tr>\n",
       "    <tr>\n",
       "      <th>2594</th>\n",
       "      <td>0.041408</td>\n",
       "      <td>0.031056</td>\n",
       "      <td>0.200828</td>\n",
       "      <td>0.103520</td>\n",
       "      <td>0.089027</td>\n",
       "      <td>0.534161</td>\n",
       "      <td>483</td>\n",
       "      <td>0.166667</td>\n",
       "      <td>0.166667</td>\n",
       "      <td>0.111111</td>\n",
       "      <td>0.111111</td>\n",
       "      <td>0.055556</td>\n",
       "      <td>0.388889</td>\n",
       "      <td>18</td>\n",
       "      <td>0.7</td>\n",
       "      <td>11.0</td>\n",
       "      <td>5.7</td>\n",
       "      <td>1.9</td>\n",
       "      <td>2416.515000</td>\n",
       "    </tr>\n",
       "    <tr>\n",
       "      <th>202718</th>\n",
       "      <td>0.214286</td>\n",
       "      <td>0.115385</td>\n",
       "      <td>0.153846</td>\n",
       "      <td>0.049451</td>\n",
       "      <td>0.065934</td>\n",
       "      <td>0.401099</td>\n",
       "      <td>182</td>\n",
       "      <td>0.571428</td>\n",
       "      <td>0.142857</td>\n",
       "      <td>0.285714</td>\n",
       "      <td>0.000000</td>\n",
       "      <td>0.000000</td>\n",
       "      <td>0.000000</td>\n",
       "      <td>7</td>\n",
       "      <td>1.4</td>\n",
       "      <td>11.7</td>\n",
       "      <td>9.0</td>\n",
       "      <td>3.0</td>\n",
       "      <td>1187.153333</td>\n",
       "    </tr>\n",
       "  </tbody>\n",
       "</table>\n",
       "</div>"
      ],
      "text/plain": [
       "         shot_res  shot_in_paint  shot_mid_range  shot_lcorner_3  \\\n",
       "nba_id                                                             \n",
       "1627740  0.263158       0.231579        0.105263        0.063158   \n",
       "1627733  0.401015       0.076142        0.010152        0.076142   \n",
       "1628401  0.307551       0.230203        0.200737        0.011050   \n",
       "2594     0.041408       0.031056        0.200828        0.103520   \n",
       "202718   0.214286       0.115385        0.153846        0.049451   \n",
       "\n",
       "         shot_rcorner_3  shot_above_3  fga  block_res  block_in_paint  \\\n",
       "nba_id                                                                  \n",
       "1627740        0.105263      0.231579   95   0.799998        0.200000   \n",
       "1627733        0.060914      0.375634  197   0.749998        0.000000   \n",
       "1628401        0.033149      0.217311  543   0.515151        0.424242   \n",
       "2594           0.089027      0.534161  483   0.166667        0.166667   \n",
       "202718         0.065934      0.401099  182   0.571428        0.142857   \n",
       "\n",
       "         block_mid_range  block_lcorner_3  block_rcorner_3  block_above_3  \\\n",
       "nba_id                                                                      \n",
       "1627740         0.000000         0.000000         0.000000       0.000000   \n",
       "1627733         0.000000         0.249999         0.000000       0.000000   \n",
       "1628401         0.060606         0.000000         0.000000       0.000000   \n",
       "2594            0.111111         0.111111         0.055556       0.388889   \n",
       "202718          0.285714         0.000000         0.000000       0.000000   \n",
       "\n",
       "         blka  oreb  dreb   ast  stl          min  \n",
       "nba_id                                             \n",
       "1627740     5   1.9  22.0   6.1  2.7   493.396667  \n",
       "1627733     4   2.9  16.1   6.3  1.5  2895.588333  \n",
       "1628401    33   2.7  13.2  10.4  3.3  1866.701667  \n",
       "2594       18   0.7  11.0   5.7  1.9  2416.515000  \n",
       "202718      7   1.4  11.7   9.0  3.0  1187.153333  "
      ]
     },
     "execution_count": 5,
     "metadata": {},
     "output_type": "execute_result"
    }
   ],
   "source": [
    "X_train.head()"
   ]
  },
  {
   "cell_type": "markdown",
   "metadata": {},
   "source": [
    "A big chunk of players do not have meaningful number of blocks. We will keep this feature for now and see if the models think they are important later"
   ]
  },
  {
   "cell_type": "code",
   "execution_count": 6,
   "metadata": {},
   "outputs": [
    {
     "data": {
      "text/plain": [
       "array([4, 3, 1, 2, 3, 4, 4, 4, 0, 1])"
      ]
     },
     "execution_count": 6,
     "metadata": {},
     "output_type": "execute_result"
    }
   ],
   "source": [
    "y_train[:10]"
   ]
  },
  {
   "cell_type": "markdown",
   "metadata": {},
   "source": [
    "### Baseline Predictor /w decision tree & PCA\n",
    "\n",
    "We are going to use a simple cross validated decision tree as the baseline predictor."
   ]
  },
  {
   "cell_type": "code",
   "execution_count": 7,
   "metadata": {},
   "outputs": [
    {
     "name": "stdout",
     "output_type": "stream",
     "text": [
      "Baseline accuracy score is 0.7310344827586207\n"
     ]
    },
    {
     "name": "stderr",
     "output_type": "stream",
     "text": [
      "/usr/local/lib/python3.7/site-packages/sklearn/model_selection/_search.py:814: DeprecationWarning: The default of the `iid` parameter will change from True to False in version 0.22 and will be removed in 0.24. This will change numeric results when test-set sizes are unequal.\n",
      "  DeprecationWarning)\n"
     ]
    }
   ],
   "source": [
    "from sklearn.tree import DecisionTreeClassifier\n",
    "\n",
    "from sklearn.pipeline import Pipeline\n",
    "from sklearn.preprocessing import StandardScaler\n",
    "from sklearn.model_selection import GridSearchCV, StratifiedKFold\n",
    "from sklearn.decomposition import PCA\n",
    "\n",
    "pipeline = Pipeline([('standarize', StandardScaler()),\n",
    "                     ('pca', PCA()),\n",
    "                     ('clf', DecisionTreeClassifier(class_weight='balanced'))])\n",
    "\n",
    "param_grid = {\"pca__n_components\":[5,10,15,18],\n",
    "              \"clf__max_depth\":[5,10,15]}\n",
    "\n",
    "cv = StratifiedKFold(5, shuffle=True)\n",
    "\n",
    "dt_grid_search = GridSearchCV(pipeline, param_grid, verbose=0, scoring='accuracy', cv=cv, n_jobs=-1)\n",
    "\n",
    "dt_grid_search.fit(X_train, y_train);\n",
    "\n",
    "baseline_score = dt_grid_search.score(X_test, y_test)\n",
    "print(\"Baseline accuracy score is\", baseline_score)"
   ]
  },
  {
   "cell_type": "code",
   "execution_count": 8,
   "metadata": {
    "scrolled": false
   },
   "outputs": [
    {
     "data": {
      "text/plain": [
       "Pipeline(memory=None,\n",
       "         steps=[('standarize',\n",
       "                 StandardScaler(copy=True, with_mean=True, with_std=True)),\n",
       "                ('pca',\n",
       "                 PCA(copy=True, iterated_power='auto', n_components=18,\n",
       "                     random_state=None, svd_solver='auto', tol=0.0,\n",
       "                     whiten=False)),\n",
       "                ('clf',\n",
       "                 DecisionTreeClassifier(class_weight='balanced',\n",
       "                                        criterion='gini', max_depth=15,\n",
       "                                        max_features=None, max_leaf_nodes=None,\n",
       "                                        min_impurity_decrease=0.0,\n",
       "                                        min_impurity_split=None,\n",
       "                                        min_samples_leaf=1, min_samples_split=2,\n",
       "                                        min_weight_fraction_leaf=0.0,\n",
       "                                        presort=False, random_state=None,\n",
       "                                        splitter='best'))],\n",
       "         verbose=False)"
      ]
     },
     "execution_count": 8,
     "metadata": {},
     "output_type": "execute_result"
    }
   ],
   "source": [
    "dt_grid_search.best_estimator_"
   ]
  },
  {
   "cell_type": "code",
   "execution_count": 9,
   "metadata": {
    "scrolled": false
   },
   "outputs": [],
   "source": [
    "def draw_confusion_matrix(y_ground_truth, y_pred):\n",
    "    \"\"\"Plots confusion matrix given ground truth and predicted labels\"\"\"\n",
    "    warnings.filterwarnings('ignore')\n",
    "\n",
    "    cm = confusion_matrix(y_test, y_pred)\n",
    "\n",
    "    # Draw a heatmap with the numeric values in each cell\n",
    "    f, ax = plt.subplots(figsize=(9, 7))\n",
    "    heat_map = sns.heatmap(cm, \n",
    "                           annot=True, \n",
    "                           fmt=\"d\", \n",
    "                           linewidths=1, \n",
    "                           ax=ax, \n",
    "                           cmap=sns.cubehelix_palette(50),\n",
    "                           xticklabels=label_encoder_dict.keys(), \n",
    "                           yticklabels=label_encoder_dict.keys())\n",
    "\n",
    "    heat_map.set_xlabel(\"Predicted Label\")\n",
    "    heat_map.set_ylabel(\"Ground Truth Label\")"
   ]
  },
  {
   "cell_type": "code",
   "execution_count": 10,
   "metadata": {},
   "outputs": [
    {
     "data": {
      "image/png": "[encoded data removed]",
      "text/plain": [
       "<Figure size 648x504 with 2 Axes>"
      ]
     },
     "metadata": {
      "needs_background": "light"
     },
     "output_type": "display_data"
    }
   ],
   "source": [
    "draw_confusion_matrix(y_test, dt_grid_search.predict(X_test))"
   ]
  },
  {
   "cell_type": "markdown",
   "metadata": {},
   "source": [
    "### Multinomial Logistic Regression\n",
    "\n",
    "Why choose it\n",
    "    - Predicts probability distribution over k classes, which gives us insight on how close the player is to each position/role\n",
    "    - Performs well when data is not well separated, which is going to be the case for us. The variance in NBA stat is often quite high"
   ]
  },
  {
   "cell_type": "markdown",
   "metadata": {},
   "source": [
    "#### Examine Multicollinearity \n",
    "\n",
    "Unless extreme, multicollinearity won't affect prediction. It will, however, affect our ability to assert causation and make the model much less interpretable. Since we are only interested in prediction, it's therefore not a big concern but we'll have a look at the VIF just to see what we are dealing with."
   ]
  },
  {
   "cell_type": "code",
   "execution_count": 11,
   "metadata": {
    "ExecuteTime": {
     "end_time": "2019-05-31T20:22:36.595239Z",
     "start_time": "2019-05-31T20:22:36.553317Z"
    }
   },
   "outputs": [
    {
     "data": {
      "text/html": [
       "<div>\n",
       "<style scoped>\n",
       "    .dataframe tbody tr th:only-of-type {\n",
       "        vertical-align: middle;\n",
       "    }\n",
       "\n",
       "    .dataframe tbody tr th {\n",
       "        vertical-align: top;\n",
       "    }\n",
       "\n",
       "    .dataframe thead th {\n",
       "        text-align: right;\n",
       "    }\n",
       "</style>\n",
       "<table border=\"1\" class=\"dataframe\">\n",
       "  <thead>\n",
       "    <tr style=\"text-align: right;\">\n",
       "      <th></th>\n",
       "      <th>Feature</th>\n",
       "      <th>VIF</th>\n",
       "    </tr>\n",
       "  </thead>\n",
       "  <tbody>\n",
       "    <tr>\n",
       "      <th>7</th>\n",
       "      <td>block_res</td>\n",
       "      <td>6.166780e+11</td>\n",
       "    </tr>\n",
       "    <tr>\n",
       "      <th>0</th>\n",
       "      <td>shot_res</td>\n",
       "      <td>2.374377e+11</td>\n",
       "    </tr>\n",
       "    <tr>\n",
       "      <th>8</th>\n",
       "      <td>block_in_paint</td>\n",
       "      <td>1.583628e+11</td>\n",
       "    </tr>\n",
       "    <tr>\n",
       "      <th>5</th>\n",
       "      <td>shot_above_3</td>\n",
       "      <td>1.540693e+11</td>\n",
       "    </tr>\n",
       "    <tr>\n",
       "      <th>1</th>\n",
       "      <td>shot_in_paint</td>\n",
       "      <td>4.895989e+10</td>\n",
       "    </tr>\n",
       "    <tr>\n",
       "      <th>2</th>\n",
       "      <td>shot_mid_range</td>\n",
       "      <td>4.298271e+10</td>\n",
       "    </tr>\n",
       "    <tr>\n",
       "      <th>9</th>\n",
       "      <td>block_mid_range</td>\n",
       "      <td>1.423671e+10</td>\n",
       "    </tr>\n",
       "    <tr>\n",
       "      <th>12</th>\n",
       "      <td>block_above_3</td>\n",
       "      <td>9.814576e+09</td>\n",
       "    </tr>\n",
       "    <tr>\n",
       "      <th>3</th>\n",
       "      <td>shot_lcorner_3</td>\n",
       "      <td>6.060002e+09</td>\n",
       "    </tr>\n",
       "    <tr>\n",
       "      <th>4</th>\n",
       "      <td>shot_rcorner_3</td>\n",
       "      <td>6.044524e+09</td>\n",
       "    </tr>\n",
       "    <tr>\n",
       "      <th>11</th>\n",
       "      <td>block_rcorner_3</td>\n",
       "      <td>2.416444e+09</td>\n",
       "    </tr>\n",
       "    <tr>\n",
       "      <th>10</th>\n",
       "      <td>block_lcorner_3</td>\n",
       "      <td>2.341358e+09</td>\n",
       "    </tr>\n",
       "    <tr>\n",
       "      <th>6</th>\n",
       "      <td>fga</td>\n",
       "      <td>2.278709e+01</td>\n",
       "    </tr>\n",
       "    <tr>\n",
       "      <th>18</th>\n",
       "      <td>min</td>\n",
       "      <td>1.389952e+01</td>\n",
       "    </tr>\n",
       "    <tr>\n",
       "      <th>13</th>\n",
       "      <td>blka</td>\n",
       "      <td>1.288436e+01</td>\n",
       "    </tr>\n",
       "    <tr>\n",
       "      <th>15</th>\n",
       "      <td>dreb</td>\n",
       "      <td>1.081562e+01</td>\n",
       "    </tr>\n",
       "    <tr>\n",
       "      <th>14</th>\n",
       "      <td>oreb</td>\n",
       "      <td>9.888926e+00</td>\n",
       "    </tr>\n",
       "    <tr>\n",
       "      <th>17</th>\n",
       "      <td>stl</td>\n",
       "      <td>9.643645e+00</td>\n",
       "    </tr>\n",
       "    <tr>\n",
       "      <th>16</th>\n",
       "      <td>ast</td>\n",
       "      <td>6.816613e+00</td>\n",
       "    </tr>\n",
       "  </tbody>\n",
       "</table>\n",
       "</div>"
      ],
      "text/plain": [
       "            Feature           VIF\n",
       "7         block_res  6.166780e+11\n",
       "0          shot_res  2.374377e+11\n",
       "8    block_in_paint  1.583628e+11\n",
       "5      shot_above_3  1.540693e+11\n",
       "1     shot_in_paint  4.895989e+10\n",
       "2    shot_mid_range  4.298271e+10\n",
       "9   block_mid_range  1.423671e+10\n",
       "12    block_above_3  9.814576e+09\n",
       "3    shot_lcorner_3  6.060002e+09\n",
       "4    shot_rcorner_3  6.044524e+09\n",
       "11  block_rcorner_3  2.416444e+09\n",
       "10  block_lcorner_3  2.341358e+09\n",
       "6               fga  2.278709e+01\n",
       "18              min  1.389952e+01\n",
       "13             blka  1.288436e+01\n",
       "15             dreb  1.081562e+01\n",
       "14             oreb  9.888926e+00\n",
       "17              stl  9.643645e+00\n",
       "16              ast  6.816613e+00"
      ]
     },
     "metadata": {},
     "output_type": "display_data"
    }
   ],
   "source": [
    "# Calculating VIF\n",
    "from statsmodels.stats.outliers_influence import variance_inflation_factor\n",
    "\n",
    "vif_data = []\n",
    "for idx, col in enumerate(X.columns):\n",
    "    VIF_i = variance_inflation_factor(X.dropna().values, idx)\n",
    "    vif_data.append([col, VIF_i])\n",
    "\n",
    "display(pd.DataFrame(vif_data, columns=['Feature', \"VIF\"]).sort_values(\"VIF\", ascending=False))"
   ]
  },
  {
   "cell_type": "markdown",
   "metadata": {},
   "source": [
    "Anything with VIF over 10 exhibits strong multicolinearity with other features, here we are dealing with many feature that has strong correlation with others.\n",
    "\n",
    "Quickest way to solve this is in this dataset is probably with a combination of standarization, PCA and L1 regularization. "
   ]
  },
  {
   "cell_type": "code",
   "execution_count": 12,
   "metadata": {
    "ExecuteTime": {
     "end_time": "2019-05-31T20:56:08.653833Z",
     "start_time": "2019-05-31T20:56:08.650798Z"
    },
    "scrolled": false
   },
   "outputs": [
    {
     "name": "stdout",
     "output_type": "stream",
     "text": [
      "Logistic regression accuracy score is 0.63\n"
     ]
    }
   ],
   "source": [
    "from sklearn.linear_model import LogisticRegression\n",
    "\n",
    "pipeline = Pipeline([('standarize', StandardScaler()),\n",
    "                     ('pca', PCA()),\n",
    "                     ('clf', LogisticRegression(class_weight='balanced', \n",
    "                                                max_iter=10000,\n",
    "                                                multi_class='multinomial',\n",
    "                                                solver='saga'))])\n",
    "\n",
    "param_grid = {\"clf__penalty\":['l1','l2','none'],\n",
    "              \"clf__C\":[.5,.75,1,1.25],\n",
    "              \"pca__n_components\":[5,10,15,18]}\n",
    "\n",
    "scoring = {'Accuracy': make_scorer(accuracy_score), \n",
    "           'Balanced Accuracy': make_scorer(balanced_accuracy_score)}\n",
    "\n",
    "cv = StratifiedKFold(5, shuffle=True)\n",
    "\n",
    "lr_grid_search = GridSearchCV(pipeline, \n",
    "                              param_grid, \n",
    "                              verbose=0, \n",
    "                              scoring=scoring,\n",
    "                              cv=cv,\n",
    "                              n_jobs=-1,\n",
    "                              refit='Balanced Accuracy')\n",
    "\n",
    "lr_grid_search.fit(X_train, y_train);\n",
    "\n",
    "lr_score = lr_grid_search.score(X_test, y_test)\n",
    "\n",
    "print(\"Logistic regression accuracy score is %.2f\" % lr_score)"
   ]
  },
  {
   "cell_type": "code",
   "execution_count": 13,
   "metadata": {},
   "outputs": [
    {
     "data": {
      "text/plain": [
       "Pipeline(memory=None,\n",
       "         steps=[('standarize',\n",
       "                 StandardScaler(copy=True, with_mean=True, with_std=True)),\n",
       "                ('pca',\n",
       "                 PCA(copy=True, iterated_power='auto', n_components=18,\n",
       "                     random_state=None, svd_solver='auto', tol=0.0,\n",
       "                     whiten=False)),\n",
       "                ('clf',\n",
       "                 LogisticRegression(C=0.5, class_weight='balanced', dual=False,\n",
       "                                    fit_intercept=True, intercept_scaling=1,\n",
       "                                    l1_ratio=None, max_iter=10000,\n",
       "                                    multi_class='multinomial', n_jobs=None,\n",
       "                                    penalty='l1', random_state=None,\n",
       "                                    solver='saga', tol=0.0001, verbose=0,\n",
       "                                    warm_start=False))],\n",
       "         verbose=False)"
      ]
     },
     "execution_count": 13,
     "metadata": {},
     "output_type": "execute_result"
    }
   ],
   "source": [
    "lr_grid_search.best_estimator_"
   ]
  },
  {
   "cell_type": "code",
   "execution_count": 14,
   "metadata": {},
   "outputs": [
    {
     "data": {
      "image/png": "[encoded data removed]",
      "text/plain": [
       "<Figure size 648x504 with 2 Axes>"
      ]
     },
     "metadata": {
      "needs_background": "light"
     },
     "output_type": "display_data"
    }
   ],
   "source": [
    "draw_confusion_matrix(y_test, lr_grid_search.predict(X_test))"
   ]
  },
  {
   "cell_type": "markdown",
   "metadata": {},
   "source": [
    "This result is interesting because it shows that based on where a player shoots the ball, and his general stats, we can generally tell which type of player he is. \n",
    "\n",
    "Not surprisingly, the difference between a Point Guard and a Shooting Guard is subtle, as misclassification rates are somewhat high between the two groups.\n",
    "\n",
    "The Power Forward position is also an interesting one, as it often gets misclassified with Center. This makes sense because they have more similar play styles, which is to always play near the restricted zone.\n",
    "\n",
    "https://sports.stackexchange.com/questions/2172/what-are-the-differences-between-the-power-forward-and-center-positions"
   ]
  },
  {
   "cell_type": "markdown",
   "metadata": {},
   "source": [
    "## Tree Based Methods"
   ]
  },
  {
   "cell_type": "markdown",
   "metadata": {},
   "source": [
    "### Random Forest\n",
    "\n",
    "Why Choose It\n",
    "    - One of the best out of the box classifiers. It is non-parametric(don't assume underlying data distribution), which makes it robust to many kinds of data and does not require feature preprocessing. \n",
    "    - Pretty quick to train compared to XGBoost, which has many more parameters to tune."
   ]
  },
  {
   "cell_type": "code",
   "execution_count": 15,
   "metadata": {},
   "outputs": [
    {
     "name": "stdout",
     "output_type": "stream",
     "text": [
      "Random forest accuracy score is 0.74\n"
     ]
    }
   ],
   "source": [
    "from sklearn.ensemble import RandomForestClassifier\n",
    "\n",
    "rf_pipeline = Pipeline([('clf', RandomForestClassifier(n_jobs=-1, class_weight='balanced'))])\n",
    "\n",
    "rf_parameter_grid = {'clf__n_estimators':[500],\n",
    "                    'clf__max_depth':[8, 12, 16, 18],\n",
    "                    'clf__min_samples_split':[2, 8, 12, 18]\n",
    "                    }\n",
    "\n",
    "rf_gridsearch = GridSearchCV(rf_pipeline, \n",
    "                             rf_parameter_grid, \n",
    "                             cv=cv, \n",
    "                             scoring=scoring, \n",
    "                             refit=\"Balanced Accuracy\")\n",
    "\n",
    "rf_gridsearch.fit(X_train, y_train)\n",
    "\n",
    "rf_score = rf_gridsearch.score(X_test, y_test)\n",
    "print(\"Random forest accuracy score is %.2f\" % rf_score)"
   ]
  },
  {
   "cell_type": "code",
   "execution_count": 16,
   "metadata": {},
   "outputs": [
    {
     "data": {
      "text/plain": [
       "Pipeline(memory=None,\n",
       "         steps=[('clf',\n",
       "                 RandomForestClassifier(bootstrap=True, class_weight='balanced',\n",
       "                                        criterion='gini', max_depth=18,\n",
       "                                        max_features='auto',\n",
       "                                        max_leaf_nodes=None,\n",
       "                                        min_impurity_decrease=0.0,\n",
       "                                        min_impurity_split=None,\n",
       "                                        min_samples_leaf=1, min_samples_split=8,\n",
       "                                        min_weight_fraction_leaf=0.0,\n",
       "                                        n_estimators=500, n_jobs=-1,\n",
       "                                        oob_score=False, random_state=None,\n",
       "                                        verbose=0, warm_start=False))],\n",
       "         verbose=False)"
      ]
     },
     "execution_count": 16,
     "metadata": {},
     "output_type": "execute_result"
    }
   ],
   "source": [
    "rf_gridsearch.best_estimator_"
   ]
  },
  {
   "cell_type": "code",
   "execution_count": 17,
   "metadata": {},
   "outputs": [
    {
     "data": {
      "image/png": "[encoded data removed]",
      "text/plain": [
       "<Figure size 648x504 with 2 Axes>"
      ]
     },
     "metadata": {
      "needs_background": "light"
     },
     "output_type": "display_data"
    }
   ],
   "source": [
    "draw_confusion_matrix(y_test, rf_gridsearch.predict(X_test))"
   ]
  },
  {
   "cell_type": "markdown",
   "metadata": {},
   "source": [
    "In this case, RF did not perform better than our Multinomial Logistic Regression Classifier. It made similar mistakes compared to the logistic regression model (confusing same types of players), and greater in quantity."
   ]
  },
  {
   "cell_type": "markdown",
   "metadata": {},
   "source": [
    "### Boosted Trees\n",
    "\n",
    "#### XGBoost"
   ]
  },
  {
   "cell_type": "code",
   "execution_count": 18,
   "metadata": {},
   "outputs": [
    {
     "name": "stdout",
     "output_type": "stream",
     "text": [
      "Random forest accuracy score is 0.74\n"
     ]
    },
    {
     "data": {
      "text/plain": [
       "Pipeline(memory=None,\n",
       "         steps=[('xgb_clf',\n",
       "                 XGBClassifier(base_score=0.5, booster='gbtree',\n",
       "                               colsample_bylevel=1, colsample_bynode=1,\n",
       "                               colsample_bytree=1, gamma=0, learning_rate=0.1,\n",
       "                               max_delta_step=0, max_depth=6,\n",
       "                               min_child_weight=1, missing=None,\n",
       "                               n_estimators=75, n_jobs=1, nthread=None,\n",
       "                               objective='multi:softprob', random_state=0,\n",
       "                               reg_alpha=1, reg_lambda=0, scale_pos_weight=1,\n",
       "                               seed=None, silent=None, subsample=1, verbose=10,\n",
       "                               verbosity=1))],\n",
       "         verbose=False)"
      ]
     },
     "execution_count": 18,
     "metadata": {},
     "output_type": "execute_result"
    }
   ],
   "source": [
    "from xgboost import XGBClassifier\n",
    "from sklearn.model_selection import KFold\n",
    "\n",
    "xgb_pipeline = Pipeline([('xgb_clf', XGBClassifier(n_jobs=1, learning_rate=0.1, verbose=10))])\n",
    "\n",
    "xgb_param_grid1 = {\n",
    "    'xgb_clf__n_estimators':[75],\n",
    "    'xgb_clf__gamma':[0, 0.5, 1],\n",
    "    'xgb_clf__max_depth':[3, 6, 9],\n",
    "    'xgb_clf__reg_alpha':[0, 0.5, 1], \n",
    "    'xgb_clf__reg_lambda':[0, 0.5, 1], \n",
    "}\n",
    "\n",
    "cv = StratifiedKFold(5, shuffle=False)\n",
    "\n",
    "xgb_grid_cv = GridSearchCV(xgb_pipeline, \n",
    "                           xgb_param_grid1, \n",
    "                           scoring=scoring, \n",
    "                           cv=cv, \n",
    "                           verbose=0, \n",
    "                           n_jobs=-1, \n",
    "                           refit='Balanced Accuracy')\n",
    "\n",
    "xgb_grid_cv.fit(X_train, y_train)\n",
    "\n",
    "xgb_score = xgb_grid_cv.score(X_test, y_test)\n",
    "\n",
    "print(\"Random forest accuracy score is %.2f\" % rf_score)\n",
    "\n",
    "xgb_grid_cv.best_estimator_"
   ]
  },
  {
   "cell_type": "code",
   "execution_count": 19,
   "metadata": {},
   "outputs": [
    {
     "data": {
      "image/png": "[encoded data removed]",
      "text/plain": [
       "<Figure size 648x504 with 2 Axes>"
      ]
     },
     "metadata": {
      "needs_background": "light"
     },
     "output_type": "display_data"
    }
   ],
   "source": [
    "draw_confusion_matrix(y_test, xgb_grid_cv.predict(X_test))"
   ]
  },
  {
   "cell_type": "markdown",
   "metadata": {},
   "source": [
    "## Model comparson"
   ]
  },
  {
   "cell_type": "code",
   "execution_count": 20,
   "metadata": {},
   "outputs": [],
   "source": [
    "clfs = [(\"Decision Tree (Baseline)\", dt_grid_search),\n",
    "        (\"XGBoost\", xgb_grid_cv), \n",
    "        (\"Random Forest\", rf_gridsearch), \n",
    "        (\"Logistic Regression\", lr_grid_search)]"
   ]
  },
  {
   "cell_type": "code",
   "execution_count": 21,
   "metadata": {
    "scrolled": true
   },
   "outputs": [
    {
     "data": {
      "text/html": [
       "<div>\n",
       "<style scoped>\n",
       "    .dataframe tbody tr th:only-of-type {\n",
       "        vertical-align: middle;\n",
       "    }\n",
       "\n",
       "    .dataframe tbody tr th {\n",
       "        vertical-align: top;\n",
       "    }\n",
       "\n",
       "    .dataframe thead th {\n",
       "        text-align: right;\n",
       "    }\n",
       "</style>\n",
       "<table border=\"1\" class=\"dataframe\">\n",
       "  <thead>\n",
       "    <tr style=\"text-align: right;\">\n",
       "      <th></th>\n",
       "      <th>Balanced Accuracy</th>\n",
       "      <th>Top 1 Accuracy</th>\n",
       "      <th>Top 2</th>\n",
       "      <th>Top 3</th>\n",
       "    </tr>\n",
       "  </thead>\n",
       "  <tbody>\n",
       "    <tr>\n",
       "      <th>Decision Tree (Baseline)</th>\n",
       "      <td>0.635104</td>\n",
       "      <td>0.731034</td>\n",
       "      <td>0.779310</td>\n",
       "      <td>0.896552</td>\n",
       "    </tr>\n",
       "    <tr>\n",
       "      <th>XGBoost</th>\n",
       "      <td>0.744410</td>\n",
       "      <td>0.765517</td>\n",
       "      <td>0.910345</td>\n",
       "      <td>0.979310</td>\n",
       "    </tr>\n",
       "    <tr>\n",
       "      <th>Random Forest</th>\n",
       "      <td>0.735595</td>\n",
       "      <td>0.737931</td>\n",
       "      <td>0.875862</td>\n",
       "      <td>0.986207</td>\n",
       "    </tr>\n",
       "    <tr>\n",
       "      <th>Logistic Regression</th>\n",
       "      <td>0.657525</td>\n",
       "      <td>0.620690</td>\n",
       "      <td>0.855172</td>\n",
       "      <td>0.972414</td>\n",
       "    </tr>\n",
       "  </tbody>\n",
       "</table>\n",
       "</div>"
      ],
      "text/plain": [
       "                          Balanced Accuracy  Top 1 Accuracy     Top 2  \\\n",
       "Decision Tree (Baseline)           0.635104        0.731034  0.779310   \n",
       "XGBoost                            0.744410        0.765517  0.910345   \n",
       "Random Forest                      0.735595        0.737931  0.875862   \n",
       "Logistic Regression                0.657525        0.620690  0.855172   \n",
       "\n",
       "                             Top 3  \n",
       "Decision Tree (Baseline)  0.896552  \n",
       "XGBoost                   0.979310  \n",
       "Random Forest             0.986207  \n",
       "Logistic Regression       0.972414  "
      ]
     },
     "execution_count": 21,
     "metadata": {},
     "output_type": "execute_result"
    }
   ],
   "source": [
    "scores = []\n",
    "for clf_name, clf in clfs:\n",
    "    \n",
    "    y_pred_proba = clf.predict_proba(X_test)\n",
    "    \n",
    "    clf_top_n_score = []\n",
    "    \n",
    "    # Balanced accuracy, which is the default scorer for Grid Search CV\n",
    "    clf_top_n_score.append(clf.best_score_)\n",
    "    \n",
    "    for i in range(1,4):\n",
    "        score = top_k_accuracy_score(y_test, y_pred_proba, i)\n",
    "        clf_top_n_score.append(score)\n",
    "    \n",
    "    scores.append(clf_top_n_score)\n",
    "\n",
    "score_names = ['Balanced Accuracy', 'Top 1 Accuracy', 'Top 2', 'Top 3']    \n",
    "\n",
    "    \n",
    "pd.DataFrame(scores, columns=score_names, index=[e[0] for e in clfs])"
   ]
  },
  {
   "cell_type": "markdown",
   "metadata": {},
   "source": [
    "### Feature Importance (from Random Forest)\n",
    "\n",
    "Rebound and assists are the most discriminative features, while as suspected, blocking stats are not the most informative. Features relating to shot location are also quite informative."
   ]
  },
  {
   "cell_type": "code",
   "execution_count": 22,
   "metadata": {},
   "outputs": [
    {
     "data": {
      "image/png": "[encoded data removed]",
      "text/plain": [
       "<Figure size 1080x360 with 1 Axes>"
      ]
     },
     "metadata": {
      "needs_background": "light"
     },
     "output_type": "display_data"
    }
   ],
   "source": [
    "trained_rf_clf = rf_gridsearch.best_estimator_.steps[0][1]\n",
    "ax = pd.DataFrame(trained_rf_clf.feature_importances_).plot(kind='bar', figsize=(15,5))\n",
    "ax.set_xticklabels(X_train.columns.to_list());"
   ]
  },
  {
   "cell_type": "markdown",
   "metadata": {},
   "source": [
    "## Conclusion\n",
    "\n",
    "#### Non-parametric models outperform on our dataset\n",
    "Through this exercise, we discovered that a tuned XGBoost model has the best performance, followed by random forest and logistic regression. Surprisingly, logistic regression only performed marginally better than the baseline decision tree classifier. My hypothesis is that logistic regression being a parametric linear classifier did not fit the non-linear relationship exhibited in the data well enough. This is in direct contrast with the tree based, non-parametric models.\n",
    "\n",
    "#### Small forwards are the most versatile players\n",
    "Small forward is the most difficult player position to predict, and often gets confused with point guards and shooting guards. This is because SFs are the most versatile position out of all basketball positions[1].\n",
    "\n",
    "Small forwards are responsible for scoring points, defending and often as secondary or tertiary rebounders behind the power forward and center, although a few have considerable passing responsibilities. Many small forwards in professional basketball are prolific scorers.\n",
    "\n",
    "[1] Versatility is key for small forwards \n",
    "https://www.espn.com/college-sports/recruiting/news/story?id=2677310"
   ]
  }
 ],
 "metadata": {
  "kernelspec": {
   "display_name": "Python 3",
   "language": "python",
   "name": "python3"
  },
  "language_info": {
   "codemirror_mode": {
    "name": "ipython",
    "version": 3
   },
   "file_extension": ".py",
   "mimetype": "text/x-python",
   "name": "python",
   "nbconvert_exporter": "python",
   "pygments_lexer": "ipython3",
   "version": "3.7.3"
  },
  "varInspector": {
   "cols": {
    "lenName": 16,
    "lenType": 16,
    "lenVar": 40
   },
   "kernels_config": {
    "python": {
     "delete_cmd_postfix": "",
     "delete_cmd_prefix": "del ",
     "library": "var_list.py",
     "varRefreshCmd": "print(var_dic_list())"
    },
    "r": {
     "delete_cmd_postfix": ") ",
     "delete_cmd_prefix": "rm(",
     "library": "var_list.r",
     "varRefreshCmd": "cat(var_dic_list()) "
    }
   },
   "types_to_exclude": [
    "module",
    "function",
    "builtin_function_or_method",
    "instance",
    "_Feature"
   ],
   "window_display": false
  }
 },
 "nbformat": 4,
 "nbformat_minor": 2
}
