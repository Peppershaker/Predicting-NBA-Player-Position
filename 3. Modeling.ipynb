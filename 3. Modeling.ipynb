{
 "cells": [
  {
   "cell_type": "code",
   "execution_count": 1,
   "metadata": {
    "ExecuteTime": {
     "end_time": "2019-05-31T20:22:34.896402Z",
     "start_time": "2019-05-31T20:22:34.876047Z"
    }
   },
   "outputs": [],
   "source": [
    "__author__ = \"Victor Xu\"\n",
    "__email__ = \"victor.c.xu@gmail.com\"\n",
    "__website__ = \"victorxu.me\"\n",
    "\n",
    "__copyright__ = \"Copyright 2019, Victor Xu\""
   ]
  },
  {
   "cell_type": "code",
   "execution_count": 2,
   "metadata": {},
   "outputs": [],
   "source": [
    "#import re\n",
    "import pandas as pd\n",
    "import numpy as np\n",
    "import warnings\n",
    "\n",
    "from sqlalchemy import create_engine\n",
    "#from tqdm import tqdm_notebook\n",
    "#from nba_py import player\n",
    "#from time import sleep\n",
    "import matplotlib.pyplot as plt\n",
    "import scipy as sp\n",
    "import seaborn as sns"
   ]
  },
  {
   "cell_type": "markdown",
   "metadata": {},
   "source": [
    "# Data Modeling\n",
    "#### Spliting train test data"
   ]
  },
  {
   "cell_type": "code",
   "execution_count": 3,
   "metadata": {},
   "outputs": [
    {
     "data": {
      "text/html": [
       "<div>\n",
       "<style scoped>\n",
       "    .dataframe tbody tr th:only-of-type {\n",
       "        vertical-align: middle;\n",
       "    }\n",
       "\n",
       "    .dataframe tbody tr th {\n",
       "        vertical-align: top;\n",
       "    }\n",
       "\n",
       "    .dataframe thead th {\n",
       "        text-align: right;\n",
       "    }\n",
       "</style>\n",
       "<table border=\"1\" class=\"dataframe\">\n",
       "  <thead>\n",
       "    <tr style=\"text-align: right;\">\n",
       "      <th></th>\n",
       "      <th>shot_res</th>\n",
       "      <th>shot_in_paint</th>\n",
       "      <th>shot_mid_range</th>\n",
       "      <th>shot_lcorner_3</th>\n",
       "      <th>shot_rcorner_3</th>\n",
       "      <th>shot_above_3</th>\n",
       "      <th>fga</th>\n",
       "      <th>block_res</th>\n",
       "      <th>block_in_paint</th>\n",
       "      <th>block_mid_range</th>\n",
       "      <th>block_lcorner_3</th>\n",
       "      <th>block_rcorner_3</th>\n",
       "      <th>block_above_3</th>\n",
       "      <th>blka</th>\n",
       "      <th>oreb</th>\n",
       "      <th>dreb</th>\n",
       "      <th>ast</th>\n",
       "      <th>stl</th>\n",
       "      <th>min</th>\n",
       "      <th>espn_position</th>\n",
       "    </tr>\n",
       "    <tr>\n",
       "      <th>nba_id</th>\n",
       "      <th></th>\n",
       "      <th></th>\n",
       "      <th></th>\n",
       "      <th></th>\n",
       "      <th></th>\n",
       "      <th></th>\n",
       "      <th></th>\n",
       "      <th></th>\n",
       "      <th></th>\n",
       "      <th></th>\n",
       "      <th></th>\n",
       "      <th></th>\n",
       "      <th></th>\n",
       "      <th></th>\n",
       "      <th></th>\n",
       "      <th></th>\n",
       "      <th></th>\n",
       "      <th></th>\n",
       "      <th></th>\n",
       "      <th></th>\n",
       "    </tr>\n",
       "  </thead>\n",
       "  <tbody>\n",
       "    <tr>\n",
       "      <th>101106</th>\n",
       "      <td>0.666666</td>\n",
       "      <td>0.277778</td>\n",
       "      <td>0.055556</td>\n",
       "      <td>0.000000</td>\n",
       "      <td>0.000000</td>\n",
       "      <td>0.000000</td>\n",
       "      <td>36</td>\n",
       "      <td>0.000000</td>\n",
       "      <td>0.999990</td>\n",
       "      <td>0.000000</td>\n",
       "      <td>0.0</td>\n",
       "      <td>0.000000</td>\n",
       "      <td>0.000000</td>\n",
       "      <td>1</td>\n",
       "      <td>10.1</td>\n",
       "      <td>26.9</td>\n",
       "      <td>7.2</td>\n",
       "      <td>2.0</td>\n",
       "      <td>350.758333</td>\n",
       "      <td>C</td>\n",
       "    </tr>\n",
       "    <tr>\n",
       "      <th>101107</th>\n",
       "      <td>0.188940</td>\n",
       "      <td>0.173579</td>\n",
       "      <td>0.052227</td>\n",
       "      <td>0.132104</td>\n",
       "      <td>0.062980</td>\n",
       "      <td>0.390169</td>\n",
       "      <td>651</td>\n",
       "      <td>0.619047</td>\n",
       "      <td>0.238095</td>\n",
       "      <td>0.000000</td>\n",
       "      <td>0.0</td>\n",
       "      <td>0.047619</td>\n",
       "      <td>0.095238</td>\n",
       "      <td>21</td>\n",
       "      <td>3.5</td>\n",
       "      <td>14.5</td>\n",
       "      <td>4.4</td>\n",
       "      <td>2.9</td>\n",
       "      <td>4139.115000</td>\n",
       "      <td>PF</td>\n",
       "    </tr>\n",
       "    <tr>\n",
       "      <th>101108</th>\n",
       "      <td>0.100418</td>\n",
       "      <td>0.211994</td>\n",
       "      <td>0.199442</td>\n",
       "      <td>0.030683</td>\n",
       "      <td>0.051604</td>\n",
       "      <td>0.405858</td>\n",
       "      <td>717</td>\n",
       "      <td>0.533333</td>\n",
       "      <td>0.333333</td>\n",
       "      <td>0.066667</td>\n",
       "      <td>0.0</td>\n",
       "      <td>0.000000</td>\n",
       "      <td>0.066667</td>\n",
       "      <td>15</td>\n",
       "      <td>1.9</td>\n",
       "      <td>13.1</td>\n",
       "      <td>24.1</td>\n",
       "      <td>5.4</td>\n",
       "      <td>3703.331667</td>\n",
       "      <td>PG</td>\n",
       "    </tr>\n",
       "    <tr>\n",
       "      <th>101108</th>\n",
       "      <td>0.100418</td>\n",
       "      <td>0.211994</td>\n",
       "      <td>0.199442</td>\n",
       "      <td>0.030683</td>\n",
       "      <td>0.051604</td>\n",
       "      <td>0.405858</td>\n",
       "      <td>717</td>\n",
       "      <td>0.533333</td>\n",
       "      <td>0.333333</td>\n",
       "      <td>0.066667</td>\n",
       "      <td>0.0</td>\n",
       "      <td>0.000000</td>\n",
       "      <td>0.066667</td>\n",
       "      <td>15</td>\n",
       "      <td>1.9</td>\n",
       "      <td>13.1</td>\n",
       "      <td>24.1</td>\n",
       "      <td>5.4</td>\n",
       "      <td>3703.331667</td>\n",
       "      <td>PG</td>\n",
       "    </tr>\n",
       "    <tr>\n",
       "      <th>101109</th>\n",
       "      <td>0.134328</td>\n",
       "      <td>0.179104</td>\n",
       "      <td>0.238806</td>\n",
       "      <td>0.037313</td>\n",
       "      <td>0.044776</td>\n",
       "      <td>0.365672</td>\n",
       "      <td>134</td>\n",
       "      <td>0.333332</td>\n",
       "      <td>0.333332</td>\n",
       "      <td>0.333332</td>\n",
       "      <td>0.0</td>\n",
       "      <td>0.000000</td>\n",
       "      <td>0.000000</td>\n",
       "      <td>3</td>\n",
       "      <td>1.4</td>\n",
       "      <td>8.4</td>\n",
       "      <td>13.7</td>\n",
       "      <td>3.0</td>\n",
       "      <td>1744.088333</td>\n",
       "      <td>PG</td>\n",
       "    </tr>\n",
       "  </tbody>\n",
       "</table>\n",
       "</div>"
      ],
      "text/plain": [
       "        shot_res  shot_in_paint  shot_mid_range  shot_lcorner_3  \\\n",
       "nba_id                                                            \n",
       "101106  0.666666       0.277778        0.055556        0.000000   \n",
       "101107  0.188940       0.173579        0.052227        0.132104   \n",
       "101108  0.100418       0.211994        0.199442        0.030683   \n",
       "101108  0.100418       0.211994        0.199442        0.030683   \n",
       "101109  0.134328       0.179104        0.238806        0.037313   \n",
       "\n",
       "        shot_rcorner_3  shot_above_3  fga  block_res  block_in_paint  \\\n",
       "nba_id                                                                 \n",
       "101106        0.000000      0.000000   36   0.000000        0.999990   \n",
       "101107        0.062980      0.390169  651   0.619047        0.238095   \n",
       "101108        0.051604      0.405858  717   0.533333        0.333333   \n",
       "101108        0.051604      0.405858  717   0.533333        0.333333   \n",
       "101109        0.044776      0.365672  134   0.333332        0.333332   \n",
       "\n",
       "        block_mid_range  block_lcorner_3  block_rcorner_3  block_above_3  \\\n",
       "nba_id                                                                     \n",
       "101106         0.000000              0.0         0.000000       0.000000   \n",
       "101107         0.000000              0.0         0.047619       0.095238   \n",
       "101108         0.066667              0.0         0.000000       0.066667   \n",
       "101108         0.066667              0.0         0.000000       0.066667   \n",
       "101109         0.333332              0.0         0.000000       0.000000   \n",
       "\n",
       "        blka  oreb  dreb   ast  stl          min espn_position  \n",
       "nba_id                                                          \n",
       "101106     1  10.1  26.9   7.2  2.0   350.758333             C  \n",
       "101107    21   3.5  14.5   4.4  2.9  4139.115000            PF  \n",
       "101108    15   1.9  13.1  24.1  5.4  3703.331667            PG  \n",
       "101108    15   1.9  13.1  24.1  5.4  3703.331667            PG  \n",
       "101109     3   1.4   8.4  13.7  3.0  1744.088333            PG  "
      ]
     },
     "execution_count": 3,
     "metadata": {},
     "output_type": "execute_result"
    }
   ],
   "source": [
    "engine = create_engine(\"sqlite:///db/nba.db\", echo=False)\n",
    "with engine.connect() as conn:\n",
    "    data = pd.read_sql('player_stats', conn, index_col='nba_id')\n",
    "    \n",
    "data.head()"
   ]
  },
  {
   "cell_type": "code",
   "execution_count": 4,
   "metadata": {},
   "outputs": [
    {
     "name": "stdout",
     "output_type": "stream",
     "text": [
      "X_train: (433, 19)\n",
      "y_train: (433,)\n",
      "X_test: (145, 19)\n",
      "y_test: (145,)\n"
     ]
    }
   ],
   "source": [
    "from sklearn.model_selection import train_test_split\n",
    "\n",
    "# Dropping players with less than 50 shots attempts\n",
    "data = data[data.fga >= 50]\n",
    "\n",
    "X = data.drop('espn_position', axis=1)\n",
    "y = data[['espn_position']]\n",
    "\n",
    "X_train, X_test, y_train, y_test = train_test_split(X, y)\n",
    "\n",
    "# Manually encode the labels to make it more meaningful for the confusion matrix later\n",
    "label_encoder_dict = dict([\n",
    "    (\"C\",0),\n",
    "    (\"PG\",1),\n",
    "    (\"SG\",2),\n",
    "    (\"SF\",3),\n",
    "    (\"PF\",4)\n",
    "])\n",
    "\n",
    "y_train = y_train.espn_position.map(label_encoder_dict).values\n",
    "y_test = y_test.espn_position.map(label_encoder_dict).values\n",
    "\n",
    "print('X_train:',X_train.shape)\n",
    "print('y_train:', y_train.shape)\n",
    "print('X_test:', X_test.shape)\n",
    "print('y_test:', y_test.shape)"
   ]
  },
  {
   "cell_type": "code",
   "execution_count": 5,
   "metadata": {
    "scrolled": false
   },
   "outputs": [
    {
     "data": {
      "text/html": [
       "<div>\n",
       "<style scoped>\n",
       "    .dataframe tbody tr th:only-of-type {\n",
       "        vertical-align: middle;\n",
       "    }\n",
       "\n",
       "    .dataframe tbody tr th {\n",
       "        vertical-align: top;\n",
       "    }\n",
       "\n",
       "    .dataframe thead th {\n",
       "        text-align: right;\n",
       "    }\n",
       "</style>\n",
       "<table border=\"1\" class=\"dataframe\">\n",
       "  <thead>\n",
       "    <tr style=\"text-align: right;\">\n",
       "      <th></th>\n",
       "      <th>shot_res</th>\n",
       "      <th>shot_in_paint</th>\n",
       "      <th>shot_mid_range</th>\n",
       "      <th>shot_lcorner_3</th>\n",
       "      <th>shot_rcorner_3</th>\n",
       "      <th>shot_above_3</th>\n",
       "      <th>fga</th>\n",
       "      <th>block_res</th>\n",
       "      <th>block_in_paint</th>\n",
       "      <th>block_mid_range</th>\n",
       "      <th>block_lcorner_3</th>\n",
       "      <th>block_rcorner_3</th>\n",
       "      <th>block_above_3</th>\n",
       "      <th>blka</th>\n",
       "      <th>oreb</th>\n",
       "      <th>dreb</th>\n",
       "      <th>ast</th>\n",
       "      <th>stl</th>\n",
       "      <th>min</th>\n",
       "    </tr>\n",
       "    <tr>\n",
       "      <th>nba_id</th>\n",
       "      <th></th>\n",
       "      <th></th>\n",
       "      <th></th>\n",
       "      <th></th>\n",
       "      <th></th>\n",
       "      <th></th>\n",
       "      <th></th>\n",
       "      <th></th>\n",
       "      <th></th>\n",
       "      <th></th>\n",
       "      <th></th>\n",
       "      <th></th>\n",
       "      <th></th>\n",
       "      <th></th>\n",
       "      <th></th>\n",
       "      <th></th>\n",
       "      <th></th>\n",
       "      <th></th>\n",
       "      <th></th>\n",
       "    </tr>\n",
       "  </thead>\n",
       "  <tbody>\n",
       "    <tr>\n",
       "      <th>202066</th>\n",
       "      <td>0.251521</td>\n",
       "      <td>0.085193</td>\n",
       "      <td>0.127789</td>\n",
       "      <td>0.123732</td>\n",
       "      <td>0.099391</td>\n",
       "      <td>0.312373</td>\n",
       "      <td>493</td>\n",
       "      <td>0.652174</td>\n",
       "      <td>0.173913</td>\n",
       "      <td>0.043478</td>\n",
       "      <td>0.043478</td>\n",
       "      <td>0.043478</td>\n",
       "      <td>0.043478</td>\n",
       "      <td>23</td>\n",
       "      <td>1.6</td>\n",
       "      <td>9.5</td>\n",
       "      <td>6.0</td>\n",
       "      <td>4.2</td>\n",
       "      <td>2550.921667</td>\n",
       "    </tr>\n",
       "    <tr>\n",
       "      <th>201566</th>\n",
       "      <td>0.375424</td>\n",
       "      <td>0.105227</td>\n",
       "      <td>0.241005</td>\n",
       "      <td>0.023761</td>\n",
       "      <td>0.010862</td>\n",
       "      <td>0.243720</td>\n",
       "      <td>1473</td>\n",
       "      <td>0.602941</td>\n",
       "      <td>0.323529</td>\n",
       "      <td>0.029412</td>\n",
       "      <td>0.014706</td>\n",
       "      <td>0.000000</td>\n",
       "      <td>0.029412</td>\n",
       "      <td>68</td>\n",
       "      <td>4.5</td>\n",
       "      <td>23.4</td>\n",
       "      <td>27.8</td>\n",
       "      <td>5.0</td>\n",
       "      <td>5543.090000</td>\n",
       "    </tr>\n",
       "    <tr>\n",
       "      <th>1628975</th>\n",
       "      <td>0.147541</td>\n",
       "      <td>0.098361</td>\n",
       "      <td>0.207650</td>\n",
       "      <td>0.071038</td>\n",
       "      <td>0.109290</td>\n",
       "      <td>0.366120</td>\n",
       "      <td>183</td>\n",
       "      <td>0.666666</td>\n",
       "      <td>0.166666</td>\n",
       "      <td>0.166666</td>\n",
       "      <td>0.000000</td>\n",
       "      <td>0.000000</td>\n",
       "      <td>0.000000</td>\n",
       "      <td>6</td>\n",
       "      <td>1.2</td>\n",
       "      <td>4.3</td>\n",
       "      <td>5.7</td>\n",
       "      <td>2.2</td>\n",
       "      <td>576.501667</td>\n",
       "    </tr>\n",
       "    <tr>\n",
       "      <th>1626144</th>\n",
       "      <td>0.345946</td>\n",
       "      <td>0.175676</td>\n",
       "      <td>0.197297</td>\n",
       "      <td>0.022973</td>\n",
       "      <td>0.025676</td>\n",
       "      <td>0.232432</td>\n",
       "      <td>740</td>\n",
       "      <td>0.714286</td>\n",
       "      <td>0.160714</td>\n",
       "      <td>0.035714</td>\n",
       "      <td>0.000000</td>\n",
       "      <td>0.000000</td>\n",
       "      <td>0.089286</td>\n",
       "      <td>56</td>\n",
       "      <td>2.0</td>\n",
       "      <td>9.8</td>\n",
       "      <td>14.7</td>\n",
       "      <td>2.9</td>\n",
       "      <td>2851.285000</td>\n",
       "    </tr>\n",
       "    <tr>\n",
       "      <th>101181</th>\n",
       "      <td>0.126050</td>\n",
       "      <td>0.042017</td>\n",
       "      <td>0.361345</td>\n",
       "      <td>0.033613</td>\n",
       "      <td>0.042017</td>\n",
       "      <td>0.394958</td>\n",
       "      <td>119</td>\n",
       "      <td>0.624999</td>\n",
       "      <td>0.125000</td>\n",
       "      <td>0.250000</td>\n",
       "      <td>0.000000</td>\n",
       "      <td>0.000000</td>\n",
       "      <td>0.000000</td>\n",
       "      <td>8</td>\n",
       "      <td>1.5</td>\n",
       "      <td>7.4</td>\n",
       "      <td>14.8</td>\n",
       "      <td>2.6</td>\n",
       "      <td>1546.288333</td>\n",
       "    </tr>\n",
       "  </tbody>\n",
       "</table>\n",
       "</div>"
      ],
      "text/plain": [
       "         shot_res  shot_in_paint  shot_mid_range  shot_lcorner_3  \\\n",
       "nba_id                                                             \n",
       "202066   0.251521       0.085193        0.127789        0.123732   \n",
       "201566   0.375424       0.105227        0.241005        0.023761   \n",
       "1628975  0.147541       0.098361        0.207650        0.071038   \n",
       "1626144  0.345946       0.175676        0.197297        0.022973   \n",
       "101181   0.126050       0.042017        0.361345        0.033613   \n",
       "\n",
       "         shot_rcorner_3  shot_above_3   fga  block_res  block_in_paint  \\\n",
       "nba_id                                                                   \n",
       "202066         0.099391      0.312373   493   0.652174        0.173913   \n",
       "201566         0.010862      0.243720  1473   0.602941        0.323529   \n",
       "1628975        0.109290      0.366120   183   0.666666        0.166666   \n",
       "1626144        0.025676      0.232432   740   0.714286        0.160714   \n",
       "101181         0.042017      0.394958   119   0.624999        0.125000   \n",
       "\n",
       "         block_mid_range  block_lcorner_3  block_rcorner_3  block_above_3  \\\n",
       "nba_id                                                                      \n",
       "202066          0.043478         0.043478         0.043478       0.043478   \n",
       "201566          0.029412         0.014706         0.000000       0.029412   \n",
       "1628975         0.166666         0.000000         0.000000       0.000000   \n",
       "1626144         0.035714         0.000000         0.000000       0.089286   \n",
       "101181          0.250000         0.000000         0.000000       0.000000   \n",
       "\n",
       "         blka  oreb  dreb   ast  stl          min  \n",
       "nba_id                                             \n",
       "202066     23   1.6   9.5   6.0  4.2  2550.921667  \n",
       "201566     68   4.5  23.4  27.8  5.0  5543.090000  \n",
       "1628975     6   1.2   4.3   5.7  2.2   576.501667  \n",
       "1626144    56   2.0   9.8  14.7  2.9  2851.285000  \n",
       "101181      8   1.5   7.4  14.8  2.6  1546.288333  "
      ]
     },
     "execution_count": 5,
     "metadata": {},
     "output_type": "execute_result"
    }
   ],
   "source": [
    "X_train.head()"
   ]
  },
  {
   "cell_type": "markdown",
   "metadata": {},
   "source": [
    "A big chunk of players do not have meaningful number of blocks. We will keep this feature for now and see if the models think they are important later"
   ]
  },
  {
   "cell_type": "code",
   "execution_count": 6,
   "metadata": {},
   "outputs": [
    {
     "data": {
      "text/plain": [
       "array([2, 1, 1, 1, 1, 0, 0, 2, 4, 0])"
      ]
     },
     "execution_count": 6,
     "metadata": {},
     "output_type": "execute_result"
    }
   ],
   "source": [
    "y_train[:10]"
   ]
  },
  {
   "cell_type": "markdown",
   "metadata": {},
   "source": [
    "### Baseline Predictor /w decision tree & PCA\n",
    "\n",
    "We are going to use a simple cross validated decision tree as the baseline predictor."
   ]
  },
  {
   "cell_type": "code",
   "execution_count": 16,
   "metadata": {},
   "outputs": [
    {
     "name": "stdout",
     "output_type": "stream",
     "text": [
      "Baseline accuracy score is 0.5241379310344828\n"
     ]
    },
    {
     "name": "stderr",
     "output_type": "stream",
     "text": [
      "/usr/local/lib/python3.7/site-packages/sklearn/model_selection/_search.py:814: DeprecationWarning: The default of the `iid` parameter will change from True to False in version 0.22 and will be removed in 0.24. This will change numeric results when test-set sizes are unequal.\n",
      "  DeprecationWarning)\n"
     ]
    }
   ],
   "source": [
    "from sklearn.tree import DecisionTreeClassifier\n",
    "\n",
    "from sklearn.pipeline import Pipeline\n",
    "from sklearn.preprocessing import StandardScaler\n",
    "from sklearn.model_selection import GridSearchCV, StratifiedKFold\n",
    "from sklearn.decomposition import PCA\n",
    "\n",
    "pipeline = Pipeline([('standarize', StandardScaler()),\n",
    "                     ('pca', PCA()),\n",
    "                     ('clf', DecisionTreeClassifier(class_weight='balanced'))])\n",
    "\n",
    "param_grid = {\"pca__n_components\":[5,10,15,18],\n",
    "              \"clf__max_depth\":[5,10,15]}\n",
    "\n",
    "cv = StratifiedKFold(5, shuffle=True)\n",
    "\n",
    "grid_search = GridSearchCV(pipeline, param_grid, verbose=0, scoring='accuracy', cv=cv, n_jobs=-1)\n",
    "\n",
    "grid_search.fit(X_train, y_train);\n",
    "\n",
    "baseline_score = grid_search.score(X_test, y_test)\n",
    "print(\"Baseline accuracy score is\", baseline_score)"
   ]
  },
  {
   "cell_type": "code",
   "execution_count": 12,
   "metadata": {
    "scrolled": false
   },
   "outputs": [
    {
     "data": {
      "text/plain": [
       "Pipeline(memory=None,\n",
       "         steps=[('standarize',\n",
       "                 StandardScaler(copy=True, with_mean=True, with_std=True)),\n",
       "                ('pca',\n",
       "                 PCA(copy=True, iterated_power='auto', n_components=5,\n",
       "                     random_state=None, svd_solver='auto', tol=0.0,\n",
       "                     whiten=False)),\n",
       "                ('clf',\n",
       "                 DecisionTreeClassifier(class_weight='balanced',\n",
       "                                        criterion='gini', max_depth=15,\n",
       "                                        max_features=None, max_leaf_nodes=None,\n",
       "                                        min_impurity_decrease=0.0,\n",
       "                                        min_impurity_split=None,\n",
       "                                        min_samples_leaf=1, min_samples_split=2,\n",
       "                                        min_weight_fraction_leaf=0.0,\n",
       "                                        presort=False, random_state=None,\n",
       "                                        splitter='best'))],\n",
       "         verbose=False)"
      ]
     },
     "execution_count": 12,
     "metadata": {},
     "output_type": "execute_result"
    }
   ],
   "source": [
    "grid_search.best_estimator_"
   ]
  },
  {
   "cell_type": "markdown",
   "metadata": {},
   "source": [
    "### Multinomial Logistic Regression\n",
    "\n",
    "Why choose it\n",
    "    - Predicts probability distribution over k classes, which gives us insight on how close the player is to each position/role\n",
    "    - Performs well when data is not well separated, which is going to be the case for us. The variance in NBA stat is often quite high"
   ]
  },
  {
   "cell_type": "markdown",
   "metadata": {},
   "source": [
    "#### Examine Multicollinearity \n",
    "\n",
    "Unless extreme, multicollinearity won't affect prediction. It will, however, affect our ability to assert causation and make the model much less interpretable. Since we are only interested in prediction, it's therefore not a big concern but we'll have a look at the VIF just to see what we are dealing with."
   ]
  },
  {
   "cell_type": "code",
   "execution_count": 67,
   "metadata": {
    "ExecuteTime": {
     "end_time": "2019-05-31T20:22:36.595239Z",
     "start_time": "2019-05-31T20:22:36.553317Z"
    }
   },
   "outputs": [
    {
     "data": {
      "text/html": [
       "<div>\n",
       "<style scoped>\n",
       "    .dataframe tbody tr th:only-of-type {\n",
       "        vertical-align: middle;\n",
       "    }\n",
       "\n",
       "    .dataframe tbody tr th {\n",
       "        vertical-align: top;\n",
       "    }\n",
       "\n",
       "    .dataframe thead th {\n",
       "        text-align: right;\n",
       "    }\n",
       "</style>\n",
       "<table border=\"1\" class=\"dataframe\">\n",
       "  <thead>\n",
       "    <tr style=\"text-align: right;\">\n",
       "      <th></th>\n",
       "      <th>Feature</th>\n",
       "      <th>VIF</th>\n",
       "    </tr>\n",
       "  </thead>\n",
       "  <tbody>\n",
       "    <tr>\n",
       "      <th>7</th>\n",
       "      <td>block_res</td>\n",
       "      <td>1.970510e+12</td>\n",
       "    </tr>\n",
       "    <tr>\n",
       "      <th>0</th>\n",
       "      <td>shot_res</td>\n",
       "      <td>7.699119e+11</td>\n",
       "    </tr>\n",
       "    <tr>\n",
       "      <th>8</th>\n",
       "      <td>block_in_paint</td>\n",
       "      <td>5.463876e+11</td>\n",
       "    </tr>\n",
       "    <tr>\n",
       "      <th>5</th>\n",
       "      <td>shot_above_3</td>\n",
       "      <td>5.140509e+11</td>\n",
       "    </tr>\n",
       "    <tr>\n",
       "      <th>1</th>\n",
       "      <td>shot_in_paint</td>\n",
       "      <td>1.617179e+11</td>\n",
       "    </tr>\n",
       "    <tr>\n",
       "      <th>2</th>\n",
       "      <td>shot_mid_range</td>\n",
       "      <td>1.441913e+11</td>\n",
       "    </tr>\n",
       "    <tr>\n",
       "      <th>9</th>\n",
       "      <td>block_mid_range</td>\n",
       "      <td>4.704014e+10</td>\n",
       "    </tr>\n",
       "    <tr>\n",
       "      <th>12</th>\n",
       "      <td>block_above_3</td>\n",
       "      <td>2.936265e+10</td>\n",
       "    </tr>\n",
       "    <tr>\n",
       "      <th>4</th>\n",
       "      <td>shot_rcorner_3</td>\n",
       "      <td>2.033008e+10</td>\n",
       "    </tr>\n",
       "    <tr>\n",
       "      <th>3</th>\n",
       "      <td>shot_lcorner_3</td>\n",
       "      <td>1.951794e+10</td>\n",
       "    </tr>\n",
       "    <tr>\n",
       "      <th>11</th>\n",
       "      <td>block_rcorner_3</td>\n",
       "      <td>6.256698e+09</td>\n",
       "    </tr>\n",
       "    <tr>\n",
       "      <th>10</th>\n",
       "      <td>block_lcorner_3</td>\n",
       "      <td>4.719525e+09</td>\n",
       "    </tr>\n",
       "    <tr>\n",
       "      <th>6</th>\n",
       "      <td>fga</td>\n",
       "      <td>2.510164e+01</td>\n",
       "    </tr>\n",
       "    <tr>\n",
       "      <th>15</th>\n",
       "      <td>dreb</td>\n",
       "      <td>1.582298e+01</td>\n",
       "    </tr>\n",
       "    <tr>\n",
       "      <th>18</th>\n",
       "      <td>min</td>\n",
       "      <td>1.558352e+01</td>\n",
       "    </tr>\n",
       "    <tr>\n",
       "      <th>13</th>\n",
       "      <td>blka</td>\n",
       "      <td>1.438524e+01</td>\n",
       "    </tr>\n",
       "    <tr>\n",
       "      <th>14</th>\n",
       "      <td>oreb</td>\n",
       "      <td>1.274741e+01</td>\n",
       "    </tr>\n",
       "    <tr>\n",
       "      <th>17</th>\n",
       "      <td>stl</td>\n",
       "      <td>9.850190e+00</td>\n",
       "    </tr>\n",
       "    <tr>\n",
       "      <th>16</th>\n",
       "      <td>ast</td>\n",
       "      <td>6.984768e+00</td>\n",
       "    </tr>\n",
       "  </tbody>\n",
       "</table>\n",
       "</div>"
      ],
      "text/plain": [
       "            Feature           VIF\n",
       "7         block_res  1.970510e+12\n",
       "0          shot_res  7.699119e+11\n",
       "8    block_in_paint  5.463876e+11\n",
       "5      shot_above_3  5.140509e+11\n",
       "1     shot_in_paint  1.617179e+11\n",
       "2    shot_mid_range  1.441913e+11\n",
       "9   block_mid_range  4.704014e+10\n",
       "12    block_above_3  2.936265e+10\n",
       "4    shot_rcorner_3  2.033008e+10\n",
       "3    shot_lcorner_3  1.951794e+10\n",
       "11  block_rcorner_3  6.256698e+09\n",
       "10  block_lcorner_3  4.719525e+09\n",
       "6               fga  2.510164e+01\n",
       "15             dreb  1.582298e+01\n",
       "18              min  1.558352e+01\n",
       "13             blka  1.438524e+01\n",
       "14             oreb  1.274741e+01\n",
       "17              stl  9.850190e+00\n",
       "16              ast  6.984768e+00"
      ]
     },
     "metadata": {},
     "output_type": "display_data"
    }
   ],
   "source": [
    "# Calculating VIF\n",
    "from statsmodels.stats.outliers_influence import variance_inflation_factor\n",
    "\n",
    "vif_data = []\n",
    "for idx, col in enumerate(X.columns):\n",
    "    VIF_i = variance_inflation_factor(X.dropna().values, idx)\n",
    "    vif_data.append([col, VIF_i])\n",
    "\n",
    "display(pd.DataFrame(vif_data, columns=['Feature', \"VIF\"]).sort_values(\"VIF\", ascending=False))"
   ]
  },
  {
   "cell_type": "markdown",
   "metadata": {},
   "source": [
    "Anything with VIF over 10 exhibits strong multicolinearity with other features, here we are dealing with many feature that has strong correlation with others.\n",
    "\n",
    "Quickest way to solve this is in this dataset is probably with a combination of standarization, PCA and L1 regularization. "
   ]
  },
  {
   "cell_type": "code",
   "execution_count": 93,
   "metadata": {
    "ExecuteTime": {
     "end_time": "2019-05-31T20:56:08.653833Z",
     "start_time": "2019-05-31T20:56:08.650798Z"
    },
    "scrolled": true
   },
   "outputs": [
    {
     "data": {
      "text/plain": [
       "0.6701030927835051"
      ]
     },
     "execution_count": 93,
     "metadata": {},
     "output_type": "execute_result"
    }
   ],
   "source": [
    "from sklearn.linear_model import LogisticRegression\n",
    "\n",
    "pipeline = Pipeline([('standarize', StandardScaler()),\n",
    "                     ('pca', PCA()),\n",
    "                     ('clf', LogisticRegression(class_weight='balanced', \n",
    "                                                max_iter=10000,\n",
    "                                                multi_class='multinomial',\n",
    "                                                solver='saga'))])\n",
    "\n",
    "param_grid = {\"clf__penalty\":['l1','l2','none'],\n",
    "              \"clf__C\":[.5,.75,1,1.25],\n",
    "              \"pca__n_components\":[5,10,15,18]\n",
    "             }\n",
    "\n",
    "cv = StratifiedKFold(5, shuffle=True)\n",
    "\n",
    "grid_search = GridSearchCV(pipeline, param_grid, verbose=0, scoring='accuracy', cv=cv, n_jobs=-1)\n",
    "\n",
    "grid_search.fit(X_train, y_train);\n",
    "\n",
    "grid_search.score(X_test, y_test)"
   ]
  },
  {
   "cell_type": "code",
   "execution_count": 94,
   "metadata": {},
   "outputs": [
    {
     "data": {
      "text/plain": [
       "Pipeline(memory=None,\n",
       "         steps=[('standarize',\n",
       "                 StandardScaler(copy=True, with_mean=True, with_std=True)),\n",
       "                ('pca',\n",
       "                 PCA(copy=True, iterated_power='auto', n_components=15,\n",
       "                     random_state=None, svd_solver='auto', tol=0.0,\n",
       "                     whiten=False)),\n",
       "                ('clf',\n",
       "                 LogisticRegression(C=0.5, class_weight='balanced', dual=False,\n",
       "                                    fit_intercept=True, intercept_scaling=1,\n",
       "                                    l1_ratio=None, max_iter=10000,\n",
       "                                    multi_class='multinomial', n_jobs=None,\n",
       "                                    penalty='l1', random_state=None,\n",
       "                                    solver='saga', tol=0.0001, verbose=0,\n",
       "                                    warm_start=False))],\n",
       "         verbose=False)"
      ]
     },
     "execution_count": 94,
     "metadata": {},
     "output_type": "execute_result"
    }
   ],
   "source": [
    "grid_search.best_estimator_"
   ]
  },
  {
   "cell_type": "code",
   "execution_count": 70,
   "metadata": {},
   "outputs": [],
   "source": [
    "# Confusion Matrix\n",
    "from sklearn.metrics import confusion_matrix\n",
    "\n",
    "warnings.filterwarnings('ignore')\n",
    "\n",
    "cm = confusion_matrix(y_test, grid_search.predict(X_test))"
   ]
  },
  {
   "cell_type": "code",
   "execution_count": 71,
   "metadata": {
    "scrolled": false
   },
   "outputs": [
    {
     "data": {
      "text/plain": [
       "Text(60,0.5,'Ground Truth Label')"
      ]
     },
     "execution_count": 71,
     "metadata": {},
     "output_type": "execute_result"
    },
    {
     "data": {
      "image/png": "[encoded data removed]",
      "text/plain": [
       "<Figure size 648x432 with 2 Axes>"
      ]
     },
     "metadata": {},
     "output_type": "display_data"
    }
   ],
   "source": [
    "# Draw a heatmap with the numeric values in each cell\n",
    "f, ax = plt.subplots(figsize=(9, 5))\n",
    "heat_map = sns.heatmap(cm, \n",
    "                       annot=True, \n",
    "                       fmt=\"d\", \n",
    "                       linewidths=1, \n",
    "                       ax=ax, \n",
    "                       cmap='GnBu',\n",
    "                       xticklabels=label_encoder_dict.keys(), \n",
    "                       yticklabels=label_encoder_dict.keys())\n",
    "\n",
    "heat_map.set_xlabel(\"Predicted Label\")\n",
    "heat_map.set_ylabel(\"Ground Truth Label\")"
   ]
  },
  {
   "cell_type": "markdown",
   "metadata": {},
   "source": [
    "This result is interesting because it shows that based on where a player shoots the ball, and his general stats, we can generally tell which type of player he is. \n",
    "\n",
    "Not surprisingly, the difference between a Point Guard and a Shooting Guard is subtle, as misclassification rates are somewhat high between the two groups.\n",
    "\n",
    "The Power Forward position is also an interesting one, as it often gets misclassified with Center. This makes sense because they have more similar play styles, which is to always play near the restricted zone.\n",
    "\n",
    "https://sports.stackexchange.com/questions/2172/what-are-the-differences-between-the-power-forward-and-center-positions"
   ]
  },
  {
   "cell_type": "markdown",
   "metadata": {},
   "source": [
    "## Tree Based Methods"
   ]
  },
  {
   "cell_type": "markdown",
   "metadata": {},
   "source": [
    "### Random Forest\n",
    "\n",
    "Why Choose It\n",
    "    - One of the best out of the box classifiers. It is non-parametric(don't assume underlying data distribution), which makes it robust to many kinds of data and does not require feature preprocessing. \n",
    "    - Pretty quick to train compared to XGBoost, which has many more parameters to tune."
   ]
  },
  {
   "cell_type": "code",
   "execution_count": 73,
   "metadata": {},
   "outputs": [],
   "source": [
    "from sklearn.ensemble import RandomForestClassifier\n",
    "\n",
    "rf_pipeline = Pipeline([('clf', RandomForestClassifier(n_jobs=-1, class_weight='balanced'))])\n",
    "\n",
    "rf_parameter_grid = {'clf__n_estimators':[100, 500],\n",
    "                    'clf__max_depth':[8, 12, 16, 18],\n",
    "                    'clf__min_samples_split':[2, 8, 12, 18]\n",
    "                    }\n",
    "\n",
    "rf_gridsearch = GridSearchCV(rf_pipeline, rf_parameter_grid, cv=cv)"
   ]
  },
  {
   "cell_type": "code",
   "execution_count": 83,
   "metadata": {},
   "outputs": [],
   "source": [
    "rf_gridsearch.fit(X_train, y_train);"
   ]
  },
  {
   "cell_type": "code",
   "execution_count": 87,
   "metadata": {},
   "outputs": [
    {
     "data": {
      "text/plain": [
       "0.6288659793814433"
      ]
     },
     "execution_count": 87,
     "metadata": {},
     "output_type": "execute_result"
    }
   ],
   "source": [
    "rf_gridsearch.score(X_test, y_test)"
   ]
  },
  {
   "cell_type": "code",
   "execution_count": 88,
   "metadata": {},
   "outputs": [
    {
     "data": {
      "text/plain": [
       "Pipeline(memory=None,\n",
       "         steps=[('clf',\n",
       "                 RandomForestClassifier(bootstrap=True, class_weight='balanced',\n",
       "                                        criterion='gini', max_depth=8,\n",
       "                                        max_features='auto',\n",
       "                                        max_leaf_nodes=None,\n",
       "                                        min_impurity_decrease=0.0,\n",
       "                                        min_impurity_split=None,\n",
       "                                        min_samples_leaf=1, min_samples_split=8,\n",
       "                                        min_weight_fraction_leaf=0.0,\n",
       "                                        n_estimators=500, n_jobs=-1,\n",
       "                                        oob_score=False, random_state=None,\n",
       "                                        verbose=0, warm_start=False))],\n",
       "         verbose=False)"
      ]
     },
     "execution_count": 88,
     "metadata": {},
     "output_type": "execute_result"
    }
   ],
   "source": [
    "rf_gridsearch.best_estimator_"
   ]
  },
  {
   "cell_type": "code",
   "execution_count": 99,
   "metadata": {},
   "outputs": [
    {
     "data": {
      "text/plain": [
       "Text(60,0.5,'Ground Truth Label')"
      ]
     },
     "execution_count": 99,
     "metadata": {},
     "output_type": "execute_result"
    },
    {
     "data": {
      "image/png": "[encoded data removed]",
      "text/plain": [
       "<Figure size 648x432 with 2 Axes>"
      ]
     },
     "metadata": {},
     "output_type": "display_data"
    }
   ],
   "source": [
    "# Draw a heatmap with the numeric values in each cell\n",
    "cm = confusion_matrix(y_test, rf_gridsearch.predict(X_test))\n",
    "f, ax = plt.subplots(figsize=(9, 6))\n",
    "heat_map = sns.heatmap(cm, \n",
    "                       annot=True, \n",
    "                       fmt=\"d\", \n",
    "                       linewidths=1, \n",
    "                       ax=ax, \n",
    "                       cmap='GnBu',\n",
    "                       xticklabels=label_encoder_dict.keys(), \n",
    "                       yticklabels=label_encoder_dict.keys())\n",
    "\n",
    "heat_map.set_xlabel(\"Predicted Label\")\n",
    "heat_map.set_ylabel(\"Ground Truth Label\")"
   ]
  },
  {
   "cell_type": "markdown",
   "metadata": {},
   "source": [
    "In this case, RF did not perform better than our Multinomial Logistic Regression Classifier. It made similar mistakes compared to the logistic regression model (confusing same types of players), and greater in quantity."
   ]
  },
  {
   "cell_type": "markdown",
   "metadata": {},
   "source": [
    "### Boosted Trees\n",
    "\n",
    "#### XGBoost"
   ]
  },
  {
   "cell_type": "code",
   "execution_count": 95,
   "metadata": {},
   "outputs": [],
   "source": [
    "from xgboost import XGBClassifier\n",
    "from sklearn.model_selection import KFold\n",
    "\n",
    "xgb_pipeline = Pipeline([('xgb_clf', XGBClassifier(n_jobs=1, learning_rate=0.1, verbose=10))])\n",
    "\n",
    "xgb_param_grid1 = {\n",
    "    'xgb_clf__n_estimators':[75],\n",
    "    'xgb_clf__gamma':[0, 0.5, 1],\n",
    "    'xgb_clf__max_depth':[3, 6, 9],\n",
    "    'xgb_clf__reg_alpha':[0, 0.5, 1], \n",
    "    'xgb_clf__reg_lambda':[0, 0.5, 1], \n",
    "}\n",
    "\n",
    "cv = StratifiedKFold(5, shuffle=False)\n",
    "\n",
    "xgb_grid_cv = GridSearchCV(xgb_pipeline, xgb_param_grid1, cv=cv, verbose=0, n_jobs=-1, refit=True)"
   ]
  },
  {
   "cell_type": "code",
   "execution_count": 98,
   "metadata": {},
   "outputs": [],
   "source": [
    "xgb_grid_cv.fit(X_train, y_train);"
   ]
  },
  {
   "cell_type": "code",
   "execution_count": 97,
   "metadata": {},
   "outputs": [
    {
     "data": {
      "text/plain": [
       "0.5979381443298969"
      ]
     },
     "execution_count": 97,
     "metadata": {},
     "output_type": "execute_result"
    }
   ],
   "source": [
    "xgb_grid_cv.score(X_test, y_test)"
   ]
  },
  {
   "cell_type": "code",
   "execution_count": 80,
   "metadata": {
    "scrolled": false
   },
   "outputs": [
    {
     "data": {
      "text/plain": [
       "Pipeline(memory=None,\n",
       "         steps=[('xgb_clf',\n",
       "                 XGBClassifier(base_score=0.5, booster='gbtree',\n",
       "                               colsample_bylevel=1, colsample_bytree=1, gamma=0,\n",
       "                               learning_rate=0.1, max_delta_step=0, max_depth=9,\n",
       "                               min_child_weight=1, missing=None,\n",
       "                               n_estimators=75, n_jobs=1, nthread=None,\n",
       "                               objective='multi:softprob', random_state=0,\n",
       "                               reg_alpha=0, reg_lambda=0, scale_pos_weight=1,\n",
       "                               seed=None, silent=True, subsample=1,\n",
       "                               verbose=10))],\n",
       "         verbose=False)"
      ]
     },
     "execution_count": 80,
     "metadata": {},
     "output_type": "execute_result"
    }
   ],
   "source": [
    "xgb_grid_cv.best_estimator_"
   ]
  }
 ],
 "metadata": {
  "kernelspec": {
   "display_name": "Python 3",
   "language": "python",
   "name": "python3"
  },
  "language_info": {
   "codemirror_mode": {
    "name": "ipython",
    "version": 3
   },
   "file_extension": ".py",
   "mimetype": "text/x-python",
   "name": "python",
   "nbconvert_exporter": "python",
   "pygments_lexer": "ipython3",
   "version": "3.7.3"
  },
  "varInspector": {
   "cols": {
    "lenName": 16,
    "lenType": 16,
    "lenVar": 40
   },
   "kernels_config": {
    "python": {
     "delete_cmd_postfix": "",
     "delete_cmd_prefix": "del ",
     "library": "var_list.py",
     "varRefreshCmd": "print(var_dic_list())"
    },
    "r": {
     "delete_cmd_postfix": ") ",
     "delete_cmd_prefix": "rm(",
     "library": "var_list.r",
     "varRefreshCmd": "cat(var_dic_list()) "
    }
   },
   "types_to_exclude": [
    "module",
    "function",
    "builtin_function_or_method",
    "instance",
    "_Feature"
   ],
   "window_display": false
  }
 },
 "nbformat": 4,
 "nbformat_minor": 2
}
