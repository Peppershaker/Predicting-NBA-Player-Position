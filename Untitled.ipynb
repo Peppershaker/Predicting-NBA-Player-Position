{
 "cells": [
  {
   "cell_type": "code",
   "execution_count": 10,
   "metadata": {
    "ExecuteTime": {
     "end_time": "2019-05-31T17:37:51.628541Z",
     "start_time": "2019-05-31T17:37:51.625083Z"
    }
   },
   "outputs": [],
   "source": [
    "import sys\n",
    "sys.path.append('/Users/victor/Documents/code/nba_api')\n",
    "\n",
    "from nba_py import player\n",
    "import pandas as pd"
   ]
  },
  {
   "cell_type": "markdown",
   "metadata": {},
   "source": [
    "## Getting Shots and Block Data"
   ]
  },
  {
   "cell_type": "code",
   "execution_count": 19,
   "metadata": {
    "ExecuteTime": {
     "end_time": "2019-05-31T19:59:02.396279Z",
     "start_time": "2019-05-31T19:59:00.956730Z"
    }
   },
   "outputs": [],
   "source": [
    "player_id = 1629116\n",
    "\n",
    "# The PlayerShootingSplits NBA end point is the one we will be using\n",
    "# It returns shooting and blocking stats grouped by location on court\n",
    "player.PlayerShootingSplits(player_id).shot_areas()\n",
    "\n",
    "# Sometimes a new player will not have stats. \n",
    "class NoDataError(Exception):\n",
    "    pass"
   ]
  },
  {
   "cell_type": "code",
   "execution_count": 20,
   "metadata": {
    "ExecuteTime": {
     "end_time": "2019-05-31T19:59:03.169115Z",
     "start_time": "2019-05-31T19:59:02.987652Z"
    }
   },
   "outputs": [],
   "source": [
    "# Extracting shooting and blocking columns\n",
    "player_shot_block_raw = player.PlayerShootingSplits(player_id).shot_areas()\n",
    "if player_shot_block_raw.shape[0] == 0:\n",
    "    raise NoDataError(\"No data for {}\".format(player_id))\n",
    "\n",
    "player_shot_and_block_by_area = player_shot_block_raw.T\n",
    "player_shot_and_block_by_area.columns = player_shot_and_block_by_area.loc['GROUP_VALUE']\n",
    "player_shot_and_block_by_area = player_shot_and_block_by_area.loc[['FGA','BLKA'], \"Restricted Area\":\"Above the Break 3\"]"
   ]
  },
  {
   "cell_type": "code",
   "execution_count": 21,
   "metadata": {
    "ExecuteTime": {
     "end_time": "2019-05-31T19:59:03.789835Z",
     "start_time": "2019-05-31T19:59:03.776009Z"
    }
   },
   "outputs": [
    {
     "data": {
      "text/html": [
       "<div>\n",
       "<style scoped>\n",
       "    .dataframe tbody tr th:only-of-type {\n",
       "        vertical-align: middle;\n",
       "    }\n",
       "\n",
       "    .dataframe tbody tr th {\n",
       "        vertical-align: top;\n",
       "    }\n",
       "\n",
       "    .dataframe thead th {\n",
       "        text-align: right;\n",
       "    }\n",
       "</style>\n",
       "<table border=\"1\" class=\"dataframe\">\n",
       "  <thead>\n",
       "    <tr style=\"text-align: right;\">\n",
       "      <th>GROUP_VALUE</th>\n",
       "      <th>Restricted Area</th>\n",
       "      <th>In The Paint (Non-RA)</th>\n",
       "      <th>Mid-Range</th>\n",
       "      <th>Left Corner 3</th>\n",
       "      <th>Above the Break 3</th>\n",
       "    </tr>\n",
       "  </thead>\n",
       "  <tbody>\n",
       "    <tr>\n",
       "      <th>FGA</th>\n",
       "      <td>4</td>\n",
       "      <td>1</td>\n",
       "      <td>0</td>\n",
       "      <td>0</td>\n",
       "      <td>0</td>\n",
       "    </tr>\n",
       "    <tr>\n",
       "      <th>BLKA</th>\n",
       "      <td>1</td>\n",
       "      <td>1</td>\n",
       "      <td>0</td>\n",
       "      <td>0</td>\n",
       "      <td>0</td>\n",
       "    </tr>\n",
       "  </tbody>\n",
       "</table>\n",
       "</div>"
      ],
      "text/plain": [
       "GROUP_VALUE Restricted Area In The Paint (Non-RA) Mid-Range Left Corner 3  \\\n",
       "FGA                       4                     1         0             0   \n",
       "BLKA                      1                     1         0             0   \n",
       "\n",
       "GROUP_VALUE Above the Break 3  \n",
       "FGA                         0  \n",
       "BLKA                        0  "
      ]
     },
     "execution_count": 21,
     "metadata": {},
     "output_type": "execute_result"
    }
   ],
   "source": [
    "player_shot_and_block_by_area"
   ]
  },
  {
   "cell_type": "code",
   "execution_count": 22,
   "metadata": {
    "ExecuteTime": {
     "end_time": "2019-05-31T19:59:04.394800Z",
     "start_time": "2019-05-31T19:59:04.389449Z"
    }
   },
   "outputs": [],
   "source": [
    "player_shot_by_area = player_shot_and_block_by_area.loc[[\"FGA\"],:]\n",
    "player_block_by_area = player_shot_and_block_by_area.loc[[\"BLKA\"],:]"
   ]
  },
  {
   "cell_type": "code",
   "execution_count": 23,
   "metadata": {
    "ExecuteTime": {
     "end_time": "2019-05-31T19:59:04.965004Z",
     "start_time": "2019-05-31T19:59:04.956671Z"
    },
    "scrolled": true
   },
   "outputs": [],
   "source": [
    "# Use a dict to map old col name to new col name, using dict is required\n",
    "# because the API sometimes returns inconsistent column order and number of cols\n",
    "shot_col_map = {\"Restricted Area\":'shot_res',\n",
    "               \"In The Paint (Non-RA)\":'shot_in_paint',\n",
    "               \"Mid-Range\":'shot_mid_range',\n",
    "               'Left Corner 3':'shot_lcorner_3',\n",
    "               'Right Corner 3':'shot_rcorner_3',\n",
    "               'Above the Break 3':'shot_above_3'}\n",
    "\n",
    "block_col_map = {\"Restricted Area\":'block_res',\n",
    "               \"In The Paint (Non-RA)\":'block_in_paint',\n",
    "               \"Mid-Range\":'block_mid_range',\n",
    "               'Left Corner 3':'block_lcorner_3',\n",
    "               'Right Corner 3':'block_rcorner_3',\n",
    "               'Above the Break 3':'block_above_3'}\n",
    "\n",
    "# Applying the column name map\n",
    "player_shot_by_area = player_shot_by_area.rename(columns=shot_col_map)\n",
    "player_block_by_area = player_block_by_area.rename(columns=block_col_map)\n",
    "\n",
    "# Total attempted shots and blocks\n",
    "total_shots = player_shot_by_area.loc['FGA',:].sum()\n",
    "total_blocks = player_block_by_area.loc['BLKA',:].sum()\n",
    "\n",
    "# Normalize all stats by total shots to get relative frequencies for each player\n",
    "player_shot_by_area /= total_shots + 1e-5\n",
    "player_block_by_area /= total_blocks + 1e-5"
   ]
  },
  {
   "cell_type": "code",
   "execution_count": 24,
   "metadata": {
    "ExecuteTime": {
     "end_time": "2019-05-31T19:59:05.549931Z",
     "start_time": "2019-05-31T19:59:05.545689Z"
    }
   },
   "outputs": [],
   "source": [
    "# Record total attempted shots and blocks\n",
    "player_shot_by_area['fga'] = total_shots\n",
    "player_block_by_area['blka'] = total_blocks"
   ]
  },
  {
   "cell_type": "code",
   "execution_count": 25,
   "metadata": {
    "ExecuteTime": {
     "end_time": "2019-05-31T19:59:06.205237Z",
     "start_time": "2019-05-31T19:59:06.193487Z"
    }
   },
   "outputs": [
    {
     "data": {
      "text/html": [
       "<div>\n",
       "<style scoped>\n",
       "    .dataframe tbody tr th:only-of-type {\n",
       "        vertical-align: middle;\n",
       "    }\n",
       "\n",
       "    .dataframe tbody tr th {\n",
       "        vertical-align: top;\n",
       "    }\n",
       "\n",
       "    .dataframe thead th {\n",
       "        text-align: right;\n",
       "    }\n",
       "</style>\n",
       "<table border=\"1\" class=\"dataframe\">\n",
       "  <thead>\n",
       "    <tr style=\"text-align: right;\">\n",
       "      <th>GROUP_VALUE</th>\n",
       "      <th>shot_res</th>\n",
       "      <th>shot_in_paint</th>\n",
       "      <th>shot_mid_range</th>\n",
       "      <th>shot_lcorner_3</th>\n",
       "      <th>shot_above_3</th>\n",
       "      <th>fga</th>\n",
       "    </tr>\n",
       "  </thead>\n",
       "  <tbody>\n",
       "    <tr>\n",
       "      <th>FGA</th>\n",
       "      <td>0.799998</td>\n",
       "      <td>0.2</td>\n",
       "      <td>0</td>\n",
       "      <td>0</td>\n",
       "      <td>0</td>\n",
       "      <td>5</td>\n",
       "    </tr>\n",
       "  </tbody>\n",
       "</table>\n",
       "</div>"
      ],
      "text/plain": [
       "GROUP_VALUE  shot_res shot_in_paint shot_mid_range shot_lcorner_3  \\\n",
       "FGA          0.799998           0.2              0              0   \n",
       "\n",
       "GROUP_VALUE shot_above_3  fga  \n",
       "FGA                    0    5  "
      ]
     },
     "execution_count": 25,
     "metadata": {},
     "output_type": "execute_result"
    }
   ],
   "source": [
    "player_shot_by_area"
   ]
  },
  {
   "cell_type": "code",
   "execution_count": 26,
   "metadata": {
    "ExecuteTime": {
     "end_time": "2019-05-31T19:59:06.823784Z",
     "start_time": "2019-05-31T19:59:06.811389Z"
    },
    "scrolled": true
   },
   "outputs": [
    {
     "data": {
      "text/html": [
       "<div>\n",
       "<style scoped>\n",
       "    .dataframe tbody tr th:only-of-type {\n",
       "        vertical-align: middle;\n",
       "    }\n",
       "\n",
       "    .dataframe tbody tr th {\n",
       "        vertical-align: top;\n",
       "    }\n",
       "\n",
       "    .dataframe thead th {\n",
       "        text-align: right;\n",
       "    }\n",
       "</style>\n",
       "<table border=\"1\" class=\"dataframe\">\n",
       "  <thead>\n",
       "    <tr style=\"text-align: right;\">\n",
       "      <th>GROUP_VALUE</th>\n",
       "      <th>block_res</th>\n",
       "      <th>block_in_paint</th>\n",
       "      <th>block_mid_range</th>\n",
       "      <th>block_lcorner_3</th>\n",
       "      <th>block_above_3</th>\n",
       "      <th>blka</th>\n",
       "    </tr>\n",
       "  </thead>\n",
       "  <tbody>\n",
       "    <tr>\n",
       "      <th>BLKA</th>\n",
       "      <td>0.499998</td>\n",
       "      <td>0.499998</td>\n",
       "      <td>0</td>\n",
       "      <td>0</td>\n",
       "      <td>0</td>\n",
       "      <td>2</td>\n",
       "    </tr>\n",
       "  </tbody>\n",
       "</table>\n",
       "</div>"
      ],
      "text/plain": [
       "GROUP_VALUE block_res block_in_paint block_mid_range block_lcorner_3  \\\n",
       "BLKA         0.499998       0.499998               0               0   \n",
       "\n",
       "GROUP_VALUE block_above_3  blka  \n",
       "BLKA                    0     2  "
      ]
     },
     "execution_count": 26,
     "metadata": {},
     "output_type": "execute_result"
    }
   ],
   "source": [
    "player_block_by_area"
   ]
  },
  {
   "cell_type": "markdown",
   "metadata": {},
   "source": [
    "## Getting Rebound, Assist and Steal Data\n",
    "This one is a bit more tricky to normalize, because the stats has 2 components.\n",
    "\n",
    "1) Player specific component: where a better player is going to get a higher stat regardless of the position they play\n",
    "\n",
    "2) Position specific compoment: where the position a player plays has systemic influence on his rebound and assist stats. For example, a center will always have more rebounds than anyone else on the team. Similarily, a point guard who's job is to manage the offense, will often have the most assist in a match.\n",
    "\n",
    "We will record the stats as-is, and preprocess them in a pipeline during training time."
   ]
  },
  {
   "cell_type": "code",
   "execution_count": 27,
   "metadata": {
    "ExecuteTime": {
     "end_time": "2019-05-31T19:59:37.867054Z",
     "start_time": "2019-05-31T19:59:36.690798Z"
    }
   },
   "outputs": [
    {
     "data": {
      "text/html": [
       "<div>\n",
       "<style scoped>\n",
       "    .dataframe tbody tr th:only-of-type {\n",
       "        vertical-align: middle;\n",
       "    }\n",
       "\n",
       "    .dataframe tbody tr th {\n",
       "        vertical-align: top;\n",
       "    }\n",
       "\n",
       "    .dataframe thead th {\n",
       "        text-align: right;\n",
       "    }\n",
       "</style>\n",
       "<table border=\"1\" class=\"dataframe\">\n",
       "  <thead>\n",
       "    <tr style=\"text-align: right;\">\n",
       "      <th></th>\n",
       "      <th>GROUP_SET</th>\n",
       "      <th>GROUP_VALUE</th>\n",
       "      <th>TEAM_ID</th>\n",
       "      <th>TEAM_ABBREVIATION</th>\n",
       "      <th>MAX_GAME_DATE</th>\n",
       "      <th>GP</th>\n",
       "      <th>W</th>\n",
       "      <th>L</th>\n",
       "      <th>W_PCT</th>\n",
       "      <th>MIN</th>\n",
       "      <th>...</th>\n",
       "      <th>BLKA_RANK</th>\n",
       "      <th>PF_RANK</th>\n",
       "      <th>PFD_RANK</th>\n",
       "      <th>PTS_RANK</th>\n",
       "      <th>PLUS_MINUS_RANK</th>\n",
       "      <th>NBA_FANTASY_PTS_RANK</th>\n",
       "      <th>DD2_RANK</th>\n",
       "      <th>TD3_RANK</th>\n",
       "      <th>CFID</th>\n",
       "      <th>CFPARAMS</th>\n",
       "    </tr>\n",
       "  </thead>\n",
       "  <tbody>\n",
       "    <tr>\n",
       "      <th>0</th>\n",
       "      <td>By Year</td>\n",
       "      <td>2018-19</td>\n",
       "      <td>1610612746</td>\n",
       "      <td>LAC</td>\n",
       "      <td>2019-03-28T00:00:00</td>\n",
       "      <td>2</td>\n",
       "      <td>0</td>\n",
       "      <td>2</td>\n",
       "      <td>0.0</td>\n",
       "      <td>14.766667</td>\n",
       "      <td>...</td>\n",
       "      <td>1</td>\n",
       "      <td>1</td>\n",
       "      <td>1</td>\n",
       "      <td>1</td>\n",
       "      <td>1</td>\n",
       "      <td>1</td>\n",
       "      <td>1</td>\n",
       "      <td>1</td>\n",
       "      <td>264</td>\n",
       "      <td>2018-19</td>\n",
       "    </tr>\n",
       "  </tbody>\n",
       "</table>\n",
       "<p>1 rows × 65 columns</p>\n",
       "</div>"
      ],
      "text/plain": [
       "  GROUP_SET GROUP_VALUE     TEAM_ID TEAM_ABBREVIATION        MAX_GAME_DATE  \\\n",
       "0   By Year     2018-19  1610612746               LAC  2019-03-28T00:00:00   \n",
       "\n",
       "   GP  W  L  W_PCT        MIN    ...     BLKA_RANK  PF_RANK  PFD_RANK  \\\n",
       "0   2  0  2    0.0  14.766667    ...             1        1         1   \n",
       "\n",
       "   PTS_RANK  PLUS_MINUS_RANK  NBA_FANTASY_PTS_RANK  DD2_RANK  TD3_RANK  CFID  \\\n",
       "0         1                1                     1         1         1   264   \n",
       "\n",
       "   CFPARAMS  \n",
       "0   2018-19  \n",
       "\n",
       "[1 rows x 65 columns]"
      ]
     },
     "execution_count": 27,
     "metadata": {},
     "output_type": "execute_result"
    }
   ],
   "source": [
    "# The point for other player stats, aside from shooting and blocking\n",
    "player.PlayerYearOverYearSplits(player_id, per_mode=\"Per48\").by_year()"
   ]
  },
  {
   "cell_type": "code",
   "execution_count": 28,
   "metadata": {
    "ExecuteTime": {
     "end_time": "2019-05-31T19:59:40.191984Z",
     "start_time": "2019-05-31T19:59:40.023202Z"
    },
    "scrolled": true
   },
   "outputs": [],
   "source": [
    "cols_of_interest = ['OREB', 'DREB', 'AST', 'STL', \"MIN\"]\n",
    "\n",
    "# Take the most recent 2 years\n",
    "rebound_assist = player.PlayerYearOverYearSplits(player_id, per_mode=\"Per48\").by_year().iloc[:2,:]\n",
    "rebound_assist = rebound_assist[cols_of_interest]\n",
    "rebound_assist.columns = [c.lower() for c in rebound_assist.columns]"
   ]
  },
  {
   "cell_type": "code",
   "execution_count": 29,
   "metadata": {
    "ExecuteTime": {
     "end_time": "2019-05-31T19:59:40.850617Z",
     "start_time": "2019-05-31T19:59:40.841796Z"
    }
   },
   "outputs": [
    {
     "data": {
      "text/html": [
       "<div>\n",
       "<style scoped>\n",
       "    .dataframe tbody tr th:only-of-type {\n",
       "        vertical-align: middle;\n",
       "    }\n",
       "\n",
       "    .dataframe tbody tr th {\n",
       "        vertical-align: top;\n",
       "    }\n",
       "\n",
       "    .dataframe thead th {\n",
       "        text-align: right;\n",
       "    }\n",
       "</style>\n",
       "<table border=\"1\" class=\"dataframe\">\n",
       "  <thead>\n",
       "    <tr style=\"text-align: right;\">\n",
       "      <th></th>\n",
       "      <th>oreb</th>\n",
       "      <th>dreb</th>\n",
       "      <th>ast</th>\n",
       "      <th>stl</th>\n",
       "      <th>min</th>\n",
       "    </tr>\n",
       "  </thead>\n",
       "  <tbody>\n",
       "    <tr>\n",
       "      <th>0</th>\n",
       "      <td>6.5</td>\n",
       "      <td>6.5</td>\n",
       "      <td>0.0</td>\n",
       "      <td>3.3</td>\n",
       "      <td>14.766667</td>\n",
       "    </tr>\n",
       "  </tbody>\n",
       "</table>\n",
       "</div>"
      ],
      "text/plain": [
       "   oreb  dreb  ast  stl        min\n",
       "0   6.5   6.5  0.0  3.3  14.766667"
      ]
     },
     "execution_count": 29,
     "metadata": {},
     "output_type": "execute_result"
    }
   ],
   "source": [
    "rebound_assist"
   ]
  },
  {
   "cell_type": "code",
   "execution_count": 30,
   "metadata": {
    "ExecuteTime": {
     "end_time": "2019-05-31T19:59:42.153148Z",
     "start_time": "2019-05-31T19:59:42.143478Z"
    }
   },
   "outputs": [
    {
     "data": {
      "text/html": [
       "<div>\n",
       "<style scoped>\n",
       "    .dataframe tbody tr th:only-of-type {\n",
       "        vertical-align: middle;\n",
       "    }\n",
       "\n",
       "    .dataframe tbody tr th {\n",
       "        vertical-align: top;\n",
       "    }\n",
       "\n",
       "    .dataframe thead th {\n",
       "        text-align: right;\n",
       "    }\n",
       "</style>\n",
       "<table border=\"1\" class=\"dataframe\">\n",
       "  <thead>\n",
       "    <tr style=\"text-align: right;\">\n",
       "      <th></th>\n",
       "      <th>oreb</th>\n",
       "      <th>dreb</th>\n",
       "      <th>ast</th>\n",
       "      <th>stl</th>\n",
       "      <th>min</th>\n",
       "    </tr>\n",
       "  </thead>\n",
       "  <tbody>\n",
       "    <tr>\n",
       "      <th>0</th>\n",
       "      <td>6.5</td>\n",
       "      <td>6.5</td>\n",
       "      <td>0.0</td>\n",
       "      <td>3.3</td>\n",
       "      <td>14.766667</td>\n",
       "    </tr>\n",
       "  </tbody>\n",
       "</table>\n",
       "</div>"
      ],
      "text/plain": [
       "   oreb  dreb  ast  stl        min\n",
       "0   6.5   6.5  0.0  3.3  14.766667"
      ]
     },
     "execution_count": 30,
     "metadata": {},
     "output_type": "execute_result"
    }
   ],
   "source": [
    "rebound_assist_summed = pd.DataFrame(rebound_assist.sum()).T\n",
    "rebound_assist_summed"
   ]
  },
  {
   "cell_type": "code",
   "execution_count": 31,
   "metadata": {
    "ExecuteTime": {
     "end_time": "2019-05-31T19:59:42.968935Z",
     "start_time": "2019-05-31T19:59:42.961790Z"
    }
   },
   "outputs": [],
   "source": [
    "player_stat = pd.concat([player_shot_by_area.reset_index(drop=True), \n",
    "                            player_block_by_area.reset_index(drop=True), \n",
    "                            rebound_assist_summed.reset_index(drop=True)],\n",
    "                            axis=1)\n",
    "player_stat = player_stat.rename({0:player_id})"
   ]
  },
  {
   "cell_type": "code",
   "execution_count": 32,
   "metadata": {
    "ExecuteTime": {
     "end_time": "2019-05-31T19:59:44.528659Z",
     "start_time": "2019-05-31T19:59:44.511947Z"
    }
   },
   "outputs": [
    {
     "data": {
      "text/html": [
       "<div>\n",
       "<style scoped>\n",
       "    .dataframe tbody tr th:only-of-type {\n",
       "        vertical-align: middle;\n",
       "    }\n",
       "\n",
       "    .dataframe tbody tr th {\n",
       "        vertical-align: top;\n",
       "    }\n",
       "\n",
       "    .dataframe thead th {\n",
       "        text-align: right;\n",
       "    }\n",
       "</style>\n",
       "<table border=\"1\" class=\"dataframe\">\n",
       "  <thead>\n",
       "    <tr style=\"text-align: right;\">\n",
       "      <th></th>\n",
       "      <th>shot_res</th>\n",
       "      <th>shot_in_paint</th>\n",
       "      <th>shot_mid_range</th>\n",
       "      <th>shot_lcorner_3</th>\n",
       "      <th>shot_above_3</th>\n",
       "      <th>fga</th>\n",
       "      <th>block_res</th>\n",
       "      <th>block_in_paint</th>\n",
       "      <th>block_mid_range</th>\n",
       "      <th>block_lcorner_3</th>\n",
       "      <th>block_above_3</th>\n",
       "      <th>blka</th>\n",
       "      <th>oreb</th>\n",
       "      <th>dreb</th>\n",
       "      <th>ast</th>\n",
       "      <th>stl</th>\n",
       "      <th>min</th>\n",
       "    </tr>\n",
       "  </thead>\n",
       "  <tbody>\n",
       "    <tr>\n",
       "      <th>1629116</th>\n",
       "      <td>0.799998</td>\n",
       "      <td>0.2</td>\n",
       "      <td>0</td>\n",
       "      <td>0</td>\n",
       "      <td>0</td>\n",
       "      <td>5</td>\n",
       "      <td>0.499998</td>\n",
       "      <td>0.499998</td>\n",
       "      <td>0</td>\n",
       "      <td>0</td>\n",
       "      <td>0</td>\n",
       "      <td>2</td>\n",
       "      <td>6.5</td>\n",
       "      <td>6.5</td>\n",
       "      <td>0.0</td>\n",
       "      <td>3.3</td>\n",
       "      <td>14.766667</td>\n",
       "    </tr>\n",
       "  </tbody>\n",
       "</table>\n",
       "</div>"
      ],
      "text/plain": [
       "         shot_res shot_in_paint shot_mid_range shot_lcorner_3 shot_above_3  \\\n",
       "1629116  0.799998           0.2              0              0            0   \n",
       "\n",
       "         fga block_res block_in_paint block_mid_range block_lcorner_3  \\\n",
       "1629116    5  0.499998       0.499998               0               0   \n",
       "\n",
       "        block_above_3  blka  oreb  dreb  ast  stl        min  \n",
       "1629116             0     2   6.5   6.5  0.0  3.3  14.766667  "
      ]
     },
     "metadata": {},
     "output_type": "display_data"
    },
    {
     "name": "stdout",
     "output_type": "stream",
     "text": [
      "(1, 17)\n"
     ]
    }
   ],
   "source": [
    "display(player_stat)\n",
    "print(player_stat.shape)"
   ]
  },
  {
   "cell_type": "code",
   "execution_count": null,
   "metadata": {},
   "outputs": [],
   "source": []
  }
 ],
 "metadata": {
  "kernelspec": {
   "display_name": "Python 3",
   "language": "python",
   "name": "python3"
  },
  "language_info": {
   "codemirror_mode": {
    "name": "ipython",
    "version": 3
   },
   "file_extension": ".py",
   "mimetype": "text/x-python",
   "name": "python",
   "nbconvert_exporter": "python",
   "pygments_lexer": "ipython3",
   "version": "3.6.8"
  },
  "varInspector": {
   "cols": {
    "lenName": 16,
    "lenType": 16,
    "lenVar": 40
   },
   "kernels_config": {
    "python": {
     "delete_cmd_postfix": "",
     "delete_cmd_prefix": "del ",
     "library": "var_list.py",
     "varRefreshCmd": "print(var_dic_list())"
    },
    "r": {
     "delete_cmd_postfix": ") ",
     "delete_cmd_prefix": "rm(",
     "library": "var_list.r",
     "varRefreshCmd": "cat(var_dic_list()) "
    }
   },
   "types_to_exclude": [
    "module",
    "function",
    "builtin_function_or_method",
    "instance",
    "_Feature"
   ],
   "window_display": false
  }
 },
 "nbformat": 4,
 "nbformat_minor": 2
}
